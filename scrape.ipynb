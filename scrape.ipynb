{
 "cells": [
  {
   "cell_type": "markdown",
   "metadata": {},
   "source": [
    "# Libraries"
   ]
  },
  {
   "cell_type": "code",
   "execution_count": 9,
   "metadata": {},
   "outputs": [],
   "source": [
    "# Required Libraries\n",
    "from bs4 import BeautifulSoup as bs\n",
    "from selenium import webdriver\n",
    "import pandas as pd\n",
    "from time import sleep"
   ]
  },
  {
   "cell_type": "markdown",
   "metadata": {},
   "source": [
    "# Functions"
   ]
  },
  {
   "cell_type": "code",
   "execution_count": 37,
   "metadata": {},
   "outputs": [],
   "source": [
    "def get_element_text(element, value, value_type=\"class\"):\n",
    "    item = element.find(attrs={value_type: value})\n",
    "    return item.text if item else None # Return the text of the found item. If the item is not found, return 'None' as string."
   ]
  },
  {
   "cell_type": "markdown",
   "metadata": {},
   "source": [
    "# Set Up"
   ]
  },
  {
   "cell_type": "code",
   "execution_count": 4,
   "metadata": {},
   "outputs": [
    {
     "name": "stdout",
     "output_type": "stream",
     "text": [
      "Google\n"
     ]
    }
   ],
   "source": [
    "chrome_options = webdriver.ChromeOptions()\n",
    "driver = webdriver.Chrome(options=chrome_options)\n",
    "\n",
    "# Navigate to the website\n",
    "driver.get(\"https://www.google.com\")\n",
    "print(driver.title)\n",
    "\n",
    "driver.quit()"
   ]
  },
  {
   "cell_type": "markdown",
   "metadata": {},
   "source": [
    "# Building Scrape"
   ]
  },
  {
   "cell_type": "code",
   "execution_count": 6,
   "metadata": {},
   "outputs": [],
   "source": [
    "url='https://www.google.com/search?q=prabowo+gibran&sca_esv=590380016&tbs=cdr:1,cd_min:11/19/2023,cd_max:12/13/2023,sbd:1&tbm=nws&sxsrf=AM9HkKkpGP9go_-DCSOuSq5zHnXRJRnDRg:1702433299094&source=lnt&sa=X&ved=2ahUKEwi4h6-gqouDAxXJ8jgGHSloBD4QpwV6BAgCECI&biw=1710&bih=953&dpr=2'"
   ]
  },
  {
   "cell_type": "code",
   "execution_count": 58,
   "metadata": {},
   "outputs": [],
   "source": [
    "chrome_options = webdriver.ChromeOptions()\n",
    "driver = webdriver.Chrome(options=chrome_options)\n",
    "\n",
    "scrape_data=[]\n",
    "driver.get(url)\n",
    "sleep(3)\n",
    "html = driver.page_source # Get the page's html content\n",
    "soup = bs(html, \"html.parser\") # parse the html content using BeautifulSoup\n",
    "\n",
    "driver.quit()"
   ]
  },
  {
   "cell_type": "markdown",
   "metadata": {},
   "source": [
    "# Getting all the elements"
   ]
  },
  {
   "cell_type": "code",
   "execution_count": 59,
   "metadata": {},
   "outputs": [
    {
     "name": "stdout",
     "output_type": "stream",
     "text": [
      "text\n",
      "Kabar Sanggau\n",
      "[HOAKS] Paslon Prabowo-Gibran Bubar - 12/12/2023 - Kabar ...\n",
      "5 jam lalu\n",
      "\n",
      "text\n",
      "detikNews\n",
      "PSI: Prabowo-Gibran Paling Jelas Penerus Jokowi\n",
      "3 jam lalu\n",
      "\n",
      "text\n",
      "Kabar24\n",
      "TKN Optimistis Elektabilitas Prabowo-Gibran Bakal Meroket usai Debat \n",
      "Capres, Ini 4 Alasannya\n",
      "9 jam lalu\n",
      "\n",
      "text\n",
      "Nasional\n",
      "Prabowo Subianto Balas Sindiran Anies Baswedan soal Gibran Rakabuming Raka: \n",
      "Pemimpin Harus Dewasa\n",
      "22 jam lalu\n",
      "\n",
      "text\n",
      "detikcom\n",
      "TKN Prabowo-Gibran Janji Prioritaskan Swasembada Pangan di Lampung\n",
      "5 jam lalu\n",
      "\n",
      "text\n",
      "CNBC Indonesia\n",
      "Viral Gibran Heboh Ajak Soraki Prabowo Usai Tangkis Anies\n",
      "7 jam lalu\n",
      "\n",
      "text\n",
      "Nasional\n",
      "Pakar: Bansos Jokowi Dapat Membuat Elektabilitas Prabowo-Gibran Naik\n",
      "7 jam lalu\n",
      "\n",
      "text\n",
      "CNN Indonesia\n",
      "Gibran Buka Suara soal Performa Prabowo di Debat Pertama Capres\n",
      "14 jam lalu\n",
      "\n",
      "text\n",
      "Kabar24\n",
      "Kubu Prabowo-Gibran Akui Bingung dengan Sikap PDIP kepada Jokowi\n",
      "1 hari lalu\n",
      "\n",
      "text\n",
      "JawaPos.com\n",
      "Ini Langkah Prabowo-Gibran untuk Gaet Kelompok Swing Voters - Jawa Pos\n",
      "2 jam lalu\n",
      "\n"
     ]
    }
   ],
   "source": [
    "parent_tag = soup.find_all(\"div\", {\"class\": \"iRPxbe\"})\n",
    "\n",
    "for parent in parent_tag:\n",
    "    print('text')\n",
    "    media= parent.find(\"div\", {\"class\":\"MgUUmf NUnG9d\"})\n",
    "    print(media.get_text())\n",
    "    headline= parent.find(\"div\", {\"class\":\"n0jPhd ynAwRc MBeuO nDgy9d\"})\n",
    "    print(headline.get_text())\n",
    "    date= parent.find(\"div\", {\"class\":\"OSrXXb rbYSKb LfVVr\"})\n",
    "    print(date.get_text())\n",
    "    print('')"
   ]
  },
  {
   "cell_type": "code",
   "execution_count": 53,
   "metadata": {},
   "outputs": [],
   "source": [
    "data = [{\n",
    "    'Headline' : get_element_text(el,'n0jPhd ynAwRc MBeuO nDgy9d', 'class'),\n",
    "    'Media' : get_element_text(el, 'MgUUmf NUnG9d', 'class'),\n",
    "    'Date' : get_element_text(el, 'OSrXXb rbYSKb LfVVr', 'class')\n",
    "} for el in parent_tag]"
   ]
  },
  {
   "cell_type": "code",
   "execution_count": 54,
   "metadata": {},
   "outputs": [],
   "source": [
    "df= pd.DataFrame(data)"
   ]
  },
  {
   "cell_type": "code",
   "execution_count": 41,
   "metadata": {},
   "outputs": [
    {
     "data": {
      "text/html": [
       "<div>\n",
       "<style scoped>\n",
       "    .dataframe tbody tr th:only-of-type {\n",
       "        vertical-align: middle;\n",
       "    }\n",
       "\n",
       "    .dataframe tbody tr th {\n",
       "        vertical-align: top;\n",
       "    }\n",
       "\n",
       "    .dataframe thead th {\n",
       "        text-align: right;\n",
       "    }\n",
       "</style>\n",
       "<table border=\"1\" class=\"dataframe\">\n",
       "  <thead>\n",
       "    <tr style=\"text-align: right;\">\n",
       "      <th></th>\n",
       "      <th>Headline</th>\n",
       "      <th>Media</th>\n",
       "      <th>Date</th>\n",
       "    </tr>\n",
       "  </thead>\n",
       "  <tbody>\n",
       "    <tr>\n",
       "      <th>0</th>\n",
       "      <td>Gibran Buka Suara soal Performa Prabowo di Deb...</td>\n",
       "      <td>CNN Indonesia</td>\n",
       "      <td>5 jam lalu</td>\n",
       "    </tr>\n",
       "    <tr>\n",
       "      <th>1</th>\n",
       "      <td>Nobar Debat Capres, Pendukung Prabowo-Gibran K...</td>\n",
       "      <td>Regional - KOMPAS.com</td>\n",
       "      <td>10 jam lalu</td>\n",
       "    </tr>\n",
       "    <tr>\n",
       "      <th>2</th>\n",
       "      <td>Debat Capres: Prabowo-Gibran Tiba di KPU Pakai...</td>\n",
       "      <td>Kabar24</td>\n",
       "      <td>14 jam lalu</td>\n",
       "    </tr>\n",
       "    <tr>\n",
       "      <th>3</th>\n",
       "      <td>Dibela Prabowo soal Putusan MK, Gibran Langsun...</td>\n",
       "      <td>KOMPAS.com</td>\n",
       "      <td>11 jam lalu</td>\n",
       "    </tr>\n",
       "    <tr>\n",
       "      <th>4</th>\n",
       "      <td>Prabowo: Kalau Rakyat Tak Suka Prabowo-Gibran,...</td>\n",
       "      <td>CNBC Indonesia</td>\n",
       "      <td>12 jam lalu</td>\n",
       "    </tr>\n",
       "    <tr>\n",
       "      <th>5</th>\n",
       "      <td>Sindir Prabowo-Gibran, Anies: Fenomena Orang D...</td>\n",
       "      <td>Bisnis Tempo</td>\n",
       "      <td>2 jam lalu</td>\n",
       "    </tr>\n",
       "    <tr>\n",
       "      <th>6</th>\n",
       "      <td>Relawan Gaspoll Bro Banten Siap All Out Menang...</td>\n",
       "      <td>detikNews</td>\n",
       "      <td>7 jam lalu</td>\n",
       "    </tr>\n",
       "    <tr>\n",
       "      <th>7</th>\n",
       "      <td>Komunitas 'Starling' Deklarasi Dukung Prabowo-...</td>\n",
       "      <td>CNN Indonesia</td>\n",
       "      <td>4 jam lalu</td>\n",
       "    </tr>\n",
       "    <tr>\n",
       "      <th>8</th>\n",
       "      <td>TKN: Prabowo-Gibran Makin Diserang Makin Naik</td>\n",
       "      <td>detikNews</td>\n",
       "      <td>14 jam lalu</td>\n",
       "    </tr>\n",
       "    <tr>\n",
       "      <th>9</th>\n",
       "      <td>Survei Poltracking Indonesia: Prabowo-Gibran B...</td>\n",
       "      <td>KOMPAS.com</td>\n",
       "      <td>1 hari lalu</td>\n",
       "    </tr>\n",
       "  </tbody>\n",
       "</table>\n",
       "</div>"
      ],
      "text/plain": [
       "                                            Headline                  Media  \\\n",
       "0  Gibran Buka Suara soal Performa Prabowo di Deb...          CNN Indonesia   \n",
       "1  Nobar Debat Capres, Pendukung Prabowo-Gibran K...  Regional - KOMPAS.com   \n",
       "2  Debat Capres: Prabowo-Gibran Tiba di KPU Pakai...                Kabar24   \n",
       "3  Dibela Prabowo soal Putusan MK, Gibran Langsun...             KOMPAS.com   \n",
       "4  Prabowo: Kalau Rakyat Tak Suka Prabowo-Gibran,...         CNBC Indonesia   \n",
       "5  Sindir Prabowo-Gibran, Anies: Fenomena Orang D...           Bisnis Tempo   \n",
       "6  Relawan Gaspoll Bro Banten Siap All Out Menang...              detikNews   \n",
       "7  Komunitas 'Starling' Deklarasi Dukung Prabowo-...          CNN Indonesia   \n",
       "8      TKN: Prabowo-Gibran Makin Diserang Makin Naik              detikNews   \n",
       "9  Survei Poltracking Indonesia: Prabowo-Gibran B...             KOMPAS.com   \n",
       "\n",
       "          Date  \n",
       "0   5 jam lalu  \n",
       "1  10 jam lalu  \n",
       "2  14 jam lalu  \n",
       "3  11 jam lalu  \n",
       "4  12 jam lalu  \n",
       "5   2 jam lalu  \n",
       "6   7 jam lalu  \n",
       "7   4 jam lalu  \n",
       "8  14 jam lalu  \n",
       "9  1 hari lalu  "
      ]
     },
     "execution_count": 41,
     "metadata": {},
     "output_type": "execute_result"
    }
   ],
   "source": [
    "df"
   ]
  },
  {
   "cell_type": "code",
   "execution_count": 44,
   "metadata": {},
   "outputs": [
    {
     "name": "stdout",
     "output_type": "stream",
     "text": [
      "/search?q=prabowo+gibran&tbm=nws&tbs=cdr:1,cd_min:11/19/2023,cd_max:12/13/2023,sbd:1&sa=X&sca_esv=590380016&biw=1710&bih=953&gbv=1&sei=fhl5ZYO7IKaVg8UP-pu-sAg\n"
     ]
    }
   ],
   "source": [
    "link = soup.find('a', id=\"pnnext\")['href'] # to go to the next page\n",
    "print(link)"
   ]
  },
  {
   "cell_type": "code",
   "execution_count": 86,
   "metadata": {},
   "outputs": [],
   "source": [
    "chrome_options = webdriver.ChromeOptions()\n",
    "driver = webdriver.Chrome(options=chrome_options)\n",
    "\n",
    "driver.get(url)\n",
    "sleep(2)\n",
    "html = driver.page_source # Get the page's html content\n",
    "soup = bs(html, \"html.parser\") # parse the html content using BeautifulSoup\n",
    "parent_tag = soup.find_all(\"div\", {\"class\": \"iRPxbe\"})\n",
    "\n",
    "scrape_data = [{\n",
    "    'judul_berita' : get_element_text(el,'n0jPhd ynAwRc MBeuO nDgy9d', 'class'),\n",
    "    'media' : get_element_text(el, 'MgUUmf NUnG9d', 'class'),\n",
    "    'tanggal_publikasi' : get_element_text(el, 'OSrXXb rbYSKb LfVVr', 'class')\n",
    "} for el in parent_tag]\n",
    "link= soup.find('a', id=\"pnnext\")['href']\n",
    "\n",
    "while True:\n",
    "    driver.get('https://www.google.com' + link)\n",
    "    sleep(2)\n",
    "    html = driver.page_source # Get the page's html content\n",
    "    soup = bs(html, \"html.parser\") # parse the html content using BeautifulSoup\n",
    "    loop_tag = soup.find_all(\"div\", {\"class\": \"iRPxbe\"})\n",
    "    data = [{\n",
    "    'judul_berita' : get_element_text(ele,'n0jPhd ynAwRc MBeuO nDgy9d', 'class'),\n",
    "    'media' : get_element_text(ele, 'MgUUmf NUnG9d', 'class'),\n",
    "    'tanggal_publikasi' : get_element_text(ele, 'OSrXXb rbYSKb LfVVr', 'class')\n",
    "    } for ele in loop_tag]\n",
    "    scrape_data.extend(data)\n",
    "    try:\n",
    "        link= soup.find('a', id=\"pnnext\")['href']\n",
    "    except TypeError:\n",
    "        break\n",
    "driver.quit()"
   ]
  },
  {
   "cell_type": "code",
   "execution_count": 87,
   "metadata": {},
   "outputs": [
    {
     "data": {
      "text/plain": [
       "(137, 3)"
      ]
     },
     "execution_count": 87,
     "metadata": {},
     "output_type": "execute_result"
    }
   ],
   "source": [
    "df= pd.DataFrame(scrape_data)\n",
    "df.shape"
   ]
  },
  {
   "cell_type": "code",
   "execution_count": 88,
   "metadata": {},
   "outputs": [
    {
     "data": {
      "text/html": [
       "<div>\n",
       "<style scoped>\n",
       "    .dataframe tbody tr th:only-of-type {\n",
       "        vertical-align: middle;\n",
       "    }\n",
       "\n",
       "    .dataframe tbody tr th {\n",
       "        vertical-align: top;\n",
       "    }\n",
       "\n",
       "    .dataframe thead th {\n",
       "        text-align: right;\n",
       "    }\n",
       "</style>\n",
       "<table border=\"1\" class=\"dataframe\">\n",
       "  <thead>\n",
       "    <tr style=\"text-align: right;\">\n",
       "      <th></th>\n",
       "      <th>judul_berita</th>\n",
       "      <th>media</th>\n",
       "      <th>tanggal_publikasi</th>\n",
       "    </tr>\n",
       "  </thead>\n",
       "  <tbody>\n",
       "    <tr>\n",
       "      <th>0</th>\n",
       "      <td>[HOAKS] Paslon Prabowo-Gibran Bubar - 12/12/20...</td>\n",
       "      <td>Kabar Sanggau</td>\n",
       "      <td>6 jam lalu</td>\n",
       "    </tr>\n",
       "    <tr>\n",
       "      <th>1</th>\n",
       "      <td>PSI: Prabowo-Gibran Paling Jelas Penerus Jokowi</td>\n",
       "      <td>detikNews</td>\n",
       "      <td>3 jam lalu</td>\n",
       "    </tr>\n",
       "    <tr>\n",
       "      <th>2</th>\n",
       "      <td>TKN Optimistis Elektabilitas Prabowo-Gibran Ba...</td>\n",
       "      <td>Kabar24</td>\n",
       "      <td>9 jam lalu</td>\n",
       "    </tr>\n",
       "    <tr>\n",
       "      <th>3</th>\n",
       "      <td>Prabowo Subianto Balas Sindiran Anies Baswedan...</td>\n",
       "      <td>Nasional</td>\n",
       "      <td>23 jam lalu</td>\n",
       "    </tr>\n",
       "    <tr>\n",
       "      <th>4</th>\n",
       "      <td>TKN Prabowo-Gibran Janji Prioritaskan Swasemba...</td>\n",
       "      <td>detikcom</td>\n",
       "      <td>6 jam lalu</td>\n",
       "    </tr>\n",
       "    <tr>\n",
       "      <th>...</th>\n",
       "      <td>...</td>\n",
       "      <td>...</td>\n",
       "      <td>...</td>\n",
       "    </tr>\n",
       "    <tr>\n",
       "      <th>132</th>\n",
       "      <td>Prabowo-Gibran pilih layani publik di hari per...</td>\n",
       "      <td>Antaranews.com</td>\n",
       "      <td>2 minggu lalu</td>\n",
       "    </tr>\n",
       "    <tr>\n",
       "      <th>133</th>\n",
       "      <td>Usai Bertemu Ganjar, Relawan Benteng Jokowi Be...</td>\n",
       "      <td>RMOL</td>\n",
       "      <td>3 minggu lalu</td>\n",
       "    </tr>\n",
       "    <tr>\n",
       "      <th>134</th>\n",
       "      <td>Prabowo - Gibran Bakal Lanjutkan Kebijakan Hil...</td>\n",
       "      <td>Bisnis Tempo</td>\n",
       "      <td>1 minggu lalu</td>\n",
       "    </tr>\n",
       "    <tr>\n",
       "      <th>135</th>\n",
       "      <td>Soal Rencana Pengalihan Anggaran Bansos, TKN P...</td>\n",
       "      <td>KOMPAS.com</td>\n",
       "      <td>1 minggu lalu</td>\n",
       "    </tr>\n",
       "    <tr>\n",
       "      <th>136</th>\n",
       "      <td>Bahlil Bentuk Relawan Prabowo-Gibran, Arahan I...</td>\n",
       "      <td>CNBC Indonesia</td>\n",
       "      <td>2 minggu lalu</td>\n",
       "    </tr>\n",
       "  </tbody>\n",
       "</table>\n",
       "<p>137 rows × 3 columns</p>\n",
       "</div>"
      ],
      "text/plain": [
       "                                          judul_berita           media  \\\n",
       "0    [HOAKS] Paslon Prabowo-Gibran Bubar - 12/12/20...   Kabar Sanggau   \n",
       "1      PSI: Prabowo-Gibran Paling Jelas Penerus Jokowi       detikNews   \n",
       "2    TKN Optimistis Elektabilitas Prabowo-Gibran Ba...         Kabar24   \n",
       "3    Prabowo Subianto Balas Sindiran Anies Baswedan...        Nasional   \n",
       "4    TKN Prabowo-Gibran Janji Prioritaskan Swasemba...        detikcom   \n",
       "..                                                 ...             ...   \n",
       "132  Prabowo-Gibran pilih layani publik di hari per...  Antaranews.com   \n",
       "133  Usai Bertemu Ganjar, Relawan Benteng Jokowi Be...            RMOL   \n",
       "134  Prabowo - Gibran Bakal Lanjutkan Kebijakan Hil...    Bisnis Tempo   \n",
       "135  Soal Rencana Pengalihan Anggaran Bansos, TKN P...      KOMPAS.com   \n",
       "136  Bahlil Bentuk Relawan Prabowo-Gibran, Arahan I...  CNBC Indonesia   \n",
       "\n",
       "    tanggal_publikasi  \n",
       "0          6 jam lalu  \n",
       "1          3 jam lalu  \n",
       "2          9 jam lalu  \n",
       "3         23 jam lalu  \n",
       "4          6 jam lalu  \n",
       "..                ...  \n",
       "132     2 minggu lalu  \n",
       "133     3 minggu lalu  \n",
       "134     1 minggu lalu  \n",
       "135     1 minggu lalu  \n",
       "136     2 minggu lalu  \n",
       "\n",
       "[137 rows x 3 columns]"
      ]
     },
     "execution_count": 88,
     "metadata": {},
     "output_type": "execute_result"
    }
   ],
   "source": [
    "df"
   ]
  },
  {
   "cell_type": "code",
   "execution_count": 90,
   "metadata": {},
   "outputs": [],
   "source": [
    "df.to_csv('webscrape.csv', sep=';', index=False)"
   ]
  },
  {
   "cell_type": "code",
   "execution_count": 92,
   "metadata": {},
   "outputs": [],
   "source": [
    "test= pd.read_csv('webscrape.csv', delimiter=';')"
   ]
  },
  {
   "cell_type": "code",
   "execution_count": 101,
   "metadata": {},
   "outputs": [
    {
     "data": {
      "text/plain": [
       "(137, 3)"
      ]
     },
     "execution_count": 101,
     "metadata": {},
     "output_type": "execute_result"
    }
   ],
   "source": [
    "test.shape"
   ]
  },
  {
   "cell_type": "code",
   "execution_count": 98,
   "metadata": {},
   "outputs": [
    {
     "data": {
      "text/plain": [
       "judul_berita         Prabowo Subianto Balas Sindiran Anies Baswedan...\n",
       "media                                                         Nasional\n",
       "tanggal_publikasi                                          23 jam lalu\n",
       "Name: 3, dtype: object"
      ]
     },
     "execution_count": 98,
     "metadata": {},
     "output_type": "execute_result"
    }
   ],
   "source": [
    "test.iloc[3]"
   ]
  },
  {
   "cell_type": "code",
   "execution_count": 100,
   "metadata": {},
   "outputs": [
    {
     "data": {
      "text/html": [
       "<div>\n",
       "<style scoped>\n",
       "    .dataframe tbody tr th:only-of-type {\n",
       "        vertical-align: middle;\n",
       "    }\n",
       "\n",
       "    .dataframe tbody tr th {\n",
       "        vertical-align: top;\n",
       "    }\n",
       "\n",
       "    .dataframe thead th {\n",
       "        text-align: right;\n",
       "    }\n",
       "</style>\n",
       "<table border=\"1\" class=\"dataframe\">\n",
       "  <thead>\n",
       "    <tr style=\"text-align: right;\">\n",
       "      <th></th>\n",
       "      <th>judul_berita</th>\n",
       "      <th>media</th>\n",
       "      <th>tanggal_publikasi</th>\n",
       "    </tr>\n",
       "  </thead>\n",
       "  <tbody>\n",
       "    <tr>\n",
       "      <th>0</th>\n",
       "      <td>[HOAKS] Paslon Prabowo-Gibran Bubar - 12/12/20...</td>\n",
       "      <td>Kabar Sanggau</td>\n",
       "      <td>6 jam lalu</td>\n",
       "    </tr>\n",
       "    <tr>\n",
       "      <th>1</th>\n",
       "      <td>PSI: Prabowo-Gibran Paling Jelas Penerus Jokowi</td>\n",
       "      <td>detikNews</td>\n",
       "      <td>3 jam lalu</td>\n",
       "    </tr>\n",
       "    <tr>\n",
       "      <th>2</th>\n",
       "      <td>TKN Optimistis Elektabilitas Prabowo-Gibran Ba...</td>\n",
       "      <td>Kabar24</td>\n",
       "      <td>9 jam lalu</td>\n",
       "    </tr>\n",
       "    <tr>\n",
       "      <th>3</th>\n",
       "      <td>Prabowo Subianto Balas Sindiran Anies Baswedan...</td>\n",
       "      <td>Nasional</td>\n",
       "      <td>23 jam lalu</td>\n",
       "    </tr>\n",
       "    <tr>\n",
       "      <th>4</th>\n",
       "      <td>TKN Prabowo-Gibran Janji Prioritaskan Swasemba...</td>\n",
       "      <td>detikcom</td>\n",
       "      <td>6 jam lalu</td>\n",
       "    </tr>\n",
       "  </tbody>\n",
       "</table>\n",
       "</div>"
      ],
      "text/plain": [
       "                                        judul_berita          media  \\\n",
       "0  [HOAKS] Paslon Prabowo-Gibran Bubar - 12/12/20...  Kabar Sanggau   \n",
       "1    PSI: Prabowo-Gibran Paling Jelas Penerus Jokowi      detikNews   \n",
       "2  TKN Optimistis Elektabilitas Prabowo-Gibran Ba...        Kabar24   \n",
       "3  Prabowo Subianto Balas Sindiran Anies Baswedan...       Nasional   \n",
       "4  TKN Prabowo-Gibran Janji Prioritaskan Swasemba...       detikcom   \n",
       "\n",
       "  tanggal_publikasi  \n",
       "0        6 jam lalu  \n",
       "1        3 jam lalu  \n",
       "2        9 jam lalu  \n",
       "3       23 jam lalu  \n",
       "4        6 jam lalu  "
      ]
     },
     "execution_count": 100,
     "metadata": {},
     "output_type": "execute_result"
    }
   ],
   "source": [
    "test.iloc[0:5]"
   ]
  },
  {
   "cell_type": "code",
   "execution_count": null,
   "metadata": {},
   "outputs": [],
   "source": []
  }
 ],
 "metadata": {
  "kernelspec": {
   "display_name": "main",
   "language": "python",
   "name": "python3"
  },
  "language_info": {
   "codemirror_mode": {
    "name": "ipython",
    "version": 3
   },
   "file_extension": ".py",
   "mimetype": "text/x-python",
   "name": "python",
   "nbconvert_exporter": "python",
   "pygments_lexer": "ipython3",
   "version": "3.9.18"
  }
 },
 "nbformat": 4,
 "nbformat_minor": 2
}
