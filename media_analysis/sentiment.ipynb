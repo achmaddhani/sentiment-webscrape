{
 "cells": [
  {
   "cell_type": "markdown",
   "metadata": {},
   "source": [
    "# Introduction"
   ]
  },
  {
   "cell_type": "markdown",
   "metadata": {},
   "source": [
    "Team Members:\n",
    "\n",
    "- Achmad Dhani\n",
    "\n",
    "- Faris Arief Mawardi\n",
    "\n",
    "Notebook PIC: Achmad Dhani"
   ]
  },
  {
   "cell_type": "markdown",
   "metadata": {},
   "source": [
    "# Import Libraries and Model"
   ]
  },
  {
   "cell_type": "code",
   "execution_count": 46,
   "metadata": {},
   "outputs": [],
   "source": [
    "import warnings\n",
    "warnings.filterwarnings(\"ignore\")"
   ]
  },
  {
   "cell_type": "code",
   "execution_count": 47,
   "metadata": {},
   "outputs": [],
   "source": [
    "from transformers import pipeline\n",
    "import pandas as pd"
   ]
  },
  {
   "cell_type": "code",
   "execution_count": null,
   "metadata": {},
   "outputs": [],
   "source": [
    "pretrained_name = \"w11wo/indonesian-roberta-base-sentiment-classifier\"\n",
    "\n",
    "nlp = pipeline(\n",
    "    \"sentiment-analysis\",\n",
    "    model=pretrained_name,\n",
    "    tokenizer=pretrained_name\n",
    ")"
   ]
  },
  {
   "cell_type": "markdown",
   "metadata": {},
   "source": [
    "# Functions"
   ]
  },
  {
   "cell_type": "code",
   "execution_count": 48,
   "metadata": {},
   "outputs": [],
   "source": [
    "def sentiment_result(text):\n",
    "    result= nlp(text)\n",
    "    if result[0]['label'] == 'positive':\n",
    "        return 'positif'\n",
    "    elif result[0]['label'] == 'negative':\n",
    "        return 'negatif'\n",
    "    else:\n",
    "        return 'netral'"
   ]
  },
  {
   "cell_type": "markdown",
   "metadata": {},
   "source": [
    "# Sentiment Analysis"
   ]
  },
  {
   "cell_type": "code",
   "execution_count": 50,
   "metadata": {},
   "outputs": [],
   "source": [
    "test = nlp('saya senang sekali hari ini')"
   ]
  },
  {
   "cell_type": "code",
   "execution_count": 54,
   "metadata": {},
   "outputs": [
    {
     "name": "stdout",
     "output_type": "stream",
     "text": [
      "[{'label': 'positive', 'score': 0.99562007188797}]\n"
     ]
    }
   ],
   "source": [
    "print(test)"
   ]
  },
  {
   "cell_type": "code",
   "execution_count": 51,
   "metadata": {},
   "outputs": [],
   "source": [
    "df= pd.read_csv('webscrape.csv', delimiter=';')"
   ]
  },
  {
   "cell_type": "code",
   "execution_count": 52,
   "metadata": {},
   "outputs": [
    {
     "name": "stdout",
     "output_type": "stream",
     "text": [
      "<class 'pandas.core.frame.DataFrame'>\n",
      "RangeIndex: 2121 entries, 0 to 2120\n",
      "Data columns (total 4 columns):\n",
      " #   Column    Non-Null Count  Dtype \n",
      "---  ------    --------------  ----- \n",
      " 0   Headline  2121 non-null   object\n",
      " 1   Media     2121 non-null   object\n",
      " 2   Date      2121 non-null   object\n",
      " 3   url       2121 non-null   object\n",
      "dtypes: object(4)\n",
      "memory usage: 66.4+ KB\n"
     ]
    }
   ],
   "source": [
    "df.info()"
   ]
  },
  {
   "cell_type": "code",
   "execution_count": 27,
   "metadata": {},
   "outputs": [],
   "source": [
    "df['hasil_sentimen']= df['Headline'].apply(sentiment_result)"
   ]
  },
  {
   "cell_type": "code",
   "execution_count": 28,
   "metadata": {},
   "outputs": [
    {
     "data": {
      "text/html": [
       "<div>\n",
       "<style scoped>\n",
       "    .dataframe tbody tr th:only-of-type {\n",
       "        vertical-align: middle;\n",
       "    }\n",
       "\n",
       "    .dataframe tbody tr th {\n",
       "        vertical-align: top;\n",
       "    }\n",
       "\n",
       "    .dataframe thead th {\n",
       "        text-align: right;\n",
       "    }\n",
       "</style>\n",
       "<table border=\"1\" class=\"dataframe\">\n",
       "  <thead>\n",
       "    <tr style=\"text-align: right;\">\n",
       "      <th></th>\n",
       "      <th>Headline</th>\n",
       "      <th>Media</th>\n",
       "      <th>Date</th>\n",
       "      <th>url</th>\n",
       "      <th>hasil_sentimen</th>\n",
       "    </tr>\n",
       "  </thead>\n",
       "  <tbody>\n",
       "    <tr>\n",
       "      <th>1458</th>\n",
       "      <td>Survei New Indonesia: Prabowo-Gibran Berpotens...</td>\n",
       "      <td>Halo Semarang</td>\n",
       "      <td>9/12/2023</td>\n",
       "      <td>https://halosemarang.id/survei-new-indonesia-p...</td>\n",
       "      <td>netral</td>\n",
       "    </tr>\n",
       "    <tr>\n",
       "      <th>1333</th>\n",
       "      <td>Gelar Konsolidasi, TKN Fanta Prabowo-Gibran Si...</td>\n",
       "      <td>Inilah.com</td>\n",
       "      <td>7/12/2023</td>\n",
       "      <td>https://www.inilah.com/gelar-konsolidasi-tkn-f...</td>\n",
       "      <td>netral</td>\n",
       "    </tr>\n",
       "    <tr>\n",
       "      <th>1988</th>\n",
       "      <td>Alasan Relawan GBN Sosialisasi Prabowo Gibran ...</td>\n",
       "      <td>Fakta Banten</td>\n",
       "      <td>14/12/2023</td>\n",
       "      <td>https://faktabanten.co.id/daerah/alasan-relawa...</td>\n",
       "      <td>netral</td>\n",
       "    </tr>\n",
       "    <tr>\n",
       "      <th>1288</th>\n",
       "      <td>TKD Prabowo-Gibran Sumut soal Spanduk 'Tolak C...</td>\n",
       "      <td>detikcom</td>\n",
       "      <td>7/12/2023</td>\n",
       "      <td>https://www.detik.com/sumut/berita/d-7077416/t...</td>\n",
       "      <td>netral</td>\n",
       "    </tr>\n",
       "    <tr>\n",
       "      <th>1755</th>\n",
       "      <td>Abuya Muhtadi Dimyati Ajak Seluruh Nusantara D...</td>\n",
       "      <td>Kompasiana.com</td>\n",
       "      <td>12/12/2023</td>\n",
       "      <td>https://www.kompasiana.com/agungbudhinugroho09...</td>\n",
       "      <td>netral</td>\n",
       "    </tr>\n",
       "    <tr>\n",
       "      <th>1949</th>\n",
       "      <td>Kampanye Prabowo-Gibran di Sumsel 'Cancel', Be...</td>\n",
       "      <td>Sripoku.com</td>\n",
       "      <td>14/12/2023</td>\n",
       "      <td>https://palembang.tribunnews.com/2023/12/14/ka...</td>\n",
       "      <td>netral</td>\n",
       "    </tr>\n",
       "    <tr>\n",
       "      <th>1299</th>\n",
       "      <td>TKN Pastikan Jokowi Dukung Prabowo-Gibran di P...</td>\n",
       "      <td>detikcom</td>\n",
       "      <td>7/12/2023</td>\n",
       "      <td>https://www.detik.com/bali/nusra/d-7077413/tkn...</td>\n",
       "      <td>netral</td>\n",
       "    </tr>\n",
       "    <tr>\n",
       "      <th>1038</th>\n",
       "      <td>Demi Menangkan Prabowo Jadi Presiden, Gerindra...</td>\n",
       "      <td>Rakyat Merdeka</td>\n",
       "      <td>4/12/2023</td>\n",
       "      <td>https://rm.id/baca-berita/pemilu/200200/demi-m...</td>\n",
       "      <td>netral</td>\n",
       "    </tr>\n",
       "    <tr>\n",
       "      <th>1517</th>\n",
       "      <td>Senjata Anies-Cak Imin Menyerang Prabowo-Gibra...</td>\n",
       "      <td>Tribun-medan.com</td>\n",
       "      <td>9/12/2023</td>\n",
       "      <td>https://medan.tribunnews.com/2023/12/09/senjat...</td>\n",
       "      <td>netral</td>\n",
       "    </tr>\n",
       "    <tr>\n",
       "      <th>828</th>\n",
       "      <td>Jokowi Hadiri KTT Iklim COP28 di Dubai, Ada Pr...</td>\n",
       "      <td>Tekno Tempo.co</td>\n",
       "      <td>1/12/2023</td>\n",
       "      <td>https://tekno.tempo.co/read/1803856/jokowi-had...</td>\n",
       "      <td>netral</td>\n",
       "    </tr>\n",
       "  </tbody>\n",
       "</table>\n",
       "</div>"
      ],
      "text/plain": [
       "                                               Headline             Media  \\\n",
       "1458  Survei New Indonesia: Prabowo-Gibran Berpotens...     Halo Semarang   \n",
       "1333  Gelar Konsolidasi, TKN Fanta Prabowo-Gibran Si...        Inilah.com   \n",
       "1988  Alasan Relawan GBN Sosialisasi Prabowo Gibran ...      Fakta Banten   \n",
       "1288  TKD Prabowo-Gibran Sumut soal Spanduk 'Tolak C...          detikcom   \n",
       "1755  Abuya Muhtadi Dimyati Ajak Seluruh Nusantara D...    Kompasiana.com   \n",
       "1949  Kampanye Prabowo-Gibran di Sumsel 'Cancel', Be...       Sripoku.com   \n",
       "1299  TKN Pastikan Jokowi Dukung Prabowo-Gibran di P...          detikcom   \n",
       "1038  Demi Menangkan Prabowo Jadi Presiden, Gerindra...    Rakyat Merdeka   \n",
       "1517  Senjata Anies-Cak Imin Menyerang Prabowo-Gibra...  Tribun-medan.com   \n",
       "828   Jokowi Hadiri KTT Iklim COP28 di Dubai, Ada Pr...    Tekno Tempo.co   \n",
       "\n",
       "            Date                                                url  \\\n",
       "1458   9/12/2023  https://halosemarang.id/survei-new-indonesia-p...   \n",
       "1333   7/12/2023  https://www.inilah.com/gelar-konsolidasi-tkn-f...   \n",
       "1988  14/12/2023  https://faktabanten.co.id/daerah/alasan-relawa...   \n",
       "1288   7/12/2023  https://www.detik.com/sumut/berita/d-7077416/t...   \n",
       "1755  12/12/2023  https://www.kompasiana.com/agungbudhinugroho09...   \n",
       "1949  14/12/2023  https://palembang.tribunnews.com/2023/12/14/ka...   \n",
       "1299   7/12/2023  https://www.detik.com/bali/nusra/d-7077413/tkn...   \n",
       "1038   4/12/2023  https://rm.id/baca-berita/pemilu/200200/demi-m...   \n",
       "1517   9/12/2023  https://medan.tribunnews.com/2023/12/09/senjat...   \n",
       "828    1/12/2023  https://tekno.tempo.co/read/1803856/jokowi-had...   \n",
       "\n",
       "     hasil_sentimen  \n",
       "1458         netral  \n",
       "1333         netral  \n",
       "1988         netral  \n",
       "1288         netral  \n",
       "1755         netral  \n",
       "1949         netral  \n",
       "1299         netral  \n",
       "1038         netral  \n",
       "1517         netral  \n",
       "828          netral  "
      ]
     },
     "execution_count": 28,
     "metadata": {},
     "output_type": "execute_result"
    }
   ],
   "source": [
    "df.sample(10)"
   ]
  },
  {
   "cell_type": "code",
   "execution_count": 29,
   "metadata": {},
   "outputs": [
    {
     "data": {
      "text/plain": [
       "hasil_sentimen\n",
       "netral     1925\n",
       "negatif     135\n",
       "positif      61\n",
       "Name: count, dtype: int64"
      ]
     },
     "execution_count": 29,
     "metadata": {},
     "output_type": "execute_result"
    }
   ],
   "source": [
    "df['hasil_sentimen'].value_counts()"
   ]
  },
  {
   "cell_type": "code",
   "execution_count": 32,
   "metadata": {},
   "outputs": [],
   "source": [
    "df.rename(columns={'Headline': 'judul_berita', 'Media': 'portal_media', 'Date': 'tanggal_publikasi'}, inplace=True)"
   ]
  },
  {
   "cell_type": "markdown",
   "metadata": {},
   "source": [
    "# Exporting File"
   ]
  },
  {
   "cell_type": "code",
   "execution_count": 45,
   "metadata": {},
   "outputs": [],
   "source": [
    "df.to_csv('hasil_sentimen.csv', sep=';', index= False)"
   ]
  },
  {
   "cell_type": "code",
   "execution_count": 35,
   "metadata": {},
   "outputs": [
    {
     "data": {
      "text/plain": [
       "judul_berita         Prabowo-Gibran Nomor Urut 2, PAN: Jalan Tengah...\n",
       "portal_media                                                   Politik\n",
       "tanngal_publikasi                                           15/11/2023\n",
       "url                  https://politik.rmol.id/read/2023/11/15/597367...\n",
       "hasil_sentimen                                                  netral\n",
       "Name: 4, dtype: object"
      ]
     },
     "execution_count": 35,
     "metadata": {},
     "output_type": "execute_result"
    }
   ],
   "source": [
    "df.loc[4]"
   ]
  }
 ],
 "metadata": {
  "kernelspec": {
   "display_name": "indosentimen",
   "language": "python",
   "name": "python3"
  },
  "language_info": {
   "codemirror_mode": {
    "name": "ipython",
    "version": 3
   },
   "file_extension": ".py",
   "mimetype": "text/x-python",
   "name": "python",
   "nbconvert_exporter": "python",
   "pygments_lexer": "ipython3",
   "version": "3.9.18"
  }
 },
 "nbformat": 4,
 "nbformat_minor": 2
}
