{
 "cells": [
  {
   "cell_type": "markdown",
   "metadata": {},
   "source": [
    "# Import Libraries"
   ]
  },
  {
   "cell_type": "code",
   "execution_count": 2,
   "metadata": {},
   "outputs": [],
   "source": [
    "import pandas as pd\n",
    "import nltk\n",
    "import numpy as np\n",
    "import nltk\n",
    "from nltk.tokenize import word_tokenize\n",
    "from nlp_id.lemmatizer import Lemmatizer\n",
    "import re\n",
    "import ast"
   ]
  },
  {
   "cell_type": "code",
   "execution_count": 2,
   "metadata": {},
   "outputs": [
    {
     "name": "stderr",
     "output_type": "stream",
     "text": [
      "[nltk_data] Downloading package punkt to\n",
      "[nltk_data]     /Users/achmaddhani/nltk_data...\n",
      "[nltk_data]   Package punkt is already up-to-date!\n"
     ]
    },
    {
     "data": {
      "text/plain": [
       "True"
      ]
     },
     "execution_count": 2,
     "metadata": {},
     "output_type": "execute_result"
    }
   ],
   "source": [
    "nltk.download('punkt')"
   ]
  },
  {
   "cell_type": "code",
   "execution_count": 15,
   "metadata": {},
   "outputs": [],
   "source": [
    "with open('/Users/achmaddhani/projects/resources/NLP_bahasa_resources/combined_stop_words.txt', 'r') as file_1:\n",
    "    stop_words= file_1.read()\n",
    "    \n",
    "with open('/Users/achmaddhani/projects/resources/NLP_bahasa_resources/combined_slang_words.txt', 'r') as file_2:\n",
    "    word_variations_string= file_2.read()\n",
    "    word_variations = ast.literal_eval(word_variations_string)"
   ]
  },
  {
   "cell_type": "markdown",
   "metadata": {},
   "source": [
    "# Functions"
   ]
  },
  {
   "cell_type": "code",
   "execution_count": 17,
   "metadata": {},
   "outputs": [],
   "source": [
    "special_char_removal = re.compile(r\"[^a-zA-Z\\s\\']\")\n",
    "lemmatizer = Lemmatizer()\n",
    "\n",
    "def text_preprocessing(text):\n",
    "    text = text.lower()\n",
    "    text = special_char_removal.sub(\" \", text)\n",
    "    tokens = word_tokenize(text) # tokenization\n",
    "\n",
    "    tokens = [word_variations.get(word, word) for word in tokens]  # correcting the additional spellings\n",
    "    tokens = [lemmatizer.lemmatize(word) for word in tokens]  # Lemmatize to get the root of the words\n",
    "    tokens = [word for word in tokens if word not in stop_words]  # removing stop words\n",
    "    \n",
    "    processed_text = ' '.join(tokens)\n",
    "\n",
    "    return processed_text"
   ]
  },
  {
   "cell_type": "markdown",
   "metadata": {},
   "source": [
    "# Preprocessing"
   ]
  },
  {
   "cell_type": "code",
   "execution_count": 3,
   "metadata": {},
   "outputs": [],
   "source": [
    "df=pd.read_csv('hasil_sentimen.csv', delimiter=';')"
   ]
  },
  {
   "cell_type": "code",
   "execution_count": 19,
   "metadata": {},
   "outputs": [],
   "source": [
    "df['olahan_teks']= df['judul_berita'].apply(text_preprocessing)"
   ]
  },
  {
   "cell_type": "code",
   "execution_count": 24,
   "metadata": {},
   "outputs": [
    {
     "data": {
      "text/html": [
       "<div>\n",
       "<style scoped>\n",
       "    .dataframe tbody tr th:only-of-type {\n",
       "        vertical-align: middle;\n",
       "    }\n",
       "\n",
       "    .dataframe tbody tr th {\n",
       "        vertical-align: top;\n",
       "    }\n",
       "\n",
       "    .dataframe thead th {\n",
       "        text-align: right;\n",
       "    }\n",
       "</style>\n",
       "<table border=\"1\" class=\"dataframe\">\n",
       "  <thead>\n",
       "    <tr style=\"text-align: right;\">\n",
       "      <th></th>\n",
       "      <th>judul_berita</th>\n",
       "      <th>portal_media</th>\n",
       "      <th>tanngal_publikasi</th>\n",
       "      <th>url</th>\n",
       "      <th>hasil_sentimen</th>\n",
       "      <th>olahan_teks</th>\n",
       "    </tr>\n",
       "  </thead>\n",
       "  <tbody>\n",
       "    <tr>\n",
       "      <th>916</th>\n",
       "      <td>Deklarasi Mazilah Untuk Kemenangan Capres Prab...</td>\n",
       "      <td>Aktual Online</td>\n",
       "      <td>3/12/2023</td>\n",
       "      <td>https://aktualonline.co.id/deklarasi-mazilah-u...</td>\n",
       "      <td>netral</td>\n",
       "      <td>deklarasi mazi menang capres prabowo cawapres ...</td>\n",
       "    </tr>\n",
       "    <tr>\n",
       "      <th>1741</th>\n",
       "      <td>Prabowo-Gibran Janjikan Insentif Pajak untuk K...</td>\n",
       "      <td>Katadata</td>\n",
       "      <td>12/12/2023</td>\n",
       "      <td>https://katadata.co.id/ferrika/finansial/65781...</td>\n",
       "      <td>netral</td>\n",
       "      <td>prabowo gibran janji insentif pajak klub olahraga</td>\n",
       "    </tr>\n",
       "    <tr>\n",
       "      <th>206</th>\n",
       "      <td>Cara Prabowo-Gibran Atasi Pengangguran: Beri I...</td>\n",
       "      <td>Bisnis Tempo</td>\n",
       "      <td>19/11/2023</td>\n",
       "      <td>https://bisnis.tempo.co/read/1798541/cara-prab...</td>\n",
       "      <td>netral</td>\n",
       "      <td>prabowo gibran anggur insentif usaha</td>\n",
       "    </tr>\n",
       "    <tr>\n",
       "      <th>462</th>\n",
       "      <td>Ada Ajakan Memilih Prabowo-Gibran, Konser Musi...</td>\n",
       "      <td>Tribun Jateng</td>\n",
       "      <td>24/11/2023</td>\n",
       "      <td>https://jateng.tribunnews.com/2023/11/24/ada-a...</td>\n",
       "      <td>netral</td>\n",
       "      <td>ajak pilih prabowo gibran konser musik indones...</td>\n",
       "    </tr>\n",
       "    <tr>\n",
       "      <th>1059</th>\n",
       "      <td>Prabowo Berikan Penghormatan Terakhir ke Doni ...</td>\n",
       "      <td>KOMPAS.tv</td>\n",
       "      <td>4/12/2023</td>\n",
       "      <td>https://www.kompas.tv/video/466432/prabowo-ber...</td>\n",
       "      <td>netral</td>\n",
       "      <td>prabowo hormat doni monardo gibran kampanye su...</td>\n",
       "    </tr>\n",
       "    <tr>\n",
       "      <th>874</th>\n",
       "      <td>Petinggi Relawan Bepro Sambangi Yuni Astuti, A...</td>\n",
       "      <td>Jogjapolitan</td>\n",
       "      <td>2/12/2023</td>\n",
       "      <td>https://jogjapolitan.harianjogja.com/read/2023...</td>\n",
       "      <td>netral</td>\n",
       "      <td>petinggi rawan bepro sambang yuni astuti apres...</td>\n",
       "    </tr>\n",
       "    <tr>\n",
       "      <th>1111</th>\n",
       "      <td>TKN Prabowo-Gibran: Kenaikan Anggaran Alutsist...</td>\n",
       "      <td>BeritaSatu.com</td>\n",
       "      <td>5/12/2023</td>\n",
       "      <td>https://www.beritasatu.com/nasional/2785151/tk...</td>\n",
       "      <td>netral</td>\n",
       "      <td>tkn prabowo gibran anggar alutsista sepakat apbn</td>\n",
       "    </tr>\n",
       "    <tr>\n",
       "      <th>634</th>\n",
       "      <td>Netizen Bongkar Jadwal Uji Publik Capres-Cawap...</td>\n",
       "      <td>jurnas.com</td>\n",
       "      <td>29/11/2023</td>\n",
       "      <td>https://www.jurnas.com/artikel/147544/Netizen-...</td>\n",
       "      <td>netral</td>\n",
       "      <td>netizen bongkar jadwal uji publik capres cawapres</td>\n",
       "    </tr>\n",
       "    <tr>\n",
       "      <th>981</th>\n",
       "      <td>Nyatakan Prabowo-Gibran Siap Debat dengan Form...</td>\n",
       "      <td>KOMPAS.com</td>\n",
       "      <td>4/12/2023</td>\n",
       "      <td>https://nasional.kompas.com/read/2023/12/04/18...</td>\n",
       "      <td>netral</td>\n",
       "      <td>prabowo gibran debat format tkn bahasa inggris...</td>\n",
       "    </tr>\n",
       "    <tr>\n",
       "      <th>1806</th>\n",
       "      <td>Didatangi Gibran, Solidaritas Nelayan Indonesi...</td>\n",
       "      <td>JPNN.com</td>\n",
       "      <td>12/12/2023</td>\n",
       "      <td>https://www.jpnn.com/news/didatangi-gibran-sol...</td>\n",
       "      <td>netral</td>\n",
       "      <td>gibran solidaritas nelayan indonesia muara</td>\n",
       "    </tr>\n",
       "  </tbody>\n",
       "</table>\n",
       "</div>"
      ],
      "text/plain": [
       "                                           judul_berita    portal_media  \\\n",
       "916   Deklarasi Mazilah Untuk Kemenangan Capres Prab...   Aktual Online   \n",
       "1741  Prabowo-Gibran Janjikan Insentif Pajak untuk K...        Katadata   \n",
       "206   Cara Prabowo-Gibran Atasi Pengangguran: Beri I...    Bisnis Tempo   \n",
       "462   Ada Ajakan Memilih Prabowo-Gibran, Konser Musi...   Tribun Jateng   \n",
       "1059  Prabowo Berikan Penghormatan Terakhir ke Doni ...       KOMPAS.tv   \n",
       "874   Petinggi Relawan Bepro Sambangi Yuni Astuti, A...    Jogjapolitan   \n",
       "1111  TKN Prabowo-Gibran: Kenaikan Anggaran Alutsist...  BeritaSatu.com   \n",
       "634   Netizen Bongkar Jadwal Uji Publik Capres-Cawap...      jurnas.com   \n",
       "981   Nyatakan Prabowo-Gibran Siap Debat dengan Form...      KOMPAS.com   \n",
       "1806  Didatangi Gibran, Solidaritas Nelayan Indonesi...        JPNN.com   \n",
       "\n",
       "     tanngal_publikasi                                                url  \\\n",
       "916          3/12/2023  https://aktualonline.co.id/deklarasi-mazilah-u...   \n",
       "1741        12/12/2023  https://katadata.co.id/ferrika/finansial/65781...   \n",
       "206         19/11/2023  https://bisnis.tempo.co/read/1798541/cara-prab...   \n",
       "462         24/11/2023  https://jateng.tribunnews.com/2023/11/24/ada-a...   \n",
       "1059         4/12/2023  https://www.kompas.tv/video/466432/prabowo-ber...   \n",
       "874          2/12/2023  https://jogjapolitan.harianjogja.com/read/2023...   \n",
       "1111         5/12/2023  https://www.beritasatu.com/nasional/2785151/tk...   \n",
       "634         29/11/2023  https://www.jurnas.com/artikel/147544/Netizen-...   \n",
       "981          4/12/2023  https://nasional.kompas.com/read/2023/12/04/18...   \n",
       "1806        12/12/2023  https://www.jpnn.com/news/didatangi-gibran-sol...   \n",
       "\n",
       "     hasil_sentimen                                        olahan_teks  \n",
       "916          netral  deklarasi mazi menang capres prabowo cawapres ...  \n",
       "1741         netral  prabowo gibran janji insentif pajak klub olahraga  \n",
       "206          netral               prabowo gibran anggur insentif usaha  \n",
       "462          netral  ajak pilih prabowo gibran konser musik indones...  \n",
       "1059         netral  prabowo hormat doni monardo gibran kampanye su...  \n",
       "874          netral  petinggi rawan bepro sambang yuni astuti apres...  \n",
       "1111         netral   tkn prabowo gibran anggar alutsista sepakat apbn  \n",
       "634          netral  netizen bongkar jadwal uji publik capres cawapres  \n",
       "981          netral  prabowo gibran debat format tkn bahasa inggris...  \n",
       "1806         netral         gibran solidaritas nelayan indonesia muara  "
      ]
     },
     "execution_count": 24,
     "metadata": {},
     "output_type": "execute_result"
    }
   ],
   "source": [
    "df.sample(10)"
   ]
  },
  {
   "cell_type": "code",
   "execution_count": 26,
   "metadata": {},
   "outputs": [],
   "source": [
    "df.to_csv('hasil_akhir.csv', sep=';', index=False)"
   ]
  }
 ],
 "metadata": {
  "kernelspec": {
   "display_name": "indosentimen",
   "language": "python",
   "name": "python3"
  },
  "language_info": {
   "codemirror_mode": {
    "name": "ipython",
    "version": 3
   },
   "file_extension": ".py",
   "mimetype": "text/x-python",
   "name": "python",
   "nbconvert_exporter": "python",
   "pygments_lexer": "ipython3",
   "version": "3.9.18"
  }
 },
 "nbformat": 4,
 "nbformat_minor": 2
}
