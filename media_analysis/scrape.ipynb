{
 "cells": [
  {
   "cell_type": "markdown",
   "metadata": {},
   "source": [
    "# Introduction"
   ]
  },
  {
   "cell_type": "markdown",
   "metadata": {},
   "source": [
    "Team Members:\n",
    "\n",
    "- Achmad Dhani\n",
    "\n",
    "- Faris Arief Mawardi\n",
    "\n",
    "Notebook PIC: Achmad Dhani"
   ]
  },
  {
   "cell_type": "markdown",
   "metadata": {},
   "source": [
    "# Libraries"
   ]
  },
  {
   "cell_type": "code",
   "execution_count": 18,
   "metadata": {},
   "outputs": [],
   "source": [
    "# Required Libraries\n",
    "from bs4 import BeautifulSoup as bs\n",
    "from selenium import webdriver\n",
    "import pandas as pd\n",
    "from time import sleep"
   ]
  },
  {
   "cell_type": "markdown",
   "metadata": {},
   "source": [
    "# Functions"
   ]
  },
  {
   "cell_type": "code",
   "execution_count": 29,
   "metadata": {},
   "outputs": [],
   "source": [
    "def get_element_text(element, value, value_type=\"class\"):\n",
    "    item = element.find(attrs={value_type: value})\n",
    "    return item.text if item else None # Return the text of the found item. If the item is not found, return 'None' as string.\n",
    "\n",
    "def get_data(parent_tag_, day_, month_):\n",
    "    data = [{\n",
    "    'Headline' : get_element_text(el,'n0jPhd ynAwRc MBeuO nDgy9d', 'class'),\n",
    "    'Media' : get_element_text(el, 'MgUUmf NUnG9d', 'class'),\n",
    "    'Date' : f\"{day_}/{month_}/2023\",\n",
    "    'url': el.find(\"a\", {\"class\":\"WlydOe\"})['href']\n",
    "    } for el in parent_tag_]\n",
    "    return data\n",
    "\n",
    "scrape_data= []\n",
    "\n",
    "\n",
    "# final code\n",
    "def scraping(month, day):\n",
    "    chrome_options = webdriver.ChromeOptions()\n",
    "    driver = webdriver.Chrome(options=chrome_options)\n",
    "\n",
    "    url=f\"https://www.google.com/search?q=prabowo+gibran&sca_esv=590380016&biw=1710&bih=953&sxsrf=AM9HkKl2jyc3pgk2OS3bmHnxuxjCN9ANBw%3A1702718802779&source=lnt&tbs=sbd%3A1%2Ccdr%3A1%2Ccd_min%3A{month}%2F{day}%2F2023%2Ccd_max%3A{month}%2F{day}%2F2023&tbm=nws\"\n",
    "    driver.get(url)\n",
    "    sleep(2)\n",
    "    html = driver.page_source # Get the page's html content\n",
    "    soup = bs(html, \"html.parser\") # parse the html content using BeautifulSoup\n",
    "    main_tag = soup.find_all(\"div\", {\"class\": \"SoaBEf\"})\n",
    "    first_data= get_data(main_tag, day, month)\n",
    "    scrape_data.extend(first_data)\n",
    "    link= soup.find('a', id=\"pnnext\")['href']\n",
    "\n",
    "    while True:\n",
    "        driver.get('https://www.google.com' + link)\n",
    "        sleep(2)\n",
    "        html = driver.page_source # Get the page's html content\n",
    "        soup = bs(html, \"html.parser\") # parse the html content using BeautifulSoup\n",
    "        loop_tag = soup.find_all(\"div\", {\"class\": \"SoaBEf\"})\n",
    "        next_data = get_data(loop_tag, day, month)\n",
    "        scrape_data.extend(next_data)\n",
    "        try:\n",
    "            link= soup.find('a', id=\"pnnext\")['href']\n",
    "        except TypeError:\n",
    "            break\n",
    "    driver.quit()"
   ]
  },
  {
   "cell_type": "markdown",
   "metadata": {},
   "source": [
    "# Set Up"
   ]
  },
  {
   "cell_type": "code",
   "execution_count": 3,
   "metadata": {},
   "outputs": [
    {
     "name": "stdout",
     "output_type": "stream",
     "text": [
      "Google\n"
     ]
    }
   ],
   "source": [
    "chrome_options = webdriver.ChromeOptions()\n",
    "driver = webdriver.Chrome(options=chrome_options)\n",
    "\n",
    "# Navigate to the website\n",
    "driver.get(\"https://www.google.com\")\n",
    "print(driver.title)\n",
    "\n",
    "driver.quit()"
   ]
  },
  {
   "cell_type": "markdown",
   "metadata": {},
   "source": [
    "# Building Scrape"
   ]
  },
  {
   "cell_type": "code",
   "execution_count": 23,
   "metadata": {},
   "outputs": [],
   "source": [
    "url='https://www.google.com/search?q=prabowo+gibran&sca_esv=590380016&biw=1710&bih=953&sxsrf=AM9HkKl2jyc3pgk2OS3bmHnxuxjCN9ANBw%3A1702718802779&source=lnt&tbs=sbd%3A1%2Ccdr%3A1%2Ccd_min%3A11%2F15%2F2023%2Ccd_max%3A12%2F15%2F2023&tbm=nws'"
   ]
  },
  {
   "cell_type": "code",
   "execution_count": 27,
   "metadata": {},
   "outputs": [],
   "source": [
    "chrome_options = webdriver.ChromeOptions()\n",
    "driver = webdriver.Chrome(options=chrome_options)"
   ]
  },
  {
   "cell_type": "code",
   "execution_count": 29,
   "metadata": {},
   "outputs": [],
   "source": [
    "chrome_options = webdriver.ChromeOptions()\n",
    "driver = webdriver.Chrome(options=chrome_options)\n",
    "\n",
    "scrape_data=[]\n",
    "driver.get(url)\n",
    "sleep(3)\n",
    "html = driver.page_source # Get the page's html content\n",
    "soup = bs(html, \"html.parser\") # parse the html content using BeautifulSoup\n",
    "\n",
    "driver.quit()"
   ]
  },
  {
   "cell_type": "markdown",
   "metadata": {},
   "source": [
    "# Getting all the elements"
   ]
  },
  {
   "cell_type": "code",
   "execution_count": 36,
   "metadata": {},
   "outputs": [
    {
     "name": "stdout",
     "output_type": "stream",
     "text": [
      "Bisnis Tempo\n",
      "Prabowo-Gibran Diklaim Bisa Sejahterakan Petani dan Peternak\n",
      "2 hari lalu\n",
      "https://bisnis.tempo.co/read/1809886/prabowo-gibran-diklaim-bisa-sejahterakan-petani-dan-peternak\n",
      "\n",
      "KOMPAS.com\n",
      "Ini Jurus Prabowo-Gibran Atasi Kekerasan terhadap ...\n",
      "2 hari lalu\n",
      "https://nasional.kompas.com/read/2023/12/15/18061001/ini-jurus-prabowo-gibran-atasi-kekerasan-terhadap-perempuan-dan-anak\n",
      "\n",
      "detikcom\n",
      "7 Baliho Prabowo-Gibran di Pati Sobek, Loyalis: Milik Capres Lain Masih Utuh\n",
      "2 hari lalu\n",
      "https://www.detik.com/jateng/berita/d-7092148/7-baliho-prabowo-gibran-di-pati-sobek-loyalis-milik-capres-lain-masih-utuh\n",
      "\n",
      "Finansial Bisnis\n",
      "Chandra Arie Mundur dari Bank Mandiri Taspen, Gabung TKN Prabowo-Gibran\n",
      "3 hari lalu\n",
      "https://finansial.bisnis.com/read/20231214/90/1724032/chandra-arie-mundur-dari-bank-mandiri-taspen-gabung-tkn-prabowo-gibran\n",
      "\n",
      "Antaranews.com\n",
      "Repnas Prabowo-Gibran akan luncurkan program Super Mentor\n",
      "1 hari lalu\n",
      "https://www.antaranews.com/berita/3874161/repnas-prabowo-gibran-akan-luncurkan-program-super-mentor\n",
      "\n",
      "CNBC Indonesia\n",
      "Prabowo: Kalau Rakyat Tak Suka Prabowo-Gibran, Jangan Pilih!\n",
      "4 hari lalu\n",
      "https://www.cnbcindonesia.com/news/20231212211902-4-496666/prabowo-kalau-rakyat-tak-suka-prabowo-gibran-jangan-pilih\n",
      "\n",
      "detikNews\n",
      "Nelayan Cilacap Gelar Deklarasi Dukung Prabowo-Gibran di Pilpres 2024\n",
      "2 hari lalu\n",
      "https://news.detik.com/pemilu/d-7091452/nelayan-cilacap-gelar-deklarasi-dukung-prabowo-gibran-di-pilpres-2024\n",
      "\n",
      "KOMPAS.com\n",
      "KPU Bakal Tegur Gibran Usai Bakar Semangat Saat Debat, TKN Prabowo: Kita \n",
      "Terima - Kompas.com\n",
      "3 hari lalu\n",
      "https://nasional.kompas.com/read/2023/12/14/11030331/kpu-bakal-tegur-gibran-usai-bakar-semangat-saat-debat-tkn-prabowo-kita\n",
      "\n",
      "detikcom\n",
      "Viral Bantuan Presiden Dibagikan Tim Prabowo-Gibran, TKD Solo: Hoaks!\n",
      "1 hari lalu\n",
      "https://www.detik.com/jateng/berita/d-7092364/viral-bantuan-presiden-dibagikan-tim-prabowo-gibran-tkd-solo-hoaks\n",
      "\n",
      "detikcom\n",
      "Hasil Survei Prabowo-Gibran Unggul di Bali, Pengaruh Jokowi?\n",
      "6 hari lalu\n",
      "https://www.detik.com/bali/berita/d-7083660/hasil-survei-prabowo-gibran-unggul-di-bali-pengaruh-jokowi\n",
      "\n"
     ]
    }
   ],
   "source": [
    "parent_tag = soup.find_all(\"div\", {\"class\":\"SoaBEf\"})\n",
    "for parent in parent_tag:\n",
    "    media= parent.find(\"div\", {\"class\":\"MgUUmf NUnG9d\"})\n",
    "    print(media.get_text())\n",
    "    headline= parent.find(\"div\", {\"class\":\"n0jPhd ynAwRc MBeuO nDgy9d\"})\n",
    "    print(headline.get_text())\n",
    "    date= parent.find(\"div\", {\"class\":\"OSrXXb rbYSKb LfVVr\"})\n",
    "    print(date.get_text())\n",
    "    news_link= parent.find(\"a\", {\"class\":\"WlydOe\"})['href']\n",
    "    print(news_link)\n",
    "    print('')"
   ]
  },
  {
   "cell_type": "code",
   "execution_count": 37,
   "metadata": {},
   "outputs": [],
   "source": [
    "data = [{\n",
    "    'Headline' : get_element_text(el,'n0jPhd ynAwRc MBeuO nDgy9d', 'class'),\n",
    "    'Media' : get_element_text(el, 'MgUUmf NUnG9d', 'class'),\n",
    "    'Date' : get_element_text(el, 'OSrXXb rbYSKb LfVVr', 'class'),\n",
    "    'url': el.find(\"a\", {\"class\":\"WlydOe\"})['href']\n",
    "} for el in parent_tag]"
   ]
  },
  {
   "cell_type": "code",
   "execution_count": 38,
   "metadata": {},
   "outputs": [],
   "source": [
    "df= pd.DataFrame(data)"
   ]
  },
  {
   "cell_type": "code",
   "execution_count": 39,
   "metadata": {},
   "outputs": [
    {
     "data": {
      "text/html": [
       "<div>\n",
       "<style scoped>\n",
       "    .dataframe tbody tr th:only-of-type {\n",
       "        vertical-align: middle;\n",
       "    }\n",
       "\n",
       "    .dataframe tbody tr th {\n",
       "        vertical-align: top;\n",
       "    }\n",
       "\n",
       "    .dataframe thead th {\n",
       "        text-align: right;\n",
       "    }\n",
       "</style>\n",
       "<table border=\"1\" class=\"dataframe\">\n",
       "  <thead>\n",
       "    <tr style=\"text-align: right;\">\n",
       "      <th></th>\n",
       "      <th>Headline</th>\n",
       "      <th>Media</th>\n",
       "      <th>Date</th>\n",
       "      <th>url</th>\n",
       "    </tr>\n",
       "  </thead>\n",
       "  <tbody>\n",
       "    <tr>\n",
       "      <th>0</th>\n",
       "      <td>Prabowo-Gibran Diklaim Bisa Sejahterakan Petan...</td>\n",
       "      <td>Bisnis Tempo</td>\n",
       "      <td>2 hari lalu</td>\n",
       "      <td>https://bisnis.tempo.co/read/1809886/prabowo-g...</td>\n",
       "    </tr>\n",
       "    <tr>\n",
       "      <th>1</th>\n",
       "      <td>Ini Jurus Prabowo-Gibran Atasi Kekerasan terha...</td>\n",
       "      <td>KOMPAS.com</td>\n",
       "      <td>2 hari lalu</td>\n",
       "      <td>https://nasional.kompas.com/read/2023/12/15/18...</td>\n",
       "    </tr>\n",
       "    <tr>\n",
       "      <th>2</th>\n",
       "      <td>7 Baliho Prabowo-Gibran di Pati Sobek, Loyalis...</td>\n",
       "      <td>detikcom</td>\n",
       "      <td>2 hari lalu</td>\n",
       "      <td>https://www.detik.com/jateng/berita/d-7092148/...</td>\n",
       "    </tr>\n",
       "    <tr>\n",
       "      <th>3</th>\n",
       "      <td>Chandra Arie Mundur dari Bank Mandiri Taspen, ...</td>\n",
       "      <td>Finansial Bisnis</td>\n",
       "      <td>3 hari lalu</td>\n",
       "      <td>https://finansial.bisnis.com/read/20231214/90/...</td>\n",
       "    </tr>\n",
       "    <tr>\n",
       "      <th>4</th>\n",
       "      <td>Repnas Prabowo-Gibran akan luncurkan program S...</td>\n",
       "      <td>Antaranews.com</td>\n",
       "      <td>1 hari lalu</td>\n",
       "      <td>https://www.antaranews.com/berita/3874161/repn...</td>\n",
       "    </tr>\n",
       "    <tr>\n",
       "      <th>5</th>\n",
       "      <td>Prabowo: Kalau Rakyat Tak Suka Prabowo-Gibran,...</td>\n",
       "      <td>CNBC Indonesia</td>\n",
       "      <td>4 hari lalu</td>\n",
       "      <td>https://www.cnbcindonesia.com/news/20231212211...</td>\n",
       "    </tr>\n",
       "    <tr>\n",
       "      <th>6</th>\n",
       "      <td>Nelayan Cilacap Gelar Deklarasi Dukung Prabowo...</td>\n",
       "      <td>detikNews</td>\n",
       "      <td>2 hari lalu</td>\n",
       "      <td>https://news.detik.com/pemilu/d-7091452/nelaya...</td>\n",
       "    </tr>\n",
       "    <tr>\n",
       "      <th>7</th>\n",
       "      <td>KPU Bakal Tegur Gibran Usai Bakar Semangat Saa...</td>\n",
       "      <td>KOMPAS.com</td>\n",
       "      <td>3 hari lalu</td>\n",
       "      <td>https://nasional.kompas.com/read/2023/12/14/11...</td>\n",
       "    </tr>\n",
       "    <tr>\n",
       "      <th>8</th>\n",
       "      <td>Viral Bantuan Presiden Dibagikan Tim Prabowo-G...</td>\n",
       "      <td>detikcom</td>\n",
       "      <td>1 hari lalu</td>\n",
       "      <td>https://www.detik.com/jateng/berita/d-7092364/...</td>\n",
       "    </tr>\n",
       "    <tr>\n",
       "      <th>9</th>\n",
       "      <td>Hasil Survei Prabowo-Gibran Unggul di Bali, Pe...</td>\n",
       "      <td>detikcom</td>\n",
       "      <td>6 hari lalu</td>\n",
       "      <td>https://www.detik.com/bali/berita/d-7083660/ha...</td>\n",
       "    </tr>\n",
       "  </tbody>\n",
       "</table>\n",
       "</div>"
      ],
      "text/plain": [
       "                                            Headline             Media  \\\n",
       "0  Prabowo-Gibran Diklaim Bisa Sejahterakan Petan...      Bisnis Tempo   \n",
       "1  Ini Jurus Prabowo-Gibran Atasi Kekerasan terha...        KOMPAS.com   \n",
       "2  7 Baliho Prabowo-Gibran di Pati Sobek, Loyalis...          detikcom   \n",
       "3  Chandra Arie Mundur dari Bank Mandiri Taspen, ...  Finansial Bisnis   \n",
       "4  Repnas Prabowo-Gibran akan luncurkan program S...    Antaranews.com   \n",
       "5  Prabowo: Kalau Rakyat Tak Suka Prabowo-Gibran,...    CNBC Indonesia   \n",
       "6  Nelayan Cilacap Gelar Deklarasi Dukung Prabowo...         detikNews   \n",
       "7  KPU Bakal Tegur Gibran Usai Bakar Semangat Saa...        KOMPAS.com   \n",
       "8  Viral Bantuan Presiden Dibagikan Tim Prabowo-G...          detikcom   \n",
       "9  Hasil Survei Prabowo-Gibran Unggul di Bali, Pe...          detikcom   \n",
       "\n",
       "          Date                                                url  \n",
       "0  2 hari lalu  https://bisnis.tempo.co/read/1809886/prabowo-g...  \n",
       "1  2 hari lalu  https://nasional.kompas.com/read/2023/12/15/18...  \n",
       "2  2 hari lalu  https://www.detik.com/jateng/berita/d-7092148/...  \n",
       "3  3 hari lalu  https://finansial.bisnis.com/read/20231214/90/...  \n",
       "4  1 hari lalu  https://www.antaranews.com/berita/3874161/repn...  \n",
       "5  4 hari lalu  https://www.cnbcindonesia.com/news/20231212211...  \n",
       "6  2 hari lalu  https://news.detik.com/pemilu/d-7091452/nelaya...  \n",
       "7  3 hari lalu  https://nasional.kompas.com/read/2023/12/14/11...  \n",
       "8  1 hari lalu  https://www.detik.com/jateng/berita/d-7092364/...  \n",
       "9  6 hari lalu  https://www.detik.com/bali/berita/d-7083660/ha...  "
      ]
     },
     "execution_count": 39,
     "metadata": {},
     "output_type": "execute_result"
    }
   ],
   "source": [
    "df"
   ]
  },
  {
   "cell_type": "code",
   "execution_count": 44,
   "metadata": {},
   "outputs": [
    {
     "name": "stdout",
     "output_type": "stream",
     "text": [
      "/search?q=prabowo+gibran&tbm=nws&tbs=cdr:1,cd_min:11/19/2023,cd_max:12/13/2023,sbd:1&sa=X&sca_esv=590380016&biw=1710&bih=953&gbv=1&sei=fhl5ZYO7IKaVg8UP-pu-sAg\n"
     ]
    }
   ],
   "source": [
    "link = soup.find('a', id=\"pnnext\")['href'] # to go to the next page\n",
    "print(link)"
   ]
  },
  {
   "cell_type": "markdown",
   "metadata": {},
   "source": [
    "# Web Scrape"
   ]
  },
  {
   "cell_type": "markdown",
   "metadata": {},
   "source": [
    "### Initial Code"
   ]
  },
  {
   "cell_type": "markdown",
   "metadata": {},
   "source": [
    "```python\n",
    "chrome_options = webdriver.ChromeOptions()\n",
    "driver = webdriver.Chrome(options=chrome_options)\n",
    "\n",
    "driver.get(url)\n",
    "sleep(2)\n",
    "html = driver.page_source # Get the page's html content\n",
    "soup = bs(html, \"html.parser\") # parse the html content using BeautifulSoup\n",
    "parent_tag = soup.find_all(\"div\", {\"class\": \"SoaBEf\"})\n",
    "\n",
    "scrape_data = [{\n",
    "    'judul_berita' : get_element_text(el,'n0jPhd ynAwRc MBeuO nDgy9d', 'class'),\n",
    "    'media' : get_element_text(el, 'MgUUmf NUnG9d', 'class'),\n",
    "    'tanggal_publikasi' : get_element_text(el, 'OSrXXb rbYSKb LfVVr', 'class'),\n",
    "    'url': el.find(\"a\", {\"class\":\"WlydOe\"})['href']\n",
    "} for el in parent_tag]\n",
    "link= soup.find('a', id=\"pnnext\")['href']\n",
    "\n",
    "while True:\n",
    "    driver.get('https://www.google.com' + link)\n",
    "    sleep(2)\n",
    "    html = driver.page_source # Get the page's html content\n",
    "    soup = bs(html, \"html.parser\") # parse the html content using BeautifulSoup\n",
    "    loop_tag = soup.find_all(\"div\", {\"class\": \"SoaBEf\"})\n",
    "    data = [{\n",
    "    'judul_berita' : get_element_text(ele,'n0jPhd ynAwRc MBeuO nDgy9d', 'class'),\n",
    "    'media' : get_element_text(ele, 'MgUUmf NUnG9d', 'class'),\n",
    "    'tanggal_publikasi' : get_element_text(ele, 'OSrXXb rbYSKb LfVVr', 'class'),\n",
    "    'url': ele.find(\"a\", {\"class\":\"WlydOe\"})['href']\n",
    "    } for ele in loop_tag]\n",
    "    scrape_data.extend(data)\n",
    "    try:\n",
    "        link= soup.find('a', id=\"pnnext\")['href']\n",
    "    except TypeError:\n",
    "        break\n",
    "driver.quit()\n",
    "```"
   ]
  },
  {
   "cell_type": "markdown",
   "metadata": {},
   "source": [
    "### Final Code"
   ]
  },
  {
   "cell_type": "markdown",
   "metadata": {},
   "source": [
    "```python\n",
    "def scraping(month, day):\n",
    "    chrome_options = webdriver.ChromeOptions()\n",
    "    driver = webdriver.Chrome(options=chrome_options)\n",
    "\n",
    "    url=f\"https://www.google.com/search?q=prabowo+gibran&sca_esv=590380016&biw=1710&bih=953&sxsrf=AM9HkKl2jyc3pgk2OS3bmHnxuxjCN9ANBw%3A1702718802779&source=lnt&tbs=sbd%3A1%2Ccdr%3A1%2Ccd_min%3A{month}%2F{day}%2F2023%2Ccd_max%3A{month}%2F{day}%2F2023&tbm=nws\"\n",
    "    driver.get(url)\n",
    "    sleep(2)\n",
    "    html = driver.page_source # Get the page's html content\n",
    "    soup = bs(html, \"html.parser\") # parse the html content using BeautifulSoup\n",
    "    main_tag = soup.find_all(\"div\", {\"class\": \"SoaBEf\"})\n",
    "    first_data= get_data(main_tag, day, month)\n",
    "    scrape_data.extend(first_data)\n",
    "    link= soup.find('a', id=\"pnnext\")['href']\n",
    "\n",
    "    while True:\n",
    "        driver.get('https://www.google.com' + link)\n",
    "        sleep(2)\n",
    "        html = driver.page_source # Get the page's html content\n",
    "        soup = bs(html, \"html.parser\") # parse the html content using BeautifulSoup\n",
    "        loop_tag = soup.find_all(\"div\", {\"class\": \"SoaBEf\"})\n",
    "        next_data = get_data(loop_tag, day, month)\n",
    "        scrape_data.extend(next_data)\n",
    "        try:\n",
    "            link= soup.find('a', id=\"pnnext\")['href']\n",
    "        except TypeError:\n",
    "            break\n",
    "    driver.quit()\n",
    "\n",
    "```"
   ]
  },
  {
   "cell_type": "markdown",
   "metadata": {},
   "source": [
    "### Scraping"
   ]
  },
  {
   "cell_type": "code",
   "execution_count": 51,
   "metadata": {},
   "outputs": [],
   "source": [
    "scrape_data=[]"
   ]
  },
  {
   "cell_type": "markdown",
   "metadata": {},
   "source": [
    "- November (15th - 30th)\n",
    "- December (1st - 15th)"
   ]
  },
  {
   "cell_type": "code",
   "execution_count": null,
   "metadata": {},
   "outputs": [],
   "source": [
    "# scrape for november\n",
    "list_days= range(15,31)\n",
    "for day in list_days:\n",
    "    scraping(11, day)"
   ]
  },
  {
   "cell_type": "code",
   "execution_count": 61,
   "metadata": {},
   "outputs": [],
   "source": [
    "# scrape for december\n",
    "list_days= range(1,16)\n",
    "for day in list_days:\n",
    "    scraping(12, day)"
   ]
  },
  {
   "cell_type": "code",
   "execution_count": 62,
   "metadata": {},
   "outputs": [
    {
     "data": {
      "text/plain": [
       "(2121, 4)"
      ]
     },
     "execution_count": 62,
     "metadata": {},
     "output_type": "execute_result"
    }
   ],
   "source": [
    "df= pd.DataFrame(scrape_data)\n",
    "df.shape"
   ]
  },
  {
   "cell_type": "code",
   "execution_count": 69,
   "metadata": {},
   "outputs": [
    {
     "data": {
      "text/html": [
       "<div>\n",
       "<style scoped>\n",
       "    .dataframe tbody tr th:only-of-type {\n",
       "        vertical-align: middle;\n",
       "    }\n",
       "\n",
       "    .dataframe tbody tr th {\n",
       "        vertical-align: top;\n",
       "    }\n",
       "\n",
       "    .dataframe thead th {\n",
       "        text-align: right;\n",
       "    }\n",
       "</style>\n",
       "<table border=\"1\" class=\"dataframe\">\n",
       "  <thead>\n",
       "    <tr style=\"text-align: right;\">\n",
       "      <th></th>\n",
       "      <th>Headline</th>\n",
       "      <th>Media</th>\n",
       "      <th>Date</th>\n",
       "      <th>url</th>\n",
       "    </tr>\n",
       "  </thead>\n",
       "  <tbody>\n",
       "    <tr>\n",
       "      <th>count</th>\n",
       "      <td>2121</td>\n",
       "      <td>2121</td>\n",
       "      <td>2121</td>\n",
       "      <td>2121</td>\n",
       "    </tr>\n",
       "    <tr>\n",
       "      <th>unique</th>\n",
       "      <td>2113</td>\n",
       "      <td>527</td>\n",
       "      <td>31</td>\n",
       "      <td>2121</td>\n",
       "    </tr>\n",
       "    <tr>\n",
       "      <th>top</th>\n",
       "      <td>Kementerian Komunikasi dan Informatika</td>\n",
       "      <td>detikNews</td>\n",
       "      <td>6/12/2023</td>\n",
       "      <td>https://www.cnbcindonesia.com/news/20231115130...</td>\n",
       "    </tr>\n",
       "    <tr>\n",
       "      <th>freq</th>\n",
       "      <td>3</td>\n",
       "      <td>92</td>\n",
       "      <td>130</td>\n",
       "      <td>1</td>\n",
       "    </tr>\n",
       "  </tbody>\n",
       "</table>\n",
       "</div>"
      ],
      "text/plain": [
       "                                      Headline      Media       Date  \\\n",
       "count                                     2121       2121       2121   \n",
       "unique                                    2113        527         31   \n",
       "top     Kementerian Komunikasi dan Informatika  detikNews  6/12/2023   \n",
       "freq                                         3         92        130   \n",
       "\n",
       "                                                      url  \n",
       "count                                                2121  \n",
       "unique                                               2121  \n",
       "top     https://www.cnbcindonesia.com/news/20231115130...  \n",
       "freq                                                    1  "
      ]
     },
     "execution_count": 69,
     "metadata": {},
     "output_type": "execute_result"
    }
   ],
   "source": [
    "df.select_dtypes(include='object').describe()"
   ]
  },
  {
   "cell_type": "code",
   "execution_count": 80,
   "metadata": {},
   "outputs": [
    {
     "data": {
      "text/plain": [
       "8"
      ]
     },
     "execution_count": 80,
     "metadata": {},
     "output_type": "execute_result"
    }
   ],
   "source": [
    "df['Headline'].duplicated().sum()"
   ]
  },
  {
   "cell_type": "code",
   "execution_count": 79,
   "metadata": {},
   "outputs": [
    {
     "data": {
      "text/html": [
       "<div>\n",
       "<style scoped>\n",
       "    .dataframe tbody tr th:only-of-type {\n",
       "        vertical-align: middle;\n",
       "    }\n",
       "\n",
       "    .dataframe tbody tr th {\n",
       "        vertical-align: top;\n",
       "    }\n",
       "\n",
       "    .dataframe thead th {\n",
       "        text-align: right;\n",
       "    }\n",
       "</style>\n",
       "<table border=\"1\" class=\"dataframe\">\n",
       "  <thead>\n",
       "    <tr style=\"text-align: right;\">\n",
       "      <th></th>\n",
       "      <th>Headline</th>\n",
       "      <th>Media</th>\n",
       "      <th>Date</th>\n",
       "      <th>url</th>\n",
       "    </tr>\n",
       "  </thead>\n",
       "  <tbody>\n",
       "    <tr>\n",
       "      <th>80</th>\n",
       "      <td>Kementerian Komunikasi dan Informatika</td>\n",
       "      <td>Kementerian Komunikasi dan Informatika</td>\n",
       "      <td>16/11/2023</td>\n",
       "      <td>https://www.kominfo.go.id/content/detail/52963...</td>\n",
       "    </tr>\n",
       "    <tr>\n",
       "      <th>95</th>\n",
       "      <td>Kementerian Komunikasi dan Informatika</td>\n",
       "      <td>Kementerian Komunikasi dan Informatika</td>\n",
       "      <td>16/11/2023</td>\n",
       "      <td>https://www.kominfo.go.id/content/detail/52976...</td>\n",
       "    </tr>\n",
       "    <tr>\n",
       "      <th>893</th>\n",
       "      <td>TKN Prabowo-Gibran dan DKPP RI Kumpulkan PPK d...</td>\n",
       "      <td>TubasMedia.com</td>\n",
       "      <td>2/12/2023</td>\n",
       "      <td>https://tubasmedia.com/tkn-prabowo-gibran-dan-...</td>\n",
       "    </tr>\n",
       "    <tr>\n",
       "      <th>1324</th>\n",
       "      <td>Perempuan Muda Nahdliyin Deklarasi Dukung Prab...</td>\n",
       "      <td>Viva</td>\n",
       "      <td>7/12/2023</td>\n",
       "      <td>https://www.viva.co.id/berita/politik/1665357-...</td>\n",
       "    </tr>\n",
       "    <tr>\n",
       "      <th>1496</th>\n",
       "      <td>Klarifikasi Deklarasi Dukungan Pasangan Prabow...</td>\n",
       "      <td>Detik Peristiwa</td>\n",
       "      <td>9/12/2023</td>\n",
       "      <td>https://www.detikperistiwa.com/news-619559/kla...</td>\n",
       "    </tr>\n",
       "    <tr>\n",
       "      <th>1497</th>\n",
       "      <td>Relawan Pedagang Indonesia Maju Deklarasi Duku...</td>\n",
       "      <td>Penasultra.com</td>\n",
       "      <td>9/12/2023</td>\n",
       "      <td>https://penasultra.com/relawan-pedagang-indone...</td>\n",
       "    </tr>\n",
       "    <tr>\n",
       "      <th>1740</th>\n",
       "      <td>TKN Prabowo-Gibran Paparkan Kesuksesan Makan S...</td>\n",
       "      <td>HEADLINE KALTIM</td>\n",
       "      <td>12/12/2023</td>\n",
       "      <td>https://headlinekaltim.co/tkn-prabowo-gibran-p...</td>\n",
       "    </tr>\n",
       "    <tr>\n",
       "      <th>2102</th>\n",
       "      <td>Sekali Bicara, Gibran Tak Bisa Bedakan Pilpres...</td>\n",
       "      <td>KBA News</td>\n",
       "      <td>15/12/2023</td>\n",
       "      <td>https://kbanews.com/hot-news/sekali-bicara-gib...</td>\n",
       "    </tr>\n",
       "  </tbody>\n",
       "</table>\n",
       "</div>"
      ],
      "text/plain": [
       "                                               Headline  \\\n",
       "80               Kementerian Komunikasi dan Informatika   \n",
       "95               Kementerian Komunikasi dan Informatika   \n",
       "893   TKN Prabowo-Gibran dan DKPP RI Kumpulkan PPK d...   \n",
       "1324  Perempuan Muda Nahdliyin Deklarasi Dukung Prab...   \n",
       "1496  Klarifikasi Deklarasi Dukungan Pasangan Prabow...   \n",
       "1497  Relawan Pedagang Indonesia Maju Deklarasi Duku...   \n",
       "1740  TKN Prabowo-Gibran Paparkan Kesuksesan Makan S...   \n",
       "2102  Sekali Bicara, Gibran Tak Bisa Bedakan Pilpres...   \n",
       "\n",
       "                                       Media        Date  \\\n",
       "80    Kementerian Komunikasi dan Informatika  16/11/2023   \n",
       "95    Kementerian Komunikasi dan Informatika  16/11/2023   \n",
       "893                           TubasMedia.com   2/12/2023   \n",
       "1324                                    Viva   7/12/2023   \n",
       "1496                         Detik Peristiwa   9/12/2023   \n",
       "1497                          Penasultra.com   9/12/2023   \n",
       "1740                         HEADLINE KALTIM  12/12/2023   \n",
       "2102                                KBA News  15/12/2023   \n",
       "\n",
       "                                                    url  \n",
       "80    https://www.kominfo.go.id/content/detail/52963...  \n",
       "95    https://www.kominfo.go.id/content/detail/52976...  \n",
       "893   https://tubasmedia.com/tkn-prabowo-gibran-dan-...  \n",
       "1324  https://www.viva.co.id/berita/politik/1665357-...  \n",
       "1496  https://www.detikperistiwa.com/news-619559/kla...  \n",
       "1497  https://penasultra.com/relawan-pedagang-indone...  \n",
       "1740  https://headlinekaltim.co/tkn-prabowo-gibran-p...  \n",
       "2102  https://kbanews.com/hot-news/sekali-bicara-gib...  "
      ]
     },
     "execution_count": 79,
     "metadata": {},
     "output_type": "execute_result"
    }
   ],
   "source": [
    "df[df['Headline'].duplicated()]"
   ]
  },
  {
   "cell_type": "code",
   "execution_count": 70,
   "metadata": {},
   "outputs": [],
   "source": [
    "df.to_csv('webscrape.csv', sep=';', index=False)"
   ]
  },
  {
   "cell_type": "code",
   "execution_count": 71,
   "metadata": {},
   "outputs": [],
   "source": [
    "test= pd.read_csv('webscrape.csv', delimiter=';')"
   ]
  },
  {
   "cell_type": "code",
   "execution_count": 72,
   "metadata": {},
   "outputs": [
    {
     "data": {
      "text/plain": [
       "(2121, 4)"
      ]
     },
     "execution_count": 72,
     "metadata": {},
     "output_type": "execute_result"
    }
   ],
   "source": [
    "test.shape"
   ]
  },
  {
   "cell_type": "code",
   "execution_count": 82,
   "metadata": {},
   "outputs": [
    {
     "data": {
      "text/plain": [
       "Headline               Kementerian Komunikasi dan Informatika\n",
       "Media                  Kementerian Komunikasi dan Informatika\n",
       "Date                                               16/11/2023\n",
       "url         https://www.kominfo.go.id/content/detail/52976...\n",
       "Name: 95, dtype: object"
      ]
     },
     "execution_count": 82,
     "metadata": {},
     "output_type": "execute_result"
    }
   ],
   "source": [
    "test.iloc[95]"
   ]
  },
  {
   "cell_type": "markdown",
   "metadata": {},
   "source": [
    "Needed to be checked"
   ]
  }
 ],
 "metadata": {
  "kernelspec": {
   "display_name": "main",
   "language": "python",
   "name": "python3"
  },
  "language_info": {
   "codemirror_mode": {
    "name": "ipython",
    "version": 3
   },
   "file_extension": ".py",
   "mimetype": "text/x-python",
   "name": "python",
   "nbconvert_exporter": "python",
   "pygments_lexer": "ipython3",
   "version": "3.9.18"
  }
 },
 "nbformat": 4,
 "nbformat_minor": 2
}
