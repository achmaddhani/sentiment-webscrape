{
 "cells": [
  {
   "cell_type": "markdown",
   "metadata": {},
   "source": [
    "# Introduction"
   ]
  },
  {
   "cell_type": "markdown",
   "metadata": {},
   "source": [
    "Team Members:\n",
    "\n",
    "- Achmad Dhani\n",
    "\n",
    "- Faris Arief Mawardi\n",
    "\n",
    "Notebook PIC: Achmad Dhani"
   ]
  },
  {
   "cell_type": "markdown",
   "metadata": {},
   "source": [
    "# Libraries"
   ]
  },
  {
   "cell_type": "code",
   "execution_count": 27,
   "metadata": {},
   "outputs": [],
   "source": [
    "import warnings\n",
    "warnings.filterwarnings(\"ignore\")"
   ]
  },
  {
   "cell_type": "code",
   "execution_count": 3,
   "metadata": {},
   "outputs": [],
   "source": [
    "import pandas as pd \n",
    "import numpy as np\n",
    "from collections import Counter\n",
    "import itertools"
   ]
  },
  {
   "cell_type": "code",
   "execution_count": null,
   "metadata": {},
   "outputs": [],
   "source": [
    "df= pd.read_csv('hasil_akhir.csv', delimiter=';') # load data"
   ]
  },
  {
   "cell_type": "markdown",
   "metadata": {},
   "source": [
    "# Function"
   ]
  },
  {
   "cell_type": "code",
   "execution_count": 55,
   "metadata": {},
   "outputs": [],
   "source": [
    "def media_merge(div, parent):\n",
    "    df['portal_media'] = df['portal_media'].apply(lambda x: parent if div in x else x)\n",
    "    return df"
   ]
  },
  {
   "cell_type": "markdown",
   "metadata": {},
   "source": [
    "# Data Engineering"
   ]
  },
  {
   "cell_type": "code",
   "execution_count": 29,
   "metadata": {},
   "outputs": [],
   "source": [
    "df['tanggal_publikasi'] = pd.to_datetime(df['tanggal_publikasi'], format='%d/%m/%Y')"
   ]
  },
  {
   "cell_type": "code",
   "execution_count": 30,
   "metadata": {},
   "outputs": [
    {
     "name": "stdout",
     "output_type": "stream",
     "text": [
      "<class 'pandas.core.frame.DataFrame'>\n",
      "RangeIndex: 2121 entries, 0 to 2120\n",
      "Data columns (total 6 columns):\n",
      " #   Column             Non-Null Count  Dtype         \n",
      "---  ------             --------------  -----         \n",
      " 0   judul_berita       2121 non-null   object        \n",
      " 1   portal_media       2121 non-null   object        \n",
      " 2   tanggal_publikasi  2121 non-null   datetime64[ns]\n",
      " 3   url                2121 non-null   object        \n",
      " 4   hasil_sentimen     2121 non-null   object        \n",
      " 5   olahan_teks        2121 non-null   object        \n",
      "dtypes: datetime64[ns](1), object(5)\n",
      "memory usage: 99.5+ KB\n"
     ]
    }
   ],
   "source": [
    "df.info()"
   ]
  },
  {
   "cell_type": "code",
   "execution_count": 31,
   "metadata": {},
   "outputs": [],
   "source": [
    "df= df[(df['portal_media'] != 'Nasional') & (df['portal_media'] != 'Politik')]"
   ]
  },
  {
   "cell_type": "code",
   "execution_count": 32,
   "metadata": {},
   "outputs": [],
   "source": [
    "df= df[df['olahan_teks'].str.contains('prabowo|gibran', case=False, na=False)]"
   ]
  },
  {
   "cell_type": "code",
   "execution_count": 33,
   "metadata": {},
   "outputs": [
    {
     "data": {
      "text/html": [
       "<div>\n",
       "<style scoped>\n",
       "    .dataframe tbody tr th:only-of-type {\n",
       "        vertical-align: middle;\n",
       "    }\n",
       "\n",
       "    .dataframe tbody tr th {\n",
       "        vertical-align: top;\n",
       "    }\n",
       "\n",
       "    .dataframe thead th {\n",
       "        text-align: right;\n",
       "    }\n",
       "</style>\n",
       "<table border=\"1\" class=\"dataframe\">\n",
       "  <thead>\n",
       "    <tr style=\"text-align: right;\">\n",
       "      <th></th>\n",
       "      <th>judul_berita</th>\n",
       "      <th>portal_media</th>\n",
       "      <th>tanggal_publikasi</th>\n",
       "      <th>url</th>\n",
       "      <th>hasil_sentimen</th>\n",
       "      <th>olahan_teks</th>\n",
       "    </tr>\n",
       "  </thead>\n",
       "  <tbody>\n",
       "    <tr>\n",
       "      <th>0</th>\n",
       "      <td>Live Now! Tim Prabowo-Gibran Beberkan Visi-Pro...</td>\n",
       "      <td>CNBC Indonesia</td>\n",
       "      <td>2023-11-15</td>\n",
       "      <td>https://www.cnbcindonesia.com/news/20231115130...</td>\n",
       "      <td>netral</td>\n",
       "      <td>live now tim prabowo gibran visi program ekonomi</td>\n",
       "    </tr>\n",
       "    <tr>\n",
       "      <th>2</th>\n",
       "      <td>Waketum PAN Analogikan Prabowo-Gibran seperti ...</td>\n",
       "      <td>detikNews</td>\n",
       "      <td>2023-11-15</td>\n",
       "      <td>https://news.detik.com/pemilu/d-7038627/waketu...</td>\n",
       "      <td>netral</td>\n",
       "      <td>waketum analogi prabowo gibran rumus fisika</td>\n",
       "    </tr>\n",
       "    <tr>\n",
       "      <th>3</th>\n",
       "      <td>Prabowo-Gibran Nomor Urut 2, Gerindra Jatim: P...</td>\n",
       "      <td>Detik</td>\n",
       "      <td>2023-11-15</td>\n",
       "      <td>https://www.detik.com/jatim/berita/d-7038617/p...</td>\n",
       "      <td>netral</td>\n",
       "      <td>prabowo gibran nomor gerindra jatim victory</td>\n",
       "    </tr>\n",
       "    <tr>\n",
       "      <th>5</th>\n",
       "      <td>TKN Prabowo-Gibran tekankan fitnah rusak cara ...</td>\n",
       "      <td>ANTARA News</td>\n",
       "      <td>2023-11-15</td>\n",
       "      <td>https://www.antaranews.com/berita/3824628/tkn-...</td>\n",
       "      <td>negatif</td>\n",
       "      <td>tkn prabowo gibran tekan fitnah rusak politik ...</td>\n",
       "    </tr>\n",
       "    <tr>\n",
       "      <th>6</th>\n",
       "      <td>Gibran Salim ke Megawati, TKN Prabowo-Gibran: ...</td>\n",
       "      <td>KOMPAS.com</td>\n",
       "      <td>2023-11-15</td>\n",
       "      <td>https://nasional.kompas.com/read/2023/11/15/21...</td>\n",
       "      <td>netral</td>\n",
       "      <td>gibran salim megawati tkn prabowo gibran santu...</td>\n",
       "    </tr>\n",
       "    <tr>\n",
       "      <th>...</th>\n",
       "      <td>...</td>\n",
       "      <td>...</td>\n",
       "      <td>...</td>\n",
       "      <td>...</td>\n",
       "      <td>...</td>\n",
       "      <td>...</td>\n",
       "    </tr>\n",
       "    <tr>\n",
       "      <th>2111</th>\n",
       "      <td>Bongkar Fakta Video Prabowo Subianto Gebrak Me...</td>\n",
       "      <td>Kilat</td>\n",
       "      <td>2023-12-15</td>\n",
       "      <td>https://www.kilat.com/nasional/84411213421/bon...</td>\n",
       "      <td>netral</td>\n",
       "      <td>bongkar fakta video prabowo subianto gebrak me...</td>\n",
       "    </tr>\n",
       "    <tr>\n",
       "      <th>2113</th>\n",
       "      <td>Mahfud MD Ungkap hanya Ngobrol Ringan dengan G...</td>\n",
       "      <td>Tribun Video</td>\n",
       "      <td>2023-12-15</td>\n",
       "      <td>https://video.tribunnews.com/view/682117/mahfu...</td>\n",
       "      <td>netral</td>\n",
       "      <td>mahfud md ngobrol ringan gibran cak pasca deba...</td>\n",
       "    </tr>\n",
       "    <tr>\n",
       "      <th>2114</th>\n",
       "      <td>Agenda Capres Akhir Pekan: Anies dan Ganjar Ka...</td>\n",
       "      <td>Tribunnews.com</td>\n",
       "      <td>2023-12-15</td>\n",
       "      <td>https://www.tribunnews.com/mata-lokal-memilih/...</td>\n",
       "      <td>netral</td>\n",
       "      <td>agenda capres anies ganjar kampanye prabowo ha...</td>\n",
       "    </tr>\n",
       "    <tr>\n",
       "      <th>2118</th>\n",
       "      <td>Gibran Slated for First Campaign Outside of Java</td>\n",
       "      <td>Jakarta Globe</td>\n",
       "      <td>2023-12-15</td>\n",
       "      <td>https://jakartaglobe.id/news/gibran-slated-for...</td>\n",
       "      <td>netral</td>\n",
       "      <td>gibran slated for first campaign outside of java</td>\n",
       "    </tr>\n",
       "    <tr>\n",
       "      <th>2119</th>\n",
       "      <td>Anies Singgung Soal Oposisi, Prabowo Singgung ...</td>\n",
       "      <td>KOMPAS.tv</td>\n",
       "      <td>2023-12-15</td>\n",
       "      <td>https://www.kompas.tv/video/469419/anies-singg...</td>\n",
       "      <td>netral</td>\n",
       "      <td>anies singgung oposisi prabowo singgung menter...</td>\n",
       "    </tr>\n",
       "  </tbody>\n",
       "</table>\n",
       "<p>1720 rows × 6 columns</p>\n",
       "</div>"
      ],
      "text/plain": [
       "                                           judul_berita    portal_media  \\\n",
       "0     Live Now! Tim Prabowo-Gibran Beberkan Visi-Pro...  CNBC Indonesia   \n",
       "2     Waketum PAN Analogikan Prabowo-Gibran seperti ...       detikNews   \n",
       "3     Prabowo-Gibran Nomor Urut 2, Gerindra Jatim: P...           Detik   \n",
       "5     TKN Prabowo-Gibran tekankan fitnah rusak cara ...     ANTARA News   \n",
       "6     Gibran Salim ke Megawati, TKN Prabowo-Gibran: ...      KOMPAS.com   \n",
       "...                                                 ...             ...   \n",
       "2111  Bongkar Fakta Video Prabowo Subianto Gebrak Me...           Kilat   \n",
       "2113  Mahfud MD Ungkap hanya Ngobrol Ringan dengan G...    Tribun Video   \n",
       "2114  Agenda Capres Akhir Pekan: Anies dan Ganjar Ka...  Tribunnews.com   \n",
       "2118   Gibran Slated for First Campaign Outside of Java   Jakarta Globe   \n",
       "2119  Anies Singgung Soal Oposisi, Prabowo Singgung ...       KOMPAS.tv   \n",
       "\n",
       "     tanggal_publikasi                                                url  \\\n",
       "0           2023-11-15  https://www.cnbcindonesia.com/news/20231115130...   \n",
       "2           2023-11-15  https://news.detik.com/pemilu/d-7038627/waketu...   \n",
       "3           2023-11-15  https://www.detik.com/jatim/berita/d-7038617/p...   \n",
       "5           2023-11-15  https://www.antaranews.com/berita/3824628/tkn-...   \n",
       "6           2023-11-15  https://nasional.kompas.com/read/2023/11/15/21...   \n",
       "...                ...                                                ...   \n",
       "2111        2023-12-15  https://www.kilat.com/nasional/84411213421/bon...   \n",
       "2113        2023-12-15  https://video.tribunnews.com/view/682117/mahfu...   \n",
       "2114        2023-12-15  https://www.tribunnews.com/mata-lokal-memilih/...   \n",
       "2118        2023-12-15  https://jakartaglobe.id/news/gibran-slated-for...   \n",
       "2119        2023-12-15  https://www.kompas.tv/video/469419/anies-singg...   \n",
       "\n",
       "     hasil_sentimen                                        olahan_teks  \n",
       "0            netral   live now tim prabowo gibran visi program ekonomi  \n",
       "2            netral        waketum analogi prabowo gibran rumus fisika  \n",
       "3            netral        prabowo gibran nomor gerindra jatim victory  \n",
       "5           negatif  tkn prabowo gibran tekan fitnah rusak politik ...  \n",
       "6            netral  gibran salim megawati tkn prabowo gibran santu...  \n",
       "...             ...                                                ...  \n",
       "2111         netral  bongkar fakta video prabowo subianto gebrak me...  \n",
       "2113         netral  mahfud md ngobrol ringan gibran cak pasca deba...  \n",
       "2114         netral  agenda capres anies ganjar kampanye prabowo ha...  \n",
       "2118         netral   gibran slated for first campaign outside of java  \n",
       "2119         netral  anies singgung oposisi prabowo singgung menter...  \n",
       "\n",
       "[1720 rows x 6 columns]"
      ]
     },
     "execution_count": 33,
     "metadata": {},
     "output_type": "execute_result"
    }
   ],
   "source": [
    "df"
   ]
  },
  {
   "cell_type": "code",
   "execution_count": 34,
   "metadata": {},
   "outputs": [
    {
     "data": {
      "text/plain": [
       "portal_media\n",
       "detikNews              88\n",
       "KOMPAS.com             83\n",
       "Antaranews.com         74\n",
       "Liputan6.com           56\n",
       "detikcom               49\n",
       "                       ..\n",
       "TubasMedia.com          1\n",
       "BeritaBulukumba.com     1\n",
       "Tribun Lampung          1\n",
       "SuaraSikka              1\n",
       "Yoursay                 1\n",
       "Name: count, Length: 459, dtype: int64"
      ]
     },
     "execution_count": 34,
     "metadata": {},
     "output_type": "execute_result"
    }
   ],
   "source": [
    "df['portal_media'].value_counts()"
   ]
  },
  {
   "cell_type": "code",
   "execution_count": 35,
   "metadata": {},
   "outputs": [],
   "source": [
    "df['portal_media'] = df['portal_media'].apply(lambda x: 'Kompas.com' if 'KOMPAS' in x else x)"
   ]
  },
  {
   "cell_type": "code",
   "execution_count": 56,
   "metadata": {},
   "outputs": [],
   "source": [
    "df = media_merge('Kompas', 'Kompas.com')"
   ]
  },
  {
   "cell_type": "code",
   "execution_count": 38,
   "metadata": {},
   "outputs": [],
   "source": [
    "df = media_merge('detik', 'detik.com')"
   ]
  },
  {
   "cell_type": "code",
   "execution_count": 40,
   "metadata": {},
   "outputs": [],
   "source": [
    "df = media_merge('Tribun', 'TribunNews')"
   ]
  },
  {
   "cell_type": "code",
   "execution_count": 49,
   "metadata": {},
   "outputs": [],
   "source": [
    "df = media_merge('Detik', 'detik.com')"
   ]
  },
  {
   "cell_type": "code",
   "execution_count": 51,
   "metadata": {},
   "outputs": [],
   "source": [
    "df = media_merge('Antara News', 'Antaranews.com')"
   ]
  },
  {
   "cell_type": "code",
   "execution_count": 53,
   "metadata": {},
   "outputs": [],
   "source": [
    "df = media_merge('ANTARA', 'Antaranews.com')"
   ]
  },
  {
   "cell_type": "code",
   "execution_count": 61,
   "metadata": {},
   "outputs": [],
   "source": [
    "df = media_merge('JPNN', 'JPNN.com')"
   ]
  },
  {
   "cell_type": "markdown",
   "metadata": {},
   "source": [
    "# Double Checking"
   ]
  },
  {
   "cell_type": "code",
   "execution_count": 64,
   "metadata": {},
   "outputs": [
    {
     "data": {
      "text/html": [
       "<div>\n",
       "<style scoped>\n",
       "    .dataframe tbody tr th:only-of-type {\n",
       "        vertical-align: middle;\n",
       "    }\n",
       "\n",
       "    .dataframe tbody tr th {\n",
       "        vertical-align: top;\n",
       "    }\n",
       "\n",
       "    .dataframe thead th {\n",
       "        text-align: right;\n",
       "    }\n",
       "</style>\n",
       "<table border=\"1\" class=\"dataframe\">\n",
       "  <thead>\n",
       "    <tr style=\"text-align: right;\">\n",
       "      <th></th>\n",
       "      <th>judul_berita</th>\n",
       "      <th>portal_media</th>\n",
       "      <th>url</th>\n",
       "      <th>hasil_sentimen</th>\n",
       "      <th>olahan_teks</th>\n",
       "    </tr>\n",
       "  </thead>\n",
       "  <tbody>\n",
       "    <tr>\n",
       "      <th>count</th>\n",
       "      <td>1720</td>\n",
       "      <td>1720</td>\n",
       "      <td>1720</td>\n",
       "      <td>1720</td>\n",
       "      <td>1720</td>\n",
       "    </tr>\n",
       "    <tr>\n",
       "      <th>unique</th>\n",
       "      <td>1715</td>\n",
       "      <td>392</td>\n",
       "      <td>1720</td>\n",
       "      <td>3</td>\n",
       "      <td>1706</td>\n",
       "    </tr>\n",
       "    <tr>\n",
       "      <th>top</th>\n",
       "      <td>Klarifikasi Deklarasi Dukungan Pasangan Prabow...</td>\n",
       "      <td>TribunNews</td>\n",
       "      <td>https://www.cnbcindonesia.com/news/20231115130...</td>\n",
       "      <td>netral</td>\n",
       "      <td>klarifikasi deklarasi dukung pasang prabowo gi...</td>\n",
       "    </tr>\n",
       "    <tr>\n",
       "      <th>freq</th>\n",
       "      <td>2</td>\n",
       "      <td>188</td>\n",
       "      <td>1</td>\n",
       "      <td>1558</td>\n",
       "      <td>2</td>\n",
       "    </tr>\n",
       "  </tbody>\n",
       "</table>\n",
       "</div>"
      ],
      "text/plain": [
       "                                             judul_berita portal_media  \\\n",
       "count                                                1720         1720   \n",
       "unique                                               1715          392   \n",
       "top     Klarifikasi Deklarasi Dukungan Pasangan Prabow...   TribunNews   \n",
       "freq                                                    2          188   \n",
       "\n",
       "                                                      url hasil_sentimen  \\\n",
       "count                                                1720           1720   \n",
       "unique                                               1720              3   \n",
       "top     https://www.cnbcindonesia.com/news/20231115130...         netral   \n",
       "freq                                                    1           1558   \n",
       "\n",
       "                                              olahan_teks  \n",
       "count                                                1720  \n",
       "unique                                               1706  \n",
       "top     klarifikasi deklarasi dukung pasang prabowo gi...  \n",
       "freq                                                    2  "
      ]
     },
     "execution_count": 64,
     "metadata": {},
     "output_type": "execute_result"
    }
   ],
   "source": [
    "df.select_dtypes(include='object').describe()"
   ]
  },
  {
   "cell_type": "code",
   "execution_count": 69,
   "metadata": {},
   "outputs": [
    {
     "data": {
      "text/html": [
       "<div>\n",
       "<style scoped>\n",
       "    .dataframe tbody tr th:only-of-type {\n",
       "        vertical-align: middle;\n",
       "    }\n",
       "\n",
       "    .dataframe tbody tr th {\n",
       "        vertical-align: top;\n",
       "    }\n",
       "\n",
       "    .dataframe thead th {\n",
       "        text-align: right;\n",
       "    }\n",
       "</style>\n",
       "<table border=\"1\" class=\"dataframe\">\n",
       "  <thead>\n",
       "    <tr style=\"text-align: right;\">\n",
       "      <th></th>\n",
       "      <th>judul_berita</th>\n",
       "      <th>portal_media</th>\n",
       "      <th>tanggal_publikasi</th>\n",
       "      <th>url</th>\n",
       "      <th>hasil_sentimen</th>\n",
       "      <th>olahan_teks</th>\n",
       "    </tr>\n",
       "  </thead>\n",
       "  <tbody>\n",
       "    <tr>\n",
       "      <th>893</th>\n",
       "      <td>TKN Prabowo-Gibran dan DKPP RI Kumpulkan PPK d...</td>\n",
       "      <td>TubasMedia.com</td>\n",
       "      <td>2023-12-02</td>\n",
       "      <td>https://tubasmedia.com/tkn-prabowo-gibran-dan-...</td>\n",
       "      <td>netral</td>\n",
       "      <td>tkn prabowo gibran dkpp kumpul ppk panwascam</td>\n",
       "    </tr>\n",
       "    <tr>\n",
       "      <th>1324</th>\n",
       "      <td>Perempuan Muda Nahdliyin Deklarasi Dukung Prab...</td>\n",
       "      <td>Viva</td>\n",
       "      <td>2023-12-07</td>\n",
       "      <td>https://www.viva.co.id/berita/politik/1665357-...</td>\n",
       "      <td>netral</td>\n",
       "      <td>perempuan muda nahdliyin deklarasi dukung prab...</td>\n",
       "    </tr>\n",
       "    <tr>\n",
       "      <th>1496</th>\n",
       "      <td>Klarifikasi Deklarasi Dukungan Pasangan Prabow...</td>\n",
       "      <td>detik.com</td>\n",
       "      <td>2023-12-09</td>\n",
       "      <td>https://www.detikperistiwa.com/news-619559/kla...</td>\n",
       "      <td>netral</td>\n",
       "      <td>klarifikasi deklarasi dukung pasang prabowo gi...</td>\n",
       "    </tr>\n",
       "    <tr>\n",
       "      <th>1740</th>\n",
       "      <td>TKN Prabowo-Gibran Paparkan Kesuksesan Makan S...</td>\n",
       "      <td>HEADLINE KALTIM</td>\n",
       "      <td>2023-12-12</td>\n",
       "      <td>https://headlinekaltim.co/tkn-prabowo-gibran-p...</td>\n",
       "      <td>netral</td>\n",
       "      <td>tkn prabowo gibran sukses siang gratis siswa i...</td>\n",
       "    </tr>\n",
       "    <tr>\n",
       "      <th>2102</th>\n",
       "      <td>Sekali Bicara, Gibran Tak Bisa Bedakan Pilpres...</td>\n",
       "      <td>KBA News</td>\n",
       "      <td>2023-12-15</td>\n",
       "      <td>https://kbanews.com/hot-news/sekali-bicara-gib...</td>\n",
       "      <td>netral</td>\n",
       "      <td>bicara gibran bedak pilpres kontes</td>\n",
       "    </tr>\n",
       "  </tbody>\n",
       "</table>\n",
       "</div>"
      ],
      "text/plain": [
       "                                           judul_berita     portal_media  \\\n",
       "893   TKN Prabowo-Gibran dan DKPP RI Kumpulkan PPK d...   TubasMedia.com   \n",
       "1324  Perempuan Muda Nahdliyin Deklarasi Dukung Prab...             Viva   \n",
       "1496  Klarifikasi Deklarasi Dukungan Pasangan Prabow...        detik.com   \n",
       "1740  TKN Prabowo-Gibran Paparkan Kesuksesan Makan S...  HEADLINE KALTIM   \n",
       "2102  Sekali Bicara, Gibran Tak Bisa Bedakan Pilpres...         KBA News   \n",
       "\n",
       "     tanggal_publikasi                                                url  \\\n",
       "893         2023-12-02  https://tubasmedia.com/tkn-prabowo-gibran-dan-...   \n",
       "1324        2023-12-07  https://www.viva.co.id/berita/politik/1665357-...   \n",
       "1496        2023-12-09  https://www.detikperistiwa.com/news-619559/kla...   \n",
       "1740        2023-12-12  https://headlinekaltim.co/tkn-prabowo-gibran-p...   \n",
       "2102        2023-12-15  https://kbanews.com/hot-news/sekali-bicara-gib...   \n",
       "\n",
       "     hasil_sentimen                                        olahan_teks  \n",
       "893          netral       tkn prabowo gibran dkpp kumpul ppk panwascam  \n",
       "1324         netral  perempuan muda nahdliyin deklarasi dukung prab...  \n",
       "1496         netral  klarifikasi deklarasi dukung pasang prabowo gi...  \n",
       "1740         netral  tkn prabowo gibran sukses siang gratis siswa i...  \n",
       "2102         netral                 bicara gibran bedak pilpres kontes  "
      ]
     },
     "execution_count": 69,
     "metadata": {},
     "output_type": "execute_result"
    }
   ],
   "source": [
    "df[df['judul_berita'].duplicated()]"
   ]
  },
  {
   "cell_type": "code",
   "execution_count": 73,
   "metadata": {},
   "outputs": [
    {
     "data": {
      "text/plain": [
       "795    https://www.tandaseru.com/2023/12/01/tkn-prabo...\n",
       "893    https://tubasmedia.com/tkn-prabowo-gibran-dan-...\n",
       "Name: url, dtype: object"
      ]
     },
     "execution_count": 73,
     "metadata": {},
     "output_type": "execute_result"
    }
   ],
   "source": [
    "df[df['judul_berita'].str.contains('TKN Prabowo-Gibran dan DKPP RI Kumpulkan PPK', case=False, na=False)]['url']"
   ]
  },
  {
   "cell_type": "code",
   "execution_count": 84,
   "metadata": {},
   "outputs": [
    {
     "data": {
      "text/html": [
       "<div>\n",
       "<style scoped>\n",
       "    .dataframe tbody tr th:only-of-type {\n",
       "        vertical-align: middle;\n",
       "    }\n",
       "\n",
       "    .dataframe tbody tr th {\n",
       "        vertical-align: top;\n",
       "    }\n",
       "\n",
       "    .dataframe thead th {\n",
       "        text-align: right;\n",
       "    }\n",
       "</style>\n",
       "<table border=\"1\" class=\"dataframe\">\n",
       "  <thead>\n",
       "    <tr style=\"text-align: right;\">\n",
       "      <th></th>\n",
       "      <th>portal_media</th>\n",
       "      <th>count</th>\n",
       "    </tr>\n",
       "  </thead>\n",
       "  <tbody>\n",
       "    <tr>\n",
       "      <th>0</th>\n",
       "      <td>TribunNews</td>\n",
       "      <td>188</td>\n",
       "    </tr>\n",
       "    <tr>\n",
       "      <th>1</th>\n",
       "      <td>detik.com</td>\n",
       "      <td>183</td>\n",
       "    </tr>\n",
       "    <tr>\n",
       "      <th>2</th>\n",
       "      <td>Kompas.com</td>\n",
       "      <td>148</td>\n",
       "    </tr>\n",
       "    <tr>\n",
       "      <th>3</th>\n",
       "      <td>Antaranews.com</td>\n",
       "      <td>120</td>\n",
       "    </tr>\n",
       "    <tr>\n",
       "      <th>4</th>\n",
       "      <td>Liputan6.com</td>\n",
       "      <td>56</td>\n",
       "    </tr>\n",
       "  </tbody>\n",
       "</table>\n",
       "</div>"
      ],
      "text/plain": [
       "     portal_media  count\n",
       "0      TribunNews    188\n",
       "1       detik.com    183\n",
       "2      Kompas.com    148\n",
       "3  Antaranews.com    120\n",
       "4    Liputan6.com     56"
      ]
     },
     "execution_count": 84,
     "metadata": {},
     "output_type": "execute_result"
    }
   ],
   "source": [
    "df['portal_media'].value_counts().reset_index().head(5)"
   ]
  },
  {
   "cell_type": "code",
   "execution_count": 86,
   "metadata": {},
   "outputs": [],
   "source": [
    "df.to_csv('cleaned_media.csv', index=False)"
   ]
  },
  {
   "cell_type": "code",
   "execution_count": 87,
   "metadata": {},
   "outputs": [],
   "source": [
    "test= pd.read_csv('cleaned_media.csv')"
   ]
  },
  {
   "cell_type": "code",
   "execution_count": 89,
   "metadata": {},
   "outputs": [
    {
     "name": "stdout",
     "output_type": "stream",
     "text": [
      "<class 'pandas.core.frame.DataFrame'>\n",
      "Index: 1720 entries, 0 to 2119\n",
      "Data columns (total 6 columns):\n",
      " #   Column             Non-Null Count  Dtype         \n",
      "---  ------             --------------  -----         \n",
      " 0   judul_berita       1720 non-null   object        \n",
      " 1   portal_media       1720 non-null   object        \n",
      " 2   tanggal_publikasi  1720 non-null   datetime64[ns]\n",
      " 3   url                1720 non-null   object        \n",
      " 4   hasil_sentimen     1720 non-null   object        \n",
      " 5   olahan_teks        1720 non-null   object        \n",
      "dtypes: datetime64[ns](1), object(5)\n",
      "memory usage: 94.1+ KB\n"
     ]
    }
   ],
   "source": [
    "df.info()"
   ]
  },
  {
   "cell_type": "code",
   "execution_count": 88,
   "metadata": {},
   "outputs": [
    {
     "name": "stdout",
     "output_type": "stream",
     "text": [
      "<class 'pandas.core.frame.DataFrame'>\n",
      "RangeIndex: 1720 entries, 0 to 1719\n",
      "Data columns (total 6 columns):\n",
      " #   Column             Non-Null Count  Dtype \n",
      "---  ------             --------------  ----- \n",
      " 0   judul_berita       1720 non-null   object\n",
      " 1   portal_media       1720 non-null   object\n",
      " 2   tanggal_publikasi  1720 non-null   object\n",
      " 3   url                1720 non-null   object\n",
      " 4   hasil_sentimen     1720 non-null   object\n",
      " 5   olahan_teks        1720 non-null   object\n",
      "dtypes: object(6)\n",
      "memory usage: 80.8+ KB\n"
     ]
    }
   ],
   "source": [
    "test.info()"
   ]
  },
  {
   "cell_type": "code",
   "execution_count": 90,
   "metadata": {},
   "outputs": [
    {
     "data": {
      "text/html": [
       "<div>\n",
       "<style scoped>\n",
       "    .dataframe tbody tr th:only-of-type {\n",
       "        vertical-align: middle;\n",
       "    }\n",
       "\n",
       "    .dataframe tbody tr th {\n",
       "        vertical-align: top;\n",
       "    }\n",
       "\n",
       "    .dataframe thead th {\n",
       "        text-align: right;\n",
       "    }\n",
       "</style>\n",
       "<table border=\"1\" class=\"dataframe\">\n",
       "  <thead>\n",
       "    <tr style=\"text-align: right;\">\n",
       "      <th></th>\n",
       "      <th>judul_berita</th>\n",
       "      <th>portal_media</th>\n",
       "      <th>tanggal_publikasi</th>\n",
       "      <th>url</th>\n",
       "      <th>hasil_sentimen</th>\n",
       "      <th>olahan_teks</th>\n",
       "    </tr>\n",
       "  </thead>\n",
       "  <tbody>\n",
       "    <tr>\n",
       "      <th>0</th>\n",
       "      <td>Live Now! Tim Prabowo-Gibran Beberkan Visi-Pro...</td>\n",
       "      <td>CNBC Indonesia</td>\n",
       "      <td>2023-11-15</td>\n",
       "      <td>https://www.cnbcindonesia.com/news/20231115130...</td>\n",
       "      <td>netral</td>\n",
       "      <td>live now tim prabowo gibran visi program ekonomi</td>\n",
       "    </tr>\n",
       "    <tr>\n",
       "      <th>1</th>\n",
       "      <td>Waketum PAN Analogikan Prabowo-Gibran seperti ...</td>\n",
       "      <td>detik.com</td>\n",
       "      <td>2023-11-15</td>\n",
       "      <td>https://news.detik.com/pemilu/d-7038627/waketu...</td>\n",
       "      <td>netral</td>\n",
       "      <td>waketum analogi prabowo gibran rumus fisika</td>\n",
       "    </tr>\n",
       "    <tr>\n",
       "      <th>2</th>\n",
       "      <td>Prabowo-Gibran Nomor Urut 2, Gerindra Jatim: P...</td>\n",
       "      <td>detik.com</td>\n",
       "      <td>2023-11-15</td>\n",
       "      <td>https://www.detik.com/jatim/berita/d-7038617/p...</td>\n",
       "      <td>netral</td>\n",
       "      <td>prabowo gibran nomor gerindra jatim victory</td>\n",
       "    </tr>\n",
       "    <tr>\n",
       "      <th>3</th>\n",
       "      <td>TKN Prabowo-Gibran tekankan fitnah rusak cara ...</td>\n",
       "      <td>Antaranews.com</td>\n",
       "      <td>2023-11-15</td>\n",
       "      <td>https://www.antaranews.com/berita/3824628/tkn-...</td>\n",
       "      <td>negatif</td>\n",
       "      <td>tkn prabowo gibran tekan fitnah rusak politik ...</td>\n",
       "    </tr>\n",
       "    <tr>\n",
       "      <th>4</th>\n",
       "      <td>Gibran Salim ke Megawati, TKN Prabowo-Gibran: ...</td>\n",
       "      <td>Kompas.com</td>\n",
       "      <td>2023-11-15</td>\n",
       "      <td>https://nasional.kompas.com/read/2023/11/15/21...</td>\n",
       "      <td>netral</td>\n",
       "      <td>gibran salim megawati tkn prabowo gibran santu...</td>\n",
       "    </tr>\n",
       "    <tr>\n",
       "      <th>5</th>\n",
       "      <td>Jadi Cawapres Prabowo, Gibran Rakabuming Raka ...</td>\n",
       "      <td>Kompas.com</td>\n",
       "      <td>2023-11-15</td>\n",
       "      <td>https://nasional.kompas.com/read/2023/11/15/15...</td>\n",
       "      <td>netral</td>\n",
       "      <td>cawapres prabowo gibran rakabuming harta rp mi...</td>\n",
       "    </tr>\n",
       "    <tr>\n",
       "      <th>6</th>\n",
       "      <td>Target 'Mewah' Prabowo-Gibran di Sukabumi</td>\n",
       "      <td>detik.com</td>\n",
       "      <td>2023-11-15</td>\n",
       "      <td>https://www.detik.com/jabar/berita/d-7038943/t...</td>\n",
       "      <td>netral</td>\n",
       "      <td>target mewah prabowo gibran sukabumi</td>\n",
       "    </tr>\n",
       "    <tr>\n",
       "      <th>7</th>\n",
       "      <td>Bos PPI: Iman Politik Jokowi Cuma 1, Dukung Pr...</td>\n",
       "      <td>detik.com</td>\n",
       "      <td>2023-11-15</td>\n",
       "      <td>https://news.detik.com/pemilu/d-7039136/bos-pp...</td>\n",
       "      <td>netral</td>\n",
       "      <td>bos ppi politik jokowi dukung prabowo gibran</td>\n",
       "    </tr>\n",
       "    <tr>\n",
       "      <th>8</th>\n",
       "      <td>TKN Prabowo-Gibran Segera Difinalkan, Khofifah...</td>\n",
       "      <td>Kompas.com</td>\n",
       "      <td>2023-11-15</td>\n",
       "      <td>https://nasional.kompas.com/read/2023/11/15/05...</td>\n",
       "      <td>netral</td>\n",
       "      <td>tkn prabowo gibran final khofifah baris menang...</td>\n",
       "    </tr>\n",
       "    <tr>\n",
       "      <th>9</th>\n",
       "      <td>Hashim: Jangan Pilih Prabowo-Gibran Kalo Nggak...</td>\n",
       "      <td>detik.com</td>\n",
       "      <td>2023-11-15</td>\n",
       "      <td>https://news.detik.com/pemilu/d-7039055/hashim...</td>\n",
       "      <td>negatif</td>\n",
       "      <td>hashim pilih prabowo gibran suka korut</td>\n",
       "    </tr>\n",
       "  </tbody>\n",
       "</table>\n",
       "</div>"
      ],
      "text/plain": [
       "                                        judul_berita    portal_media  \\\n",
       "0  Live Now! Tim Prabowo-Gibran Beberkan Visi-Pro...  CNBC Indonesia   \n",
       "1  Waketum PAN Analogikan Prabowo-Gibran seperti ...       detik.com   \n",
       "2  Prabowo-Gibran Nomor Urut 2, Gerindra Jatim: P...       detik.com   \n",
       "3  TKN Prabowo-Gibran tekankan fitnah rusak cara ...  Antaranews.com   \n",
       "4  Gibran Salim ke Megawati, TKN Prabowo-Gibran: ...      Kompas.com   \n",
       "5  Jadi Cawapres Prabowo, Gibran Rakabuming Raka ...      Kompas.com   \n",
       "6          Target 'Mewah' Prabowo-Gibran di Sukabumi       detik.com   \n",
       "7  Bos PPI: Iman Politik Jokowi Cuma 1, Dukung Pr...       detik.com   \n",
       "8  TKN Prabowo-Gibran Segera Difinalkan, Khofifah...      Kompas.com   \n",
       "9  Hashim: Jangan Pilih Prabowo-Gibran Kalo Nggak...       detik.com   \n",
       "\n",
       "  tanggal_publikasi                                                url  \\\n",
       "0        2023-11-15  https://www.cnbcindonesia.com/news/20231115130...   \n",
       "1        2023-11-15  https://news.detik.com/pemilu/d-7038627/waketu...   \n",
       "2        2023-11-15  https://www.detik.com/jatim/berita/d-7038617/p...   \n",
       "3        2023-11-15  https://www.antaranews.com/berita/3824628/tkn-...   \n",
       "4        2023-11-15  https://nasional.kompas.com/read/2023/11/15/21...   \n",
       "5        2023-11-15  https://nasional.kompas.com/read/2023/11/15/15...   \n",
       "6        2023-11-15  https://www.detik.com/jabar/berita/d-7038943/t...   \n",
       "7        2023-11-15  https://news.detik.com/pemilu/d-7039136/bos-pp...   \n",
       "8        2023-11-15  https://nasional.kompas.com/read/2023/11/15/05...   \n",
       "9        2023-11-15  https://news.detik.com/pemilu/d-7039055/hashim...   \n",
       "\n",
       "  hasil_sentimen                                        olahan_teks  \n",
       "0         netral   live now tim prabowo gibran visi program ekonomi  \n",
       "1         netral        waketum analogi prabowo gibran rumus fisika  \n",
       "2         netral        prabowo gibran nomor gerindra jatim victory  \n",
       "3        negatif  tkn prabowo gibran tekan fitnah rusak politik ...  \n",
       "4         netral  gibran salim megawati tkn prabowo gibran santu...  \n",
       "5         netral  cawapres prabowo gibran rakabuming harta rp mi...  \n",
       "6         netral               target mewah prabowo gibran sukabumi  \n",
       "7         netral       bos ppi politik jokowi dukung prabowo gibran  \n",
       "8         netral  tkn prabowo gibran final khofifah baris menang...  \n",
       "9        negatif             hashim pilih prabowo gibran suka korut  "
      ]
     },
     "execution_count": 90,
     "metadata": {},
     "output_type": "execute_result"
    }
   ],
   "source": [
    "test.head(10)"
   ]
  },
  {
   "cell_type": "code",
   "execution_count": 91,
   "metadata": {},
   "outputs": [
    {
     "data": {
      "text/html": [
       "<div>\n",
       "<style scoped>\n",
       "    .dataframe tbody tr th:only-of-type {\n",
       "        vertical-align: middle;\n",
       "    }\n",
       "\n",
       "    .dataframe tbody tr th {\n",
       "        vertical-align: top;\n",
       "    }\n",
       "\n",
       "    .dataframe thead th {\n",
       "        text-align: right;\n",
       "    }\n",
       "</style>\n",
       "<table border=\"1\" class=\"dataframe\">\n",
       "  <thead>\n",
       "    <tr style=\"text-align: right;\">\n",
       "      <th></th>\n",
       "      <th>judul_berita</th>\n",
       "      <th>portal_media</th>\n",
       "      <th>tanggal_publikasi</th>\n",
       "      <th>url</th>\n",
       "      <th>hasil_sentimen</th>\n",
       "      <th>olahan_teks</th>\n",
       "    </tr>\n",
       "  </thead>\n",
       "  <tbody>\n",
       "    <tr>\n",
       "      <th>0</th>\n",
       "      <td>Live Now! Tim Prabowo-Gibran Beberkan Visi-Pro...</td>\n",
       "      <td>CNBC Indonesia</td>\n",
       "      <td>2023-11-15</td>\n",
       "      <td>https://www.cnbcindonesia.com/news/20231115130...</td>\n",
       "      <td>netral</td>\n",
       "      <td>live now tim prabowo gibran visi program ekonomi</td>\n",
       "    </tr>\n",
       "    <tr>\n",
       "      <th>2</th>\n",
       "      <td>Waketum PAN Analogikan Prabowo-Gibran seperti ...</td>\n",
       "      <td>detik.com</td>\n",
       "      <td>2023-11-15</td>\n",
       "      <td>https://news.detik.com/pemilu/d-7038627/waketu...</td>\n",
       "      <td>netral</td>\n",
       "      <td>waketum analogi prabowo gibran rumus fisika</td>\n",
       "    </tr>\n",
       "    <tr>\n",
       "      <th>3</th>\n",
       "      <td>Prabowo-Gibran Nomor Urut 2, Gerindra Jatim: P...</td>\n",
       "      <td>detik.com</td>\n",
       "      <td>2023-11-15</td>\n",
       "      <td>https://www.detik.com/jatim/berita/d-7038617/p...</td>\n",
       "      <td>netral</td>\n",
       "      <td>prabowo gibran nomor gerindra jatim victory</td>\n",
       "    </tr>\n",
       "    <tr>\n",
       "      <th>5</th>\n",
       "      <td>TKN Prabowo-Gibran tekankan fitnah rusak cara ...</td>\n",
       "      <td>Antaranews.com</td>\n",
       "      <td>2023-11-15</td>\n",
       "      <td>https://www.antaranews.com/berita/3824628/tkn-...</td>\n",
       "      <td>negatif</td>\n",
       "      <td>tkn prabowo gibran tekan fitnah rusak politik ...</td>\n",
       "    </tr>\n",
       "    <tr>\n",
       "      <th>6</th>\n",
       "      <td>Gibran Salim ke Megawati, TKN Prabowo-Gibran: ...</td>\n",
       "      <td>Kompas.com</td>\n",
       "      <td>2023-11-15</td>\n",
       "      <td>https://nasional.kompas.com/read/2023/11/15/21...</td>\n",
       "      <td>netral</td>\n",
       "      <td>gibran salim megawati tkn prabowo gibran santu...</td>\n",
       "    </tr>\n",
       "    <tr>\n",
       "      <th>7</th>\n",
       "      <td>Jadi Cawapres Prabowo, Gibran Rakabuming Raka ...</td>\n",
       "      <td>Kompas.com</td>\n",
       "      <td>2023-11-15</td>\n",
       "      <td>https://nasional.kompas.com/read/2023/11/15/15...</td>\n",
       "      <td>netral</td>\n",
       "      <td>cawapres prabowo gibran rakabuming harta rp mi...</td>\n",
       "    </tr>\n",
       "    <tr>\n",
       "      <th>8</th>\n",
       "      <td>Target 'Mewah' Prabowo-Gibran di Sukabumi</td>\n",
       "      <td>detik.com</td>\n",
       "      <td>2023-11-15</td>\n",
       "      <td>https://www.detik.com/jabar/berita/d-7038943/t...</td>\n",
       "      <td>netral</td>\n",
       "      <td>target mewah prabowo gibran sukabumi</td>\n",
       "    </tr>\n",
       "    <tr>\n",
       "      <th>9</th>\n",
       "      <td>Bos PPI: Iman Politik Jokowi Cuma 1, Dukung Pr...</td>\n",
       "      <td>detik.com</td>\n",
       "      <td>2023-11-15</td>\n",
       "      <td>https://news.detik.com/pemilu/d-7039136/bos-pp...</td>\n",
       "      <td>netral</td>\n",
       "      <td>bos ppi politik jokowi dukung prabowo gibran</td>\n",
       "    </tr>\n",
       "    <tr>\n",
       "      <th>10</th>\n",
       "      <td>TKN Prabowo-Gibran Segera Difinalkan, Khofifah...</td>\n",
       "      <td>Kompas.com</td>\n",
       "      <td>2023-11-15</td>\n",
       "      <td>https://nasional.kompas.com/read/2023/11/15/05...</td>\n",
       "      <td>netral</td>\n",
       "      <td>tkn prabowo gibran final khofifah baris menang...</td>\n",
       "    </tr>\n",
       "    <tr>\n",
       "      <th>11</th>\n",
       "      <td>Hashim: Jangan Pilih Prabowo-Gibran Kalo Nggak...</td>\n",
       "      <td>detik.com</td>\n",
       "      <td>2023-11-15</td>\n",
       "      <td>https://news.detik.com/pemilu/d-7039055/hashim...</td>\n",
       "      <td>negatif</td>\n",
       "      <td>hashim pilih prabowo gibran suka korut</td>\n",
       "    </tr>\n",
       "  </tbody>\n",
       "</table>\n",
       "</div>"
      ],
      "text/plain": [
       "                                         judul_berita    portal_media  \\\n",
       "0   Live Now! Tim Prabowo-Gibran Beberkan Visi-Pro...  CNBC Indonesia   \n",
       "2   Waketum PAN Analogikan Prabowo-Gibran seperti ...       detik.com   \n",
       "3   Prabowo-Gibran Nomor Urut 2, Gerindra Jatim: P...       detik.com   \n",
       "5   TKN Prabowo-Gibran tekankan fitnah rusak cara ...  Antaranews.com   \n",
       "6   Gibran Salim ke Megawati, TKN Prabowo-Gibran: ...      Kompas.com   \n",
       "7   Jadi Cawapres Prabowo, Gibran Rakabuming Raka ...      Kompas.com   \n",
       "8           Target 'Mewah' Prabowo-Gibran di Sukabumi       detik.com   \n",
       "9   Bos PPI: Iman Politik Jokowi Cuma 1, Dukung Pr...       detik.com   \n",
       "10  TKN Prabowo-Gibran Segera Difinalkan, Khofifah...      Kompas.com   \n",
       "11  Hashim: Jangan Pilih Prabowo-Gibran Kalo Nggak...       detik.com   \n",
       "\n",
       "   tanggal_publikasi                                                url  \\\n",
       "0         2023-11-15  https://www.cnbcindonesia.com/news/20231115130...   \n",
       "2         2023-11-15  https://news.detik.com/pemilu/d-7038627/waketu...   \n",
       "3         2023-11-15  https://www.detik.com/jatim/berita/d-7038617/p...   \n",
       "5         2023-11-15  https://www.antaranews.com/berita/3824628/tkn-...   \n",
       "6         2023-11-15  https://nasional.kompas.com/read/2023/11/15/21...   \n",
       "7         2023-11-15  https://nasional.kompas.com/read/2023/11/15/15...   \n",
       "8         2023-11-15  https://www.detik.com/jabar/berita/d-7038943/t...   \n",
       "9         2023-11-15  https://news.detik.com/pemilu/d-7039136/bos-pp...   \n",
       "10        2023-11-15  https://nasional.kompas.com/read/2023/11/15/05...   \n",
       "11        2023-11-15  https://news.detik.com/pemilu/d-7039055/hashim...   \n",
       "\n",
       "   hasil_sentimen                                        olahan_teks  \n",
       "0          netral   live now tim prabowo gibran visi program ekonomi  \n",
       "2          netral        waketum analogi prabowo gibran rumus fisika  \n",
       "3          netral        prabowo gibran nomor gerindra jatim victory  \n",
       "5         negatif  tkn prabowo gibran tekan fitnah rusak politik ...  \n",
       "6          netral  gibran salim megawati tkn prabowo gibran santu...  \n",
       "7          netral  cawapres prabowo gibran rakabuming harta rp mi...  \n",
       "8          netral               target mewah prabowo gibran sukabumi  \n",
       "9          netral       bos ppi politik jokowi dukung prabowo gibran  \n",
       "10         netral  tkn prabowo gibran final khofifah baris menang...  \n",
       "11        negatif             hashim pilih prabowo gibran suka korut  "
      ]
     },
     "execution_count": 91,
     "metadata": {},
     "output_type": "execute_result"
    }
   ],
   "source": [
    "df.head(10)"
   ]
  },
  {
   "cell_type": "markdown",
   "metadata": {},
   "source": [
    "# Exporting Word Based On Date Dataframe"
   ]
  },
  {
   "cell_type": "code",
   "execution_count": 93,
   "metadata": {},
   "outputs": [],
   "source": [
    "# splitting the text into words and associating each word with its publication date\n",
    "word_date_pairs = [(word, date) for text, date in zip(df['olahan_teks'], df['tanggal_publikasi']) for word in text.split()]\n",
    "\n",
    "# counting the frequency of each word-date pair\n",
    "word_date_freq = Counter(word_date_pairs)\n",
    "\n",
    "# creating a new DataFrame from the word-date-frequency data\n",
    "word_freq_date_df = pd.DataFrame([(word, date, freq) for (word, date), freq in word_date_freq.items()], columns=['Word', 'Date', 'Frequency'])\n",
    "\n",
    "# displaying the first few rows of the new DataFrame\n",
    "word_freq_date_df.to_csv('kata_tanggal.csv', index=False)"
   ]
  }
 ],
 "metadata": {
  "kernelspec": {
   "display_name": "main",
   "language": "python",
   "name": "python3"
  },
  "language_info": {
   "codemirror_mode": {
    "name": "ipython",
    "version": 3
   },
   "file_extension": ".py",
   "mimetype": "text/x-python",
   "name": "python",
   "nbconvert_exporter": "python",
   "pygments_lexer": "ipython3",
   "version": "3.9.18"
  }
 },
 "nbformat": 4,
 "nbformat_minor": 2
}
