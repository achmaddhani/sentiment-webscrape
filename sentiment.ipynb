{
 "cells": [
  {
   "cell_type": "code",
   "execution_count": 1,
   "metadata": {},
   "outputs": [],
   "source": [
    "import warnings\n",
    "warnings.filterwarnings(\"ignore\")"
   ]
  },
  {
   "cell_type": "code",
   "execution_count": 2,
   "metadata": {},
   "outputs": [],
   "source": [
    "from transformers import pipeline\n",
    "import pandas as pd"
   ]
  },
  {
   "cell_type": "code",
   "execution_count": 3,
   "metadata": {},
   "outputs": [
    {
     "name": "stderr",
     "output_type": "stream",
     "text": [
      "tokenizer_config.json: 100%|██████████| 328/328 [00:00<00:00, 106kB/s]\n",
      "vocab.json: 100%|██████████| 808k/808k [00:00<00:00, 1.07MB/s]\n",
      "merges.txt: 100%|██████████| 467k/467k [00:00<00:00, 616kB/s]\n",
      "tokenizer.json: 100%|██████████| 1.38M/1.38M [00:01<00:00, 1.09MB/s]\n",
      "special_tokens_map.json: 100%|██████████| 239/239 [00:00<00:00, 128kB/s]\n"
     ]
    }
   ],
   "source": [
    "pretrained_name = \"w11wo/indonesian-roberta-base-sentiment-classifier\"\n",
    "\n",
    "nlp = pipeline(\n",
    "    \"sentiment-analysis\",\n",
    "    model=pretrained_name,\n",
    "    tokenizer=pretrained_name\n",
    ")"
   ]
  },
  {
   "cell_type": "code",
   "execution_count": 29,
   "metadata": {},
   "outputs": [],
   "source": [
    "def sentiment_result(text):\n",
    "    result= nlp(text)\n",
    "    if result[0]['label'] == 'positive':\n",
    "        return 'positif'\n",
    "    elif result[0]['label'] == 'negative':\n",
    "        return 'negatif'\n",
    "    else:\n",
    "        return 'netral'"
   ]
  },
  {
   "cell_type": "code",
   "execution_count": 43,
   "metadata": {},
   "outputs": [],
   "source": [
    "test = nlp('saya senang sekali hari ini')"
   ]
  },
  {
   "cell_type": "code",
   "execution_count": 44,
   "metadata": {},
   "outputs": [
    {
     "data": {
      "text/plain": [
       "'positive'"
      ]
     },
     "execution_count": 44,
     "metadata": {},
     "output_type": "execute_result"
    }
   ],
   "source": [
    "test[0]['label']"
   ]
  },
  {
   "cell_type": "code",
   "execution_count": 30,
   "metadata": {},
   "outputs": [],
   "source": [
    "df= pd.read_csv('webscrape.csv', delimiter=';')"
   ]
  },
  {
   "cell_type": "code",
   "execution_count": 31,
   "metadata": {},
   "outputs": [
    {
     "name": "stdout",
     "output_type": "stream",
     "text": [
      "<class 'pandas.core.frame.DataFrame'>\n",
      "RangeIndex: 137 entries, 0 to 136\n",
      "Data columns (total 3 columns):\n",
      " #   Column             Non-Null Count  Dtype \n",
      "---  ------             --------------  ----- \n",
      " 0   judul_berita       137 non-null    object\n",
      " 1   media              137 non-null    object\n",
      " 2   tanggal_publikasi  137 non-null    object\n",
      "dtypes: object(3)\n",
      "memory usage: 3.3+ KB\n"
     ]
    }
   ],
   "source": [
    "df.info()"
   ]
  },
  {
   "cell_type": "code",
   "execution_count": 32,
   "metadata": {},
   "outputs": [],
   "source": [
    "df['hasil_sentimen']= df['judul_berita'].apply(sentiment_result)"
   ]
  },
  {
   "cell_type": "code",
   "execution_count": 40,
   "metadata": {},
   "outputs": [
    {
     "data": {
      "text/html": [
       "<div>\n",
       "<style scoped>\n",
       "    .dataframe tbody tr th:only-of-type {\n",
       "        vertical-align: middle;\n",
       "    }\n",
       "\n",
       "    .dataframe tbody tr th {\n",
       "        vertical-align: top;\n",
       "    }\n",
       "\n",
       "    .dataframe thead th {\n",
       "        text-align: right;\n",
       "    }\n",
       "</style>\n",
       "<table border=\"1\" class=\"dataframe\">\n",
       "  <thead>\n",
       "    <tr style=\"text-align: right;\">\n",
       "      <th></th>\n",
       "      <th>judul_berita</th>\n",
       "      <th>media</th>\n",
       "      <th>tanggal_publikasi</th>\n",
       "      <th>hasil_sentimen</th>\n",
       "    </tr>\n",
       "  </thead>\n",
       "  <tbody>\n",
       "    <tr>\n",
       "      <th>79</th>\n",
       "      <td>Relawan JARGON Deklarasi Dukung Prabowo-Gibran...</td>\n",
       "      <td>detikNews</td>\n",
       "      <td>2 minggu lalu</td>\n",
       "      <td>netral</td>\n",
       "    </tr>\n",
       "    <tr>\n",
       "      <th>55</th>\n",
       "      <td>Pengamat Ragu Prabowo-Gibran Menang Satu Putar...</td>\n",
       "      <td>Tribunnews.com</td>\n",
       "      <td>1 hari lalu</td>\n",
       "      <td>netral</td>\n",
       "    </tr>\n",
       "    <tr>\n",
       "      <th>113</th>\n",
       "      <td>RK: TKD Prabowo-Gibran Komitmen Dukung Netrali...</td>\n",
       "      <td>CNN Indonesia</td>\n",
       "      <td>6 hari lalu</td>\n",
       "      <td>netral</td>\n",
       "    </tr>\n",
       "    <tr>\n",
       "      <th>65</th>\n",
       "      <td>Targetkan Menang Satu Putaran, Prabowo-Gibran ...</td>\n",
       "      <td>Kompas.id</td>\n",
       "      <td>2 minggu lalu</td>\n",
       "      <td>netral</td>\n",
       "    </tr>\n",
       "    <tr>\n",
       "      <th>118</th>\n",
       "      <td>Kampanye Hari ke-6: Ini Jadwal AMIN, Prabowo-G...</td>\n",
       "      <td>detikNews</td>\n",
       "      <td>1 minggu lalu</td>\n",
       "      <td>netral</td>\n",
       "    </tr>\n",
       "    <tr>\n",
       "      <th>75</th>\n",
       "      <td>TKN: Framing Prabowo-Gibran Hindari Debat Tak ...</td>\n",
       "      <td>detikNews</td>\n",
       "      <td>6 hari lalu</td>\n",
       "      <td>netral</td>\n",
       "    </tr>\n",
       "    <tr>\n",
       "      <th>52</th>\n",
       "      <td>Nusron Wahid: Prabowo-Gibran Gimiknya Cuma Jog...</td>\n",
       "      <td>Merdeka.com</td>\n",
       "      <td>2 hari lalu</td>\n",
       "      <td>netral</td>\n",
       "    </tr>\n",
       "    <tr>\n",
       "      <th>96</th>\n",
       "      <td>TPN Ganjar-Mahfud Sindir Prabowo-Gibran: Dua M...</td>\n",
       "      <td>Politik</td>\n",
       "      <td>3 hari lalu</td>\n",
       "      <td>netral</td>\n",
       "    </tr>\n",
       "    <tr>\n",
       "      <th>120</th>\n",
       "      <td>TKN: 60 Bu Nyai dan Majelis Taklim Jateng Duku...</td>\n",
       "      <td>KOMPAS.com</td>\n",
       "      <td>1 minggu lalu</td>\n",
       "      <td>netral</td>\n",
       "    </tr>\n",
       "    <tr>\n",
       "      <th>34</th>\n",
       "      <td>Hari Ini Debat Pertama Capres Cawapres, ICJR S...</td>\n",
       "      <td>Nasional</td>\n",
       "      <td>1 hari lalu</td>\n",
       "      <td>netral</td>\n",
       "    </tr>\n",
       "    <tr>\n",
       "      <th>13</th>\n",
       "      <td>Mampu Berantas Korupsi, Prabowo-Gibran Berpote...</td>\n",
       "      <td>Tribun Jabar</td>\n",
       "      <td>2 jam lalu</td>\n",
       "      <td>netral</td>\n",
       "    </tr>\n",
       "    <tr>\n",
       "      <th>0</th>\n",
       "      <td>[HOAKS] Paslon Prabowo-Gibran Bubar - 12/12/20...</td>\n",
       "      <td>Kabar Sanggau</td>\n",
       "      <td>6 jam lalu</td>\n",
       "      <td>netral</td>\n",
       "    </tr>\n",
       "    <tr>\n",
       "      <th>33</th>\n",
       "      <td>Sejumlah Buruh Pelabuhan di Cilincing Deklaras...</td>\n",
       "      <td>KOMPAS.com</td>\n",
       "      <td>4 hari lalu</td>\n",
       "      <td>netral</td>\n",
       "    </tr>\n",
       "    <tr>\n",
       "      <th>126</th>\n",
       "      <td>Prabowo-Gibran Janji Bangun 150.000 Rumah di D...</td>\n",
       "      <td>kumparan</td>\n",
       "      <td>3 hari lalu</td>\n",
       "      <td>netral</td>\n",
       "    </tr>\n",
       "    <tr>\n",
       "      <th>11</th>\n",
       "      <td>Komunitas 'Starling' Deklarasi Dukung Prabowo-...</td>\n",
       "      <td>CNN Indonesia</td>\n",
       "      <td>14 jam lalu</td>\n",
       "      <td>netral</td>\n",
       "    </tr>\n",
       "  </tbody>\n",
       "</table>\n",
       "</div>"
      ],
      "text/plain": [
       "                                          judul_berita           media  \\\n",
       "79   Relawan JARGON Deklarasi Dukung Prabowo-Gibran...       detikNews   \n",
       "55   Pengamat Ragu Prabowo-Gibran Menang Satu Putar...  Tribunnews.com   \n",
       "113  RK: TKD Prabowo-Gibran Komitmen Dukung Netrali...   CNN Indonesia   \n",
       "65   Targetkan Menang Satu Putaran, Prabowo-Gibran ...       Kompas.id   \n",
       "118  Kampanye Hari ke-6: Ini Jadwal AMIN, Prabowo-G...       detikNews   \n",
       "75   TKN: Framing Prabowo-Gibran Hindari Debat Tak ...       detikNews   \n",
       "52   Nusron Wahid: Prabowo-Gibran Gimiknya Cuma Jog...     Merdeka.com   \n",
       "96   TPN Ganjar-Mahfud Sindir Prabowo-Gibran: Dua M...         Politik   \n",
       "120  TKN: 60 Bu Nyai dan Majelis Taklim Jateng Duku...      KOMPAS.com   \n",
       "34   Hari Ini Debat Pertama Capres Cawapres, ICJR S...        Nasional   \n",
       "13   Mampu Berantas Korupsi, Prabowo-Gibran Berpote...    Tribun Jabar   \n",
       "0    [HOAKS] Paslon Prabowo-Gibran Bubar - 12/12/20...   Kabar Sanggau   \n",
       "33   Sejumlah Buruh Pelabuhan di Cilincing Deklaras...      KOMPAS.com   \n",
       "126  Prabowo-Gibran Janji Bangun 150.000 Rumah di D...        kumparan   \n",
       "11   Komunitas 'Starling' Deklarasi Dukung Prabowo-...   CNN Indonesia   \n",
       "\n",
       "    tanggal_publikasi hasil_sentimen  \n",
       "79      2 minggu lalu         netral  \n",
       "55        1 hari lalu         netral  \n",
       "113       6 hari lalu         netral  \n",
       "65      2 minggu lalu         netral  \n",
       "118     1 minggu lalu         netral  \n",
       "75        6 hari lalu         netral  \n",
       "52        2 hari lalu         netral  \n",
       "96        3 hari lalu         netral  \n",
       "120     1 minggu lalu         netral  \n",
       "34        1 hari lalu         netral  \n",
       "13         2 jam lalu         netral  \n",
       "0          6 jam lalu         netral  \n",
       "33        4 hari lalu         netral  \n",
       "126       3 hari lalu         netral  \n",
       "11        14 jam lalu         netral  "
      ]
     },
     "execution_count": 40,
     "metadata": {},
     "output_type": "execute_result"
    }
   ],
   "source": [
    "df.sample(15)"
   ]
  },
  {
   "cell_type": "code",
   "execution_count": 42,
   "metadata": {},
   "outputs": [
    {
     "data": {
      "text/plain": [
       "hasil_sentimen\n",
       "netral     128\n",
       "negatif      8\n",
       "positif      1\n",
       "Name: count, dtype: int64"
      ]
     },
     "execution_count": 42,
     "metadata": {},
     "output_type": "execute_result"
    }
   ],
   "source": [
    "df['hasil_sentimen'].value_counts()"
   ]
  },
  {
   "cell_type": "code",
   "execution_count": 12,
   "metadata": {},
   "outputs": [
    {
     "name": "stdout",
     "output_type": "stream",
     "text": [
      "[{'label': 'positive', 'score': 0.99562007188797}]\n"
     ]
    }
   ],
   "source": [
    "print(nlp('saya senang sekali hari ini'))"
   ]
  },
  {
   "cell_type": "code",
   "execution_count": 28,
   "metadata": {},
   "outputs": [],
   "source": [
    "df.to_csv('hasil_sentimen.csv', sep=';', index= False)"
   ]
  },
  {
   "cell_type": "code",
   "execution_count": null,
   "metadata": {},
   "outputs": [],
   "source": []
  }
 ],
 "metadata": {
  "kernelspec": {
   "display_name": "indosentimen",
   "language": "python",
   "name": "python3"
  },
  "language_info": {
   "codemirror_mode": {
    "name": "ipython",
    "version": 3
   },
   "file_extension": ".py",
   "mimetype": "text/x-python",
   "name": "python",
   "nbconvert_exporter": "python",
   "pygments_lexer": "ipython3",
   "version": "3.9.18"
  }
 },
 "nbformat": 4,
 "nbformat_minor": 2
}
