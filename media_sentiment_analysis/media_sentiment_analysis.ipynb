{
 "cells": [
  {
   "cell_type": "markdown",
   "metadata": {},
   "source": [
    "# I. Introduction\n",
    "\n",
    "\n",
    "*This notebook is prepared to analyze news titles into 3 sentiment categories which are positive, negative and neutral on an existing dataset using a pretrained model*\n",
    "\n",
    "*Model : [indonesian-roberta-base-sentiment-classifier](https://huggingface.co/w11wo/indonesian-roberta-base-sentiment-classifier)*\n",
    "\n",
    "*Stopwords and Lemmatization : [NLP_bahasa_resources](https://github.com/louisowen6/NLP_bahasa_resources)*\n",
    "\n",
    "*Prepared by* : **Achmad Dhani & Faris Arief Mawardi**"
   ]
  },
  {
   "cell_type": "markdown",
   "metadata": {},
   "source": [
    "# II. Import Libraries and Setting Up Functions"
   ]
  },
  {
   "cell_type": "markdown",
   "metadata": {},
   "source": [
    "## 2.1 Libraries"
   ]
  },
  {
   "cell_type": "code",
   "execution_count": 1,
   "metadata": {},
   "outputs": [],
   "source": [
    "import warnings\n",
    "warnings.filterwarnings(\"ignore\")"
   ]
  },
  {
   "cell_type": "code",
   "execution_count": 32,
   "metadata": {},
   "outputs": [],
   "source": [
    "import pandas as pd\n",
    "import nltk\n",
    "import numpy as np\n",
    "import nltk\n",
    "from nltk.tokenize import word_tokenize\n",
    "from nlp_id.lemmatizer import Lemmatizer\n",
    "import re\n",
    "import ast\n",
    "from transformers import pipeline\n",
    "from collections import Counter"
   ]
  },
  {
   "cell_type": "code",
   "execution_count": 3,
   "metadata": {},
   "outputs": [
    {
     "name": "stderr",
     "output_type": "stream",
     "text": [
      "[nltk_data] Downloading package punkt to\n",
      "[nltk_data]     /Users/achmaddhani/nltk_data...\n",
      "[nltk_data]   Package punkt is already up-to-date!\n"
     ]
    },
    {
     "data": {
      "text/plain": [
       "True"
      ]
     },
     "execution_count": 3,
     "metadata": {},
     "output_type": "execute_result"
    }
   ],
   "source": [
    "nltk.download('punkt')"
   ]
  },
  {
   "cell_type": "code",
   "execution_count": 4,
   "metadata": {},
   "outputs": [],
   "source": [
    "# loading\n",
    "with open('/Users/achmaddhani/projects/resources/NLP_bahasa_resources/combined_stop_words.txt', 'r') as file_1:\n",
    "    stop_words= file_1.read()\n",
    "    \n",
    "with open('/Users/achmaddhani/projects/resources/NLP_bahasa_resources/combined_slang_words.txt', 'r') as file_2:\n",
    "    word_variations_string= file_2.read()\n",
    "    word_variations = ast.literal_eval(word_variations_string)"
   ]
  },
  {
   "cell_type": "markdown",
   "metadata": {},
   "source": [
    "## 2.2 Model"
   ]
  },
  {
   "cell_type": "code",
   "execution_count": 5,
   "metadata": {},
   "outputs": [],
   "source": [
    "pretrained_name = \"w11wo/indonesian-roberta-base-sentiment-classifier\"\n",
    "\n",
    "nlp = pipeline(\n",
    "    \"sentiment-analysis\",\n",
    "    model=pretrained_name,\n",
    "    tokenizer=pretrained_name\n",
    ")"
   ]
  },
  {
   "cell_type": "markdown",
   "metadata": {},
   "source": [
    "## 2.3 Functions"
   ]
  },
  {
   "cell_type": "code",
   "execution_count": 6,
   "metadata": {},
   "outputs": [],
   "source": [
    "special_char_removal = re.compile(r\"[^a-zA-Z\\s\\']\")\n",
    "lemmatizer = Lemmatizer()\n",
    "\n",
    "def text_preprocessing(text):\n",
    "    text = text.lower()\n",
    "    text = special_char_removal.sub(\" \", text)\n",
    "    tokens = word_tokenize(text) # tokenization\n",
    "\n",
    "    tokens = [word_variations.get(word, word) for word in tokens]  # correcting the additional spellings\n",
    "    tokens = [lemmatizer.lemmatize(word) for word in tokens]  # Lemmatize to get the root of the words\n",
    "    tokens = [word for word in tokens if word not in stop_words]  # removing stop words\n",
    "    \n",
    "    processed_text = ' '.join(tokens)\n",
    "\n",
    "    return processed_text\n",
    "\n",
    "def sentiment_result(text):\n",
    "    result= nlp(text)\n",
    "    if result[0]['label'] == 'positive':\n",
    "        return 'positif'\n",
    "    elif result[0]['label'] == 'negative':\n",
    "        return 'negatif'\n",
    "    else:\n",
    "        return 'netral'"
   ]
  },
  {
   "cell_type": "markdown",
   "metadata": {},
   "source": [
    "# III. Sentiment Analysis"
   ]
  },
  {
   "cell_type": "markdown",
   "metadata": {},
   "source": [
    "## 3.1 Predicting Sentiment"
   ]
  },
  {
   "cell_type": "markdown",
   "metadata": {},
   "source": [
    "**Testing the model**"
   ]
  },
  {
   "cell_type": "code",
   "execution_count": 7,
   "metadata": {},
   "outputs": [
    {
     "name": "stdout",
     "output_type": "stream",
     "text": [
      "[{'label': 'positive', 'score': 0.99562007188797}]\n"
     ]
    }
   ],
   "source": [
    "test = nlp('saya senang sekali hari ini')\n",
    "print(test)"
   ]
  },
  {
   "cell_type": "markdown",
   "metadata": {},
   "source": [
    "**Predicting**"
   ]
  },
  {
   "cell_type": "code",
   "execution_count": 20,
   "metadata": {},
   "outputs": [],
   "source": [
    "df= pd.read_csv('./media_datasets/cleaned_media.csv')"
   ]
  },
  {
   "cell_type": "code",
   "execution_count": 21,
   "metadata": {},
   "outputs": [
    {
     "data": {
      "text/html": [
       "<div>\n",
       "<style scoped>\n",
       "    .dataframe tbody tr th:only-of-type {\n",
       "        vertical-align: middle;\n",
       "    }\n",
       "\n",
       "    .dataframe tbody tr th {\n",
       "        vertical-align: top;\n",
       "    }\n",
       "\n",
       "    .dataframe thead th {\n",
       "        text-align: right;\n",
       "    }\n",
       "</style>\n",
       "<table border=\"1\" class=\"dataframe\">\n",
       "  <thead>\n",
       "    <tr style=\"text-align: right;\">\n",
       "      <th></th>\n",
       "      <th>judul_berita</th>\n",
       "      <th>portal_media</th>\n",
       "      <th>tanggal_publikasi</th>\n",
       "      <th>url</th>\n",
       "    </tr>\n",
       "  </thead>\n",
       "  <tbody>\n",
       "    <tr>\n",
       "      <th>0</th>\n",
       "      <td>Live Now! Tim Prabowo-Gibran Beberkan Visi-Pro...</td>\n",
       "      <td>CNBC Indonesia</td>\n",
       "      <td>2023-11-15</td>\n",
       "      <td>https://www.cnbcindonesia.com/news/20231115130...</td>\n",
       "    </tr>\n",
       "    <tr>\n",
       "      <th>1</th>\n",
       "      <td>Waketum PAN Analogikan Prabowo-Gibran seperti ...</td>\n",
       "      <td>detik.com</td>\n",
       "      <td>2023-11-15</td>\n",
       "      <td>https://news.detik.com/pemilu/d-7038627/waketu...</td>\n",
       "    </tr>\n",
       "    <tr>\n",
       "      <th>2</th>\n",
       "      <td>Prabowo-Gibran Nomor Urut 2, Gerindra Jatim: P...</td>\n",
       "      <td>detik.com</td>\n",
       "      <td>2023-11-15</td>\n",
       "      <td>https://www.detik.com/jatim/berita/d-7038617/p...</td>\n",
       "    </tr>\n",
       "    <tr>\n",
       "      <th>3</th>\n",
       "      <td>TKN Prabowo-Gibran tekankan fitnah rusak cara ...</td>\n",
       "      <td>Antaranews.com</td>\n",
       "      <td>2023-11-15</td>\n",
       "      <td>https://www.antaranews.com/berita/3824628/tkn-...</td>\n",
       "    </tr>\n",
       "    <tr>\n",
       "      <th>4</th>\n",
       "      <td>Gibran Salim ke Megawati, TKN Prabowo-Gibran: ...</td>\n",
       "      <td>Kompas.com</td>\n",
       "      <td>2023-11-15</td>\n",
       "      <td>https://nasional.kompas.com/read/2023/11/15/21...</td>\n",
       "    </tr>\n",
       "    <tr>\n",
       "      <th>...</th>\n",
       "      <td>...</td>\n",
       "      <td>...</td>\n",
       "      <td>...</td>\n",
       "      <td>...</td>\n",
       "    </tr>\n",
       "    <tr>\n",
       "      <th>1981</th>\n",
       "      <td>Mahfud Md ke Pendukung: Jangan Terpengaruh Has...</td>\n",
       "      <td>detik.com</td>\n",
       "      <td>2023-12-15</td>\n",
       "      <td>https://www.detik.com/jabar/berita/d-7092431/m...</td>\n",
       "    </tr>\n",
       "    <tr>\n",
       "      <th>1982</th>\n",
       "      <td>Alumni HMI Prihatin Banyak Caleg Tak Pasang Fo...</td>\n",
       "      <td>DRberita.ID</td>\n",
       "      <td>2023-12-15</td>\n",
       "      <td>https://www.drberita.id/politik/alumni-hmi-pri...</td>\n",
       "    </tr>\n",
       "    <tr>\n",
       "      <th>1983</th>\n",
       "      <td>Gibran Slated for First Campaign Outside of Java</td>\n",
       "      <td>Jakarta Globe</td>\n",
       "      <td>2023-12-15</td>\n",
       "      <td>https://jakartaglobe.id/news/gibran-slated-for...</td>\n",
       "    </tr>\n",
       "    <tr>\n",
       "      <th>1984</th>\n",
       "      <td>Anies Singgung Soal Oposisi, Prabowo Singgung ...</td>\n",
       "      <td>Kompas.com</td>\n",
       "      <td>2023-12-15</td>\n",
       "      <td>https://www.kompas.tv/video/469419/anies-singg...</td>\n",
       "    </tr>\n",
       "    <tr>\n",
       "      <th>1985</th>\n",
       "      <td>Hari Ini, Ketum PAN Turun Gunung Ke Sumsel</td>\n",
       "      <td>beritapagi</td>\n",
       "      <td>2023-12-15</td>\n",
       "      <td>https://beritapagi.co.id/2023/12/16/hari-ini-k...</td>\n",
       "    </tr>\n",
       "  </tbody>\n",
       "</table>\n",
       "<p>1986 rows × 4 columns</p>\n",
       "</div>"
      ],
      "text/plain": [
       "                                           judul_berita    portal_media  \\\n",
       "0     Live Now! Tim Prabowo-Gibran Beberkan Visi-Pro...  CNBC Indonesia   \n",
       "1     Waketum PAN Analogikan Prabowo-Gibran seperti ...       detik.com   \n",
       "2     Prabowo-Gibran Nomor Urut 2, Gerindra Jatim: P...       detik.com   \n",
       "3     TKN Prabowo-Gibran tekankan fitnah rusak cara ...  Antaranews.com   \n",
       "4     Gibran Salim ke Megawati, TKN Prabowo-Gibran: ...      Kompas.com   \n",
       "...                                                 ...             ...   \n",
       "1981  Mahfud Md ke Pendukung: Jangan Terpengaruh Has...       detik.com   \n",
       "1982  Alumni HMI Prihatin Banyak Caleg Tak Pasang Fo...     DRberita.ID   \n",
       "1983   Gibran Slated for First Campaign Outside of Java   Jakarta Globe   \n",
       "1984  Anies Singgung Soal Oposisi, Prabowo Singgung ...      Kompas.com   \n",
       "1985         Hari Ini, Ketum PAN Turun Gunung Ke Sumsel      beritapagi   \n",
       "\n",
       "     tanggal_publikasi                                                url  \n",
       "0           2023-11-15  https://www.cnbcindonesia.com/news/20231115130...  \n",
       "1           2023-11-15  https://news.detik.com/pemilu/d-7038627/waketu...  \n",
       "2           2023-11-15  https://www.detik.com/jatim/berita/d-7038617/p...  \n",
       "3           2023-11-15  https://www.antaranews.com/berita/3824628/tkn-...  \n",
       "4           2023-11-15  https://nasional.kompas.com/read/2023/11/15/21...  \n",
       "...                ...                                                ...  \n",
       "1981        2023-12-15  https://www.detik.com/jabar/berita/d-7092431/m...  \n",
       "1982        2023-12-15  https://www.drberita.id/politik/alumni-hmi-pri...  \n",
       "1983        2023-12-15  https://jakartaglobe.id/news/gibran-slated-for...  \n",
       "1984        2023-12-15  https://www.kompas.tv/video/469419/anies-singg...  \n",
       "1985        2023-12-15  https://beritapagi.co.id/2023/12/16/hari-ini-k...  \n",
       "\n",
       "[1986 rows x 4 columns]"
      ]
     },
     "execution_count": 21,
     "metadata": {},
     "output_type": "execute_result"
    }
   ],
   "source": [
    "df"
   ]
  },
  {
   "cell_type": "code",
   "execution_count": 22,
   "metadata": {},
   "outputs": [],
   "source": [
    "df['hasil_sentimen']= df['judul_berita'].apply(sentiment_result)"
   ]
  },
  {
   "cell_type": "code",
   "execution_count": 23,
   "metadata": {},
   "outputs": [
    {
     "data": {
      "text/html": [
       "<div>\n",
       "<style scoped>\n",
       "    .dataframe tbody tr th:only-of-type {\n",
       "        vertical-align: middle;\n",
       "    }\n",
       "\n",
       "    .dataframe tbody tr th {\n",
       "        vertical-align: top;\n",
       "    }\n",
       "\n",
       "    .dataframe thead th {\n",
       "        text-align: right;\n",
       "    }\n",
       "</style>\n",
       "<table border=\"1\" class=\"dataframe\">\n",
       "  <thead>\n",
       "    <tr style=\"text-align: right;\">\n",
       "      <th></th>\n",
       "      <th>judul_berita</th>\n",
       "      <th>portal_media</th>\n",
       "      <th>tanggal_publikasi</th>\n",
       "      <th>url</th>\n",
       "      <th>hasil_sentimen</th>\n",
       "    </tr>\n",
       "  </thead>\n",
       "  <tbody>\n",
       "    <tr>\n",
       "      <th>1924</th>\n",
       "      <td>Ketua TKD Prabowo-Gibran Sulteng Minta Koalisi...</td>\n",
       "      <td>TribunNews</td>\n",
       "      <td>2023-12-15</td>\n",
       "      <td>https://palu.tribunnews.com/2023/12/15/ketua-t...</td>\n",
       "      <td>netral</td>\n",
       "    </tr>\n",
       "    <tr>\n",
       "      <th>1427</th>\n",
       "      <td>Indikator Politik: Prabowo-Gibran 45,8%, Mengu...</td>\n",
       "      <td>Databoks</td>\n",
       "      <td>2023-12-10</td>\n",
       "      <td>https://databoks.katadata.co.id/datapublish/20...</td>\n",
       "      <td>netral</td>\n",
       "    </tr>\n",
       "    <tr>\n",
       "      <th>1352</th>\n",
       "      <td>Prabowo-Gibran Diyakini Mampu Wujudkan Harapan...</td>\n",
       "      <td>detik.com</td>\n",
       "      <td>2023-12-09</td>\n",
       "      <td>https://news.detik.com/pemilu/d-7080978/prabow...</td>\n",
       "      <td>netral</td>\n",
       "    </tr>\n",
       "    <tr>\n",
       "      <th>1711</th>\n",
       "      <td>Lima Rekomendasi Relawan Penerus Negeri untuk ...</td>\n",
       "      <td>Merdeka.com</td>\n",
       "      <td>2023-12-13</td>\n",
       "      <td>https://www.merdeka.com/politik/lima-rekomenda...</td>\n",
       "      <td>netral</td>\n",
       "    </tr>\n",
       "    <tr>\n",
       "      <th>963</th>\n",
       "      <td>Berkunjung ke Banten, Prabowo Dianggap Peduli ...</td>\n",
       "      <td>Radar Banten</td>\n",
       "      <td>2023-12-04</td>\n",
       "      <td>https://www.radarbanten.co.id/2023/12/04/berku...</td>\n",
       "      <td>netral</td>\n",
       "    </tr>\n",
       "    <tr>\n",
       "      <th>1221</th>\n",
       "      <td>Fahri Yakin Prabowo-Gibran Memenangi Pertarung...</td>\n",
       "      <td>Lombok Post</td>\n",
       "      <td>2023-12-07</td>\n",
       "      <td>https://lombokpost.jawapos.com/politika/150344...</td>\n",
       "      <td>netral</td>\n",
       "    </tr>\n",
       "    <tr>\n",
       "      <th>118</th>\n",
       "      <td>PSI Aceh Dukung Tim Hukum Prabowo-Gibran Lapor...</td>\n",
       "      <td>Serambinews.com</td>\n",
       "      <td>2023-11-17</td>\n",
       "      <td>https://aceh.tribunnews.com/2023/11/17/psi-ace...</td>\n",
       "      <td>netral</td>\n",
       "    </tr>\n",
       "    <tr>\n",
       "      <th>958</th>\n",
       "      <td>Sederet Blunder yang Diciptakan Gibran saat Ka...</td>\n",
       "      <td>Kabar24</td>\n",
       "      <td>2023-12-04</td>\n",
       "      <td>https://kabar24.bisnis.com/read/20231204/15/17...</td>\n",
       "      <td>netral</td>\n",
       "    </tr>\n",
       "    <tr>\n",
       "      <th>908</th>\n",
       "      <td>Bantah Dukung Prabowo-Gibran, Abuya Muhtadi: J...</td>\n",
       "      <td>Video</td>\n",
       "      <td>2023-12-04</td>\n",
       "      <td>https://video.kompas.com/watch/1073762/bantah-...</td>\n",
       "      <td>netral</td>\n",
       "    </tr>\n",
       "    <tr>\n",
       "      <th>1064</th>\n",
       "      <td>Ketua Team Pemenangan Getar 08 Ir.Bambang Pria...</td>\n",
       "      <td>MediaPATRIOT.CO.ID</td>\n",
       "      <td>2023-12-05</td>\n",
       "      <td>https://www.mediapatriot.co.id/2023/12/05/ketu...</td>\n",
       "      <td>netral</td>\n",
       "    </tr>\n",
       "  </tbody>\n",
       "</table>\n",
       "</div>"
      ],
      "text/plain": [
       "                                           judul_berita        portal_media  \\\n",
       "1924  Ketua TKD Prabowo-Gibran Sulteng Minta Koalisi...          TribunNews   \n",
       "1427  Indikator Politik: Prabowo-Gibran 45,8%, Mengu...            Databoks   \n",
       "1352  Prabowo-Gibran Diyakini Mampu Wujudkan Harapan...           detik.com   \n",
       "1711  Lima Rekomendasi Relawan Penerus Negeri untuk ...         Merdeka.com   \n",
       "963   Berkunjung ke Banten, Prabowo Dianggap Peduli ...        Radar Banten   \n",
       "1221  Fahri Yakin Prabowo-Gibran Memenangi Pertarung...         Lombok Post   \n",
       "118   PSI Aceh Dukung Tim Hukum Prabowo-Gibran Lapor...     Serambinews.com   \n",
       "958   Sederet Blunder yang Diciptakan Gibran saat Ka...             Kabar24   \n",
       "908   Bantah Dukung Prabowo-Gibran, Abuya Muhtadi: J...               Video   \n",
       "1064  Ketua Team Pemenangan Getar 08 Ir.Bambang Pria...  MediaPATRIOT.CO.ID   \n",
       "\n",
       "     tanggal_publikasi                                                url  \\\n",
       "1924        2023-12-15  https://palu.tribunnews.com/2023/12/15/ketua-t...   \n",
       "1427        2023-12-10  https://databoks.katadata.co.id/datapublish/20...   \n",
       "1352        2023-12-09  https://news.detik.com/pemilu/d-7080978/prabow...   \n",
       "1711        2023-12-13  https://www.merdeka.com/politik/lima-rekomenda...   \n",
       "963         2023-12-04  https://www.radarbanten.co.id/2023/12/04/berku...   \n",
       "1221        2023-12-07  https://lombokpost.jawapos.com/politika/150344...   \n",
       "118         2023-11-17  https://aceh.tribunnews.com/2023/11/17/psi-ace...   \n",
       "958         2023-12-04  https://kabar24.bisnis.com/read/20231204/15/17...   \n",
       "908         2023-12-04  https://video.kompas.com/watch/1073762/bantah-...   \n",
       "1064        2023-12-05  https://www.mediapatriot.co.id/2023/12/05/ketu...   \n",
       "\n",
       "     hasil_sentimen  \n",
       "1924         netral  \n",
       "1427         netral  \n",
       "1352         netral  \n",
       "1711         netral  \n",
       "963          netral  \n",
       "1221         netral  \n",
       "118          netral  \n",
       "958          netral  \n",
       "908          netral  \n",
       "1064         netral  "
      ]
     },
     "execution_count": 23,
     "metadata": {},
     "output_type": "execute_result"
    }
   ],
   "source": [
    "df.sample(10)"
   ]
  },
  {
   "cell_type": "code",
   "execution_count": 24,
   "metadata": {},
   "outputs": [
    {
     "data": {
      "text/plain": [
       "hasil_sentimen\n",
       "netral     1794\n",
       "negatif     133\n",
       "positif      59\n",
       "Name: count, dtype: int64"
      ]
     },
     "execution_count": 24,
     "metadata": {},
     "output_type": "execute_result"
    }
   ],
   "source": [
    "df['hasil_sentimen'].value_counts()"
   ]
  },
  {
   "cell_type": "markdown",
   "metadata": {},
   "source": [
    "## 3.2 Text Processing"
   ]
  },
  {
   "cell_type": "code",
   "execution_count": 25,
   "metadata": {},
   "outputs": [],
   "source": [
    "df['olahan_teks']= df['judul_berita'].apply(text_preprocessing)"
   ]
  },
  {
   "cell_type": "code",
   "execution_count": 26,
   "metadata": {},
   "outputs": [
    {
     "data": {
      "text/html": [
       "<div>\n",
       "<style scoped>\n",
       "    .dataframe tbody tr th:only-of-type {\n",
       "        vertical-align: middle;\n",
       "    }\n",
       "\n",
       "    .dataframe tbody tr th {\n",
       "        vertical-align: top;\n",
       "    }\n",
       "\n",
       "    .dataframe thead th {\n",
       "        text-align: right;\n",
       "    }\n",
       "</style>\n",
       "<table border=\"1\" class=\"dataframe\">\n",
       "  <thead>\n",
       "    <tr style=\"text-align: right;\">\n",
       "      <th></th>\n",
       "      <th>judul_berita</th>\n",
       "      <th>portal_media</th>\n",
       "      <th>tanggal_publikasi</th>\n",
       "      <th>url</th>\n",
       "      <th>hasil_sentimen</th>\n",
       "      <th>olahan_teks</th>\n",
       "    </tr>\n",
       "  </thead>\n",
       "  <tbody>\n",
       "    <tr>\n",
       "      <th>432</th>\n",
       "      <td>Relawan Taruna Pro Gibran Deklarasi Dukung Pra...</td>\n",
       "      <td>detik.com</td>\n",
       "      <td>2023-11-25</td>\n",
       "      <td>https://news.detik.com/pemilu/d-7056414/relawa...</td>\n",
       "      <td>netral</td>\n",
       "      <td>rawan taruna profesional gibran deklarasi duku...</td>\n",
       "    </tr>\n",
       "    <tr>\n",
       "      <th>91</th>\n",
       "      <td>Nasib IKN Setelah Jokowi hingga Kesepakatan Ha...</td>\n",
       "      <td>CNBC Indonesia</td>\n",
       "      <td>2023-11-16</td>\n",
       "      <td>https://www.cnbcindonesia.com/news/20231116210...</td>\n",
       "      <td>netral</td>\n",
       "      <td>nasib jokowi sepakat hamas israel</td>\n",
       "    </tr>\n",
       "    <tr>\n",
       "      <th>808</th>\n",
       "      <td>RKB Gaet Anak Muda Pemilih Prabowo-Gibran Lewa...</td>\n",
       "      <td>Viva</td>\n",
       "      <td>2023-12-02</td>\n",
       "      <td>https://www.viva.co.id/berita/nasional/1663670...</td>\n",
       "      <td>netral</td>\n",
       "      <td>rkb gaet muda pilih prabowo gibran motor milen...</td>\n",
       "    </tr>\n",
       "    <tr>\n",
       "      <th>1133</th>\n",
       "      <td>Jadi Pemimpin Nasional, Bibit Waluyo Minta Gib...</td>\n",
       "      <td>Soloraya</td>\n",
       "      <td>2023-12-06</td>\n",
       "      <td>https://soloraya.solopos.com/jadi-pemimpin-nas...</td>\n",
       "      <td>netral</td>\n",
       "      <td>pimpin nasional bibit waluyo gibran kuasa panc...</td>\n",
       "    </tr>\n",
       "    <tr>\n",
       "      <th>323</th>\n",
       "      <td>Muzani ke Kader Gerindra Yogyakarta: Prabowo-G...</td>\n",
       "      <td>detik.com</td>\n",
       "      <td>2023-11-22</td>\n",
       "      <td>https://news.detik.com/pemilu/d-7051438/muzani...</td>\n",
       "      <td>netral</td>\n",
       "      <td>muzani kader gerindra yogyakarta prabowo gibra...</td>\n",
       "    </tr>\n",
       "    <tr>\n",
       "      <th>535</th>\n",
       "      <td>Forum Pendiri Demokrat Manuver ke Ganjar-Mahfu...</td>\n",
       "      <td>Kabar24</td>\n",
       "      <td>2023-11-28</td>\n",
       "      <td>https://kabar24.bisnis.com/read/20231128/15/17...</td>\n",
       "      <td>netral</td>\n",
       "      <td>forum demokrat manuver ganjar mahfud batal duk...</td>\n",
       "    </tr>\n",
       "    <tr>\n",
       "      <th>1385</th>\n",
       "      <td>Ganjar–Mahfud Nobar, Prabowo–Gibran Konsolidasi</td>\n",
       "      <td>NUSABALI.com</td>\n",
       "      <td>2023-12-09</td>\n",
       "      <td>https://www.nusabali.com/berita/156617/ganjar-...</td>\n",
       "      <td>netral</td>\n",
       "      <td>ganjar mahfud nonton bareng prabowo gibran kon...</td>\n",
       "    </tr>\n",
       "    <tr>\n",
       "      <th>1662</th>\n",
       "      <td>Hendri Satrio Ungkap Gosip Alasan Ketum Parpol...</td>\n",
       "      <td>Optika.id</td>\n",
       "      <td>2023-12-12</td>\n",
       "      <td>https://optika.id/news-63490-hendri-satrio-ung...</td>\n",
       "      <td>netral</td>\n",
       "      <td>hendri satrio gosip alas tum partai politik pa...</td>\n",
       "    </tr>\n",
       "    <tr>\n",
       "      <th>1013</th>\n",
       "      <td>Bawaslu Telusuri Unsur Kampanye dalam Iklan Su...</td>\n",
       "      <td>Kompas.com</td>\n",
       "      <td>2023-12-05</td>\n",
       "      <td>https://nasional.kompas.com/read/2023/12/05/20...</td>\n",
       "      <td>netral</td>\n",
       "      <td>bawaslu telusur unsur kampanye dalam iklan sus...</td>\n",
       "    </tr>\n",
       "    <tr>\n",
       "      <th>1486</th>\n",
       "      <td>Gibran disambut Said Aqil saat kunjungi Ponpes...</td>\n",
       "      <td>Antaranews.com</td>\n",
       "      <td>2023-12-10</td>\n",
       "      <td>https://www.antaranews.com/berita/3864885/gibr...</td>\n",
       "      <td>netral</td>\n",
       "      <td>gibran sambut said aqil kunjung pondok pesantr...</td>\n",
       "    </tr>\n",
       "  </tbody>\n",
       "</table>\n",
       "</div>"
      ],
      "text/plain": [
       "                                           judul_berita    portal_media  \\\n",
       "432   Relawan Taruna Pro Gibran Deklarasi Dukung Pra...       detik.com   \n",
       "91    Nasib IKN Setelah Jokowi hingga Kesepakatan Ha...  CNBC Indonesia   \n",
       "808   RKB Gaet Anak Muda Pemilih Prabowo-Gibran Lewa...            Viva   \n",
       "1133  Jadi Pemimpin Nasional, Bibit Waluyo Minta Gib...        Soloraya   \n",
       "323   Muzani ke Kader Gerindra Yogyakarta: Prabowo-G...       detik.com   \n",
       "535   Forum Pendiri Demokrat Manuver ke Ganjar-Mahfu...         Kabar24   \n",
       "1385    Ganjar–Mahfud Nobar, Prabowo–Gibran Konsolidasi    NUSABALI.com   \n",
       "1662  Hendri Satrio Ungkap Gosip Alasan Ketum Parpol...       Optika.id   \n",
       "1013  Bawaslu Telusuri Unsur Kampanye dalam Iklan Su...      Kompas.com   \n",
       "1486  Gibran disambut Said Aqil saat kunjungi Ponpes...  Antaranews.com   \n",
       "\n",
       "     tanggal_publikasi                                                url  \\\n",
       "432         2023-11-25  https://news.detik.com/pemilu/d-7056414/relawa...   \n",
       "91          2023-11-16  https://www.cnbcindonesia.com/news/20231116210...   \n",
       "808         2023-12-02  https://www.viva.co.id/berita/nasional/1663670...   \n",
       "1133        2023-12-06  https://soloraya.solopos.com/jadi-pemimpin-nas...   \n",
       "323         2023-11-22  https://news.detik.com/pemilu/d-7051438/muzani...   \n",
       "535         2023-11-28  https://kabar24.bisnis.com/read/20231128/15/17...   \n",
       "1385        2023-12-09  https://www.nusabali.com/berita/156617/ganjar-...   \n",
       "1662        2023-12-12  https://optika.id/news-63490-hendri-satrio-ung...   \n",
       "1013        2023-12-05  https://nasional.kompas.com/read/2023/12/05/20...   \n",
       "1486        2023-12-10  https://www.antaranews.com/berita/3864885/gibr...   \n",
       "\n",
       "     hasil_sentimen                                        olahan_teks  \n",
       "432          netral  rawan taruna profesional gibran deklarasi duku...  \n",
       "91           netral                  nasib jokowi sepakat hamas israel  \n",
       "808          netral  rkb gaet muda pilih prabowo gibran motor milen...  \n",
       "1133         netral  pimpin nasional bibit waluyo gibran kuasa panc...  \n",
       "323          netral  muzani kader gerindra yogyakarta prabowo gibra...  \n",
       "535          netral  forum demokrat manuver ganjar mahfud batal duk...  \n",
       "1385         netral  ganjar mahfud nonton bareng prabowo gibran kon...  \n",
       "1662         netral  hendri satrio gosip alas tum partai politik pa...  \n",
       "1013         netral  bawaslu telusur unsur kampanye dalam iklan sus...  \n",
       "1486         netral  gibran sambut said aqil kunjung pondok pesantr...  "
      ]
     },
     "execution_count": 26,
     "metadata": {},
     "output_type": "execute_result"
    }
   ],
   "source": [
    "df.sample(10)"
   ]
  },
  {
   "cell_type": "markdown",
   "metadata": {},
   "source": [
    "## 3.3 Data Engineering"
   ]
  },
  {
   "cell_type": "markdown",
   "metadata": {},
   "source": [
    "**Cleaning irrelevant news**"
   ]
  },
  {
   "cell_type": "code",
   "execution_count": 28,
   "metadata": {},
   "outputs": [],
   "source": [
    "df= df[df['olahan_teks'].str.contains('prabowo|gibran', case=False, na=False)]"
   ]
  },
  {
   "cell_type": "markdown",
   "metadata": {},
   "source": [
    "**Preparing a dataset for tableau**"
   ]
  },
  {
   "cell_type": "code",
   "execution_count": 33,
   "metadata": {},
   "outputs": [],
   "source": [
    "# splitting the text into words and associating each word with its publication date\n",
    "word_date_pairs = [(word, date) for text, date in zip(df['olahan_teks'], df['tanggal_publikasi']) for word in text.split()]\n",
    "\n",
    "# counting the frequency of each word-date pair\n",
    "word_date_freq = Counter(word_date_pairs)\n",
    "\n",
    "# creating a new DataFrame from the word-date-frequency data\n",
    "word_freq_date_df = pd.DataFrame([(word, date, freq) for (word, date), freq in word_date_freq.items()], columns=['Word', 'Date', 'Frequency'])\n",
    "\n",
    "# displaying the first few rows of the new DataFrame\n",
    "word_freq_date_df.to_csv('kata_tanggal.csv', index=False)"
   ]
  },
  {
   "cell_type": "markdown",
   "metadata": {},
   "source": [
    "**Saving files**"
   ]
  },
  {
   "cell_type": "code",
   "execution_count": 35,
   "metadata": {},
   "outputs": [],
   "source": [
    "df.to_csv('./media_datasets/media_sentiment_analysis.csv', index=False)"
   ]
  },
  {
   "cell_type": "markdown",
   "metadata": {},
   "source": [
    "# IV. Conclusion"
   ]
  },
  {
   "cell_type": "markdown",
   "metadata": {},
   "source": [
    "The sentiment analysis and text processing phases proceeded seamlessly, yielding favorable results. A slight data engineering step was undertaken towards the end to maintain data relevance by filtering out entries that did not discuss or contain the keywords related to Prabowo and Gibran. The final result dataset has been saved, and a dedicated dataset tailored for generating word clouds has also been created."
   ]
  }
 ],
 "metadata": {
  "kernelspec": {
   "display_name": "indosentimen",
   "language": "python",
   "name": "python3"
  },
  "language_info": {
   "codemirror_mode": {
    "name": "ipython",
    "version": 3
   },
   "file_extension": ".py",
   "mimetype": "text/x-python",
   "name": "python",
   "nbconvert_exporter": "python",
   "pygments_lexer": "ipython3",
   "version": "3.9.18"
  }
 },
 "nbformat": 4,
 "nbformat_minor": 2
}
