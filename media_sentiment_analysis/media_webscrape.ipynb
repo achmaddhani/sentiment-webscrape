{
 "cells": [
  {
   "cell_type": "markdown",
   "metadata": {},
   "source": [
    "# I. Introduction\n",
    "\n",
    "\n",
    "*Notes : This notebook is prepared to scrape news data from Google Search for sentiment analysis regarding Prabowo-Gibran as the presidential and vice-presidential candidates in the 2024 Indonesian election.*\n",
    "\n",
    "*Prepared by* : **Achmad Dhani & Faris Arief Mawardi**"
   ]
  },
  {
   "cell_type": "markdown",
   "metadata": {},
   "source": [
    "# II. Import Libraries and Setting Up Functions"
   ]
  },
  {
   "cell_type": "code",
   "execution_count": 1,
   "metadata": {},
   "outputs": [],
   "source": [
    "import warnings\n",
    "warnings.filterwarnings(\"ignore\")"
   ]
  },
  {
   "cell_type": "markdown",
   "metadata": {},
   "source": [
    "## 2.1 Libraries"
   ]
  },
  {
   "cell_type": "code",
   "execution_count": 2,
   "metadata": {},
   "outputs": [],
   "source": [
    "# Required Libraries\n",
    "from bs4 import BeautifulSoup as bs\n",
    "from selenium import webdriver\n",
    "import pandas as pd\n",
    "from time import sleep\n",
    "import numpy as np\n",
    "import itertools"
   ]
  },
  {
   "cell_type": "markdown",
   "metadata": {},
   "source": [
    "## 2.2 Functions"
   ]
  },
  {
   "cell_type": "code",
   "execution_count": 5,
   "metadata": {},
   "outputs": [],
   "source": [
    "def get_element_text(element, value, value_type=\"class\"):\n",
    "    item = element.find(attrs={value_type: value})\n",
    "    return item.text if item else None # Return the text of the found item. If the item is not found, return 'None' as string.\n",
    "\n",
    "def get_data(parent_tag_, day_, month_):\n",
    "    data = [{\n",
    "    'Headline' : get_element_text(el,'n0jPhd ynAwRc MBeuO nDgy9d', 'class'),\n",
    "    'Media' : get_element_text(el, 'MgUUmf NUnG9d', 'class'),\n",
    "    'Date' : f\"{day_}/{month_}/2023\",\n",
    "    'url': el.find(\"a\", {\"class\":\"WlydOe\"})['href']\n",
    "    } for el in parent_tag_]\n",
    "    return data\n",
    "\n",
    "scrape_data= []\n",
    "\n",
    "# final code\n",
    "def scraping(month, day):\n",
    "    chrome_options = webdriver.ChromeOptions()\n",
    "    driver = webdriver.Chrome(options=chrome_options)\n",
    "\n",
    "    url=f\"https://www.google.com/search?q=prabowo+gibran&sca_esv=590380016&biw=1710&bih=953&sxsrf=AM9HkKl2jyc3pgk2OS3bmHnxuxjCN9ANBw%3A1702718802779&source=lnt&tbs=sbd%3A1%2Ccdr%3A1%2Ccd_min%3A{month}%2F{day}%2F2023%2Ccd_max%3A{month}%2F{day}%2F2023&tbm=nws\"\n",
    "    driver.get(url)\n",
    "    sleep(2)\n",
    "    html = driver.page_source # Get the page's html content\n",
    "    soup = bs(html, \"html.parser\") # parse the html content using BeautifulSoup\n",
    "    main_tag = soup.find_all(\"div\", {\"class\": \"SoaBEf\"})\n",
    "    first_data= get_data(main_tag, day, month)\n",
    "    scrape_data.extend(first_data)\n",
    "    link= soup.find('a', id=\"pnnext\")['href']\n",
    "\n",
    "    while True:\n",
    "        driver.get('https://www.google.com' + link)\n",
    "        sleep(2)\n",
    "        html = driver.page_source # Get the page's html content\n",
    "        soup = bs(html, \"html.parser\") # parse the html content using BeautifulSoup\n",
    "        loop_tag = soup.find_all(\"div\", {\"class\": \"SoaBEf\"})\n",
    "        next_data = get_data(loop_tag, day, month)\n",
    "        scrape_data.extend(next_data)\n",
    "        try:\n",
    "            link= soup.find('a', id=\"pnnext\")['href']\n",
    "        except TypeError:\n",
    "            break\n",
    "    driver.quit()\n",
    "    \n",
    "def media_merge(df, div, parent):\n",
    "    df['portal_media'] = df['portal_media'].apply(lambda x: parent if div in x else x)\n",
    "    return df"
   ]
  },
  {
   "cell_type": "markdown",
   "metadata": {},
   "source": [
    "# III. Scraping"
   ]
  },
  {
   "cell_type": "markdown",
   "metadata": {},
   "source": [
    "## 3.1 Webdriver Setup"
   ]
  },
  {
   "cell_type": "code",
   "execution_count": 3,
   "metadata": {},
   "outputs": [
    {
     "name": "stdout",
     "output_type": "stream",
     "text": [
      "Google\n"
     ]
    }
   ],
   "source": [
    "chrome_options = webdriver.ChromeOptions()\n",
    "driver = webdriver.Chrome(options=chrome_options)\n",
    "\n",
    "# Navigate to the website\n",
    "driver.get(\"https://www.google.com\")\n",
    "print(driver.title)\n",
    "\n",
    "driver.quit()"
   ]
  },
  {
   "cell_type": "markdown",
   "metadata": {},
   "source": [
    "## 3.2 Building Scraping Code"
   ]
  },
  {
   "cell_type": "code",
   "execution_count": 23,
   "metadata": {},
   "outputs": [],
   "source": [
    "url='https://www.google.com/search?q=prabowo+gibran&sca_esv=590380016&biw=1710&bih=953&sxsrf=AM9HkKl2jyc3pgk2OS3bmHnxuxjCN9ANBw%3A1702718802779&source=lnt&tbs=sbd%3A1%2Ccdr%3A1%2Ccd_min%3A11%2F15%2F2023%2Ccd_max%3A12%2F15%2F2023&tbm=nws'"
   ]
  },
  {
   "cell_type": "code",
   "execution_count": 27,
   "metadata": {},
   "outputs": [],
   "source": [
    "chrome_options = webdriver.ChromeOptions()\n",
    "driver = webdriver.Chrome(options=chrome_options)"
   ]
  },
  {
   "cell_type": "code",
   "execution_count": 29,
   "metadata": {},
   "outputs": [],
   "source": [
    "chrome_options = webdriver.ChromeOptions()\n",
    "driver = webdriver.Chrome(options=chrome_options)\n",
    "\n",
    "scrape_data=[]\n",
    "driver.get(url)\n",
    "sleep(3)\n",
    "html = driver.page_source # Get the page's html content\n",
    "soup = bs(html, \"html.parser\") # parse the html content using BeautifulSoup\n",
    "\n",
    "driver.quit()"
   ]
  },
  {
   "cell_type": "markdown",
   "metadata": {},
   "source": [
    "## 3.3 Getting all the elements"
   ]
  },
  {
   "cell_type": "code",
   "execution_count": 36,
   "metadata": {},
   "outputs": [
    {
     "name": "stdout",
     "output_type": "stream",
     "text": [
      "Bisnis Tempo\n",
      "Prabowo-Gibran Diklaim Bisa Sejahterakan Petani dan Peternak\n",
      "2 hari lalu\n",
      "https://bisnis.tempo.co/read/1809886/prabowo-gibran-diklaim-bisa-sejahterakan-petani-dan-peternak\n",
      "\n",
      "KOMPAS.com\n",
      "Ini Jurus Prabowo-Gibran Atasi Kekerasan terhadap ...\n",
      "2 hari lalu\n",
      "https://nasional.kompas.com/read/2023/12/15/18061001/ini-jurus-prabowo-gibran-atasi-kekerasan-terhadap-perempuan-dan-anak\n",
      "\n",
      "detikcom\n",
      "7 Baliho Prabowo-Gibran di Pati Sobek, Loyalis: Milik Capres Lain Masih Utuh\n",
      "2 hari lalu\n",
      "https://www.detik.com/jateng/berita/d-7092148/7-baliho-prabowo-gibran-di-pati-sobek-loyalis-milik-capres-lain-masih-utuh\n",
      "\n",
      "Finansial Bisnis\n",
      "Chandra Arie Mundur dari Bank Mandiri Taspen, Gabung TKN Prabowo-Gibran\n",
      "3 hari lalu\n",
      "https://finansial.bisnis.com/read/20231214/90/1724032/chandra-arie-mundur-dari-bank-mandiri-taspen-gabung-tkn-prabowo-gibran\n",
      "\n",
      "Antaranews.com\n",
      "Repnas Prabowo-Gibran akan luncurkan program Super Mentor\n",
      "1 hari lalu\n",
      "https://www.antaranews.com/berita/3874161/repnas-prabowo-gibran-akan-luncurkan-program-super-mentor\n",
      "\n",
      "CNBC Indonesia\n",
      "Prabowo: Kalau Rakyat Tak Suka Prabowo-Gibran, Jangan Pilih!\n",
      "4 hari lalu\n",
      "https://www.cnbcindonesia.com/news/20231212211902-4-496666/prabowo-kalau-rakyat-tak-suka-prabowo-gibran-jangan-pilih\n",
      "\n",
      "detikNews\n",
      "Nelayan Cilacap Gelar Deklarasi Dukung Prabowo-Gibran di Pilpres 2024\n",
      "2 hari lalu\n",
      "https://news.detik.com/pemilu/d-7091452/nelayan-cilacap-gelar-deklarasi-dukung-prabowo-gibran-di-pilpres-2024\n",
      "\n",
      "KOMPAS.com\n",
      "KPU Bakal Tegur Gibran Usai Bakar Semangat Saat Debat, TKN Prabowo: Kita \n",
      "Terima - Kompas.com\n",
      "3 hari lalu\n",
      "https://nasional.kompas.com/read/2023/12/14/11030331/kpu-bakal-tegur-gibran-usai-bakar-semangat-saat-debat-tkn-prabowo-kita\n",
      "\n",
      "detikcom\n",
      "Viral Bantuan Presiden Dibagikan Tim Prabowo-Gibran, TKD Solo: Hoaks!\n",
      "1 hari lalu\n",
      "https://www.detik.com/jateng/berita/d-7092364/viral-bantuan-presiden-dibagikan-tim-prabowo-gibran-tkd-solo-hoaks\n",
      "\n",
      "detikcom\n",
      "Hasil Survei Prabowo-Gibran Unggul di Bali, Pengaruh Jokowi?\n",
      "6 hari lalu\n",
      "https://www.detik.com/bali/berita/d-7083660/hasil-survei-prabowo-gibran-unggul-di-bali-pengaruh-jokowi\n",
      "\n"
     ]
    }
   ],
   "source": [
    "parent_tag = soup.find_all(\"div\", {\"class\":\"SoaBEf\"})\n",
    "for parent in parent_tag:\n",
    "    media= parent.find(\"div\", {\"class\":\"MgUUmf NUnG9d\"})\n",
    "    print(media.get_text())\n",
    "    headline= parent.find(\"div\", {\"class\":\"n0jPhd ynAwRc MBeuO nDgy9d\"})\n",
    "    print(headline.get_text())\n",
    "    date= parent.find(\"div\", {\"class\":\"OSrXXb rbYSKb LfVVr\"})\n",
    "    print(date.get_text())\n",
    "    news_link= parent.find(\"a\", {\"class\":\"WlydOe\"})['href']\n",
    "    print(news_link)\n",
    "    print('')"
   ]
  },
  {
   "cell_type": "code",
   "execution_count": 37,
   "metadata": {},
   "outputs": [],
   "source": [
    "data = [{\n",
    "    'Headline' : get_element_text(el,'n0jPhd ynAwRc MBeuO nDgy9d', 'class'),\n",
    "    'Media' : get_element_text(el, 'MgUUmf NUnG9d', 'class'),\n",
    "    'Date' : get_element_text(el, 'OSrXXb rbYSKb LfVVr', 'class'),\n",
    "    'url': el.find(\"a\", {\"class\":\"WlydOe\"})['href']\n",
    "} for el in parent_tag]"
   ]
  },
  {
   "cell_type": "code",
   "execution_count": 38,
   "metadata": {},
   "outputs": [],
   "source": [
    "df= pd.DataFrame(data)"
   ]
  },
  {
   "cell_type": "code",
   "execution_count": 39,
   "metadata": {},
   "outputs": [
    {
     "data": {
      "text/html": [
       "<div>\n",
       "<style scoped>\n",
       "    .dataframe tbody tr th:only-of-type {\n",
       "        vertical-align: middle;\n",
       "    }\n",
       "\n",
       "    .dataframe tbody tr th {\n",
       "        vertical-align: top;\n",
       "    }\n",
       "\n",
       "    .dataframe thead th {\n",
       "        text-align: right;\n",
       "    }\n",
       "</style>\n",
       "<table border=\"1\" class=\"dataframe\">\n",
       "  <thead>\n",
       "    <tr style=\"text-align: right;\">\n",
       "      <th></th>\n",
       "      <th>Headline</th>\n",
       "      <th>Media</th>\n",
       "      <th>Date</th>\n",
       "      <th>url</th>\n",
       "    </tr>\n",
       "  </thead>\n",
       "  <tbody>\n",
       "    <tr>\n",
       "      <th>0</th>\n",
       "      <td>Prabowo-Gibran Diklaim Bisa Sejahterakan Petan...</td>\n",
       "      <td>Bisnis Tempo</td>\n",
       "      <td>2 hari lalu</td>\n",
       "      <td>https://bisnis.tempo.co/read/1809886/prabowo-g...</td>\n",
       "    </tr>\n",
       "    <tr>\n",
       "      <th>1</th>\n",
       "      <td>Ini Jurus Prabowo-Gibran Atasi Kekerasan terha...</td>\n",
       "      <td>KOMPAS.com</td>\n",
       "      <td>2 hari lalu</td>\n",
       "      <td>https://nasional.kompas.com/read/2023/12/15/18...</td>\n",
       "    </tr>\n",
       "    <tr>\n",
       "      <th>2</th>\n",
       "      <td>7 Baliho Prabowo-Gibran di Pati Sobek, Loyalis...</td>\n",
       "      <td>detikcom</td>\n",
       "      <td>2 hari lalu</td>\n",
       "      <td>https://www.detik.com/jateng/berita/d-7092148/...</td>\n",
       "    </tr>\n",
       "    <tr>\n",
       "      <th>3</th>\n",
       "      <td>Chandra Arie Mundur dari Bank Mandiri Taspen, ...</td>\n",
       "      <td>Finansial Bisnis</td>\n",
       "      <td>3 hari lalu</td>\n",
       "      <td>https://finansial.bisnis.com/read/20231214/90/...</td>\n",
       "    </tr>\n",
       "    <tr>\n",
       "      <th>4</th>\n",
       "      <td>Repnas Prabowo-Gibran akan luncurkan program S...</td>\n",
       "      <td>Antaranews.com</td>\n",
       "      <td>1 hari lalu</td>\n",
       "      <td>https://www.antaranews.com/berita/3874161/repn...</td>\n",
       "    </tr>\n",
       "    <tr>\n",
       "      <th>5</th>\n",
       "      <td>Prabowo: Kalau Rakyat Tak Suka Prabowo-Gibran,...</td>\n",
       "      <td>CNBC Indonesia</td>\n",
       "      <td>4 hari lalu</td>\n",
       "      <td>https://www.cnbcindonesia.com/news/20231212211...</td>\n",
       "    </tr>\n",
       "    <tr>\n",
       "      <th>6</th>\n",
       "      <td>Nelayan Cilacap Gelar Deklarasi Dukung Prabowo...</td>\n",
       "      <td>detikNews</td>\n",
       "      <td>2 hari lalu</td>\n",
       "      <td>https://news.detik.com/pemilu/d-7091452/nelaya...</td>\n",
       "    </tr>\n",
       "    <tr>\n",
       "      <th>7</th>\n",
       "      <td>KPU Bakal Tegur Gibran Usai Bakar Semangat Saa...</td>\n",
       "      <td>KOMPAS.com</td>\n",
       "      <td>3 hari lalu</td>\n",
       "      <td>https://nasional.kompas.com/read/2023/12/14/11...</td>\n",
       "    </tr>\n",
       "    <tr>\n",
       "      <th>8</th>\n",
       "      <td>Viral Bantuan Presiden Dibagikan Tim Prabowo-G...</td>\n",
       "      <td>detikcom</td>\n",
       "      <td>1 hari lalu</td>\n",
       "      <td>https://www.detik.com/jateng/berita/d-7092364/...</td>\n",
       "    </tr>\n",
       "    <tr>\n",
       "      <th>9</th>\n",
       "      <td>Hasil Survei Prabowo-Gibran Unggul di Bali, Pe...</td>\n",
       "      <td>detikcom</td>\n",
       "      <td>6 hari lalu</td>\n",
       "      <td>https://www.detik.com/bali/berita/d-7083660/ha...</td>\n",
       "    </tr>\n",
       "  </tbody>\n",
       "</table>\n",
       "</div>"
      ],
      "text/plain": [
       "                                            Headline             Media  \\\n",
       "0  Prabowo-Gibran Diklaim Bisa Sejahterakan Petan...      Bisnis Tempo   \n",
       "1  Ini Jurus Prabowo-Gibran Atasi Kekerasan terha...        KOMPAS.com   \n",
       "2  7 Baliho Prabowo-Gibran di Pati Sobek, Loyalis...          detikcom   \n",
       "3  Chandra Arie Mundur dari Bank Mandiri Taspen, ...  Finansial Bisnis   \n",
       "4  Repnas Prabowo-Gibran akan luncurkan program S...    Antaranews.com   \n",
       "5  Prabowo: Kalau Rakyat Tak Suka Prabowo-Gibran,...    CNBC Indonesia   \n",
       "6  Nelayan Cilacap Gelar Deklarasi Dukung Prabowo...         detikNews   \n",
       "7  KPU Bakal Tegur Gibran Usai Bakar Semangat Saa...        KOMPAS.com   \n",
       "8  Viral Bantuan Presiden Dibagikan Tim Prabowo-G...          detikcom   \n",
       "9  Hasil Survei Prabowo-Gibran Unggul di Bali, Pe...          detikcom   \n",
       "\n",
       "          Date                                                url  \n",
       "0  2 hari lalu  https://bisnis.tempo.co/read/1809886/prabowo-g...  \n",
       "1  2 hari lalu  https://nasional.kompas.com/read/2023/12/15/18...  \n",
       "2  2 hari lalu  https://www.detik.com/jateng/berita/d-7092148/...  \n",
       "3  3 hari lalu  https://finansial.bisnis.com/read/20231214/90/...  \n",
       "4  1 hari lalu  https://www.antaranews.com/berita/3874161/repn...  \n",
       "5  4 hari lalu  https://www.cnbcindonesia.com/news/20231212211...  \n",
       "6  2 hari lalu  https://news.detik.com/pemilu/d-7091452/nelaya...  \n",
       "7  3 hari lalu  https://nasional.kompas.com/read/2023/12/14/11...  \n",
       "8  1 hari lalu  https://www.detik.com/jateng/berita/d-7092364/...  \n",
       "9  6 hari lalu  https://www.detik.com/bali/berita/d-7083660/ha...  "
      ]
     },
     "execution_count": 39,
     "metadata": {},
     "output_type": "execute_result"
    }
   ],
   "source": [
    "df"
   ]
  },
  {
   "cell_type": "code",
   "execution_count": 44,
   "metadata": {},
   "outputs": [
    {
     "name": "stdout",
     "output_type": "stream",
     "text": [
      "/search?q=prabowo+gibran&tbm=nws&tbs=cdr:1,cd_min:11/19/2023,cd_max:12/13/2023,sbd:1&sa=X&sca_esv=590380016&biw=1710&bih=953&gbv=1&sei=fhl5ZYO7IKaVg8UP-pu-sAg\n"
     ]
    }
   ],
   "source": [
    "link = soup.find('a', id=\"pnnext\")['href'] # to go to the next page\n",
    "print(link)"
   ]
  },
  {
   "cell_type": "markdown",
   "metadata": {},
   "source": [
    "## 3.4 Web Scrape Code"
   ]
  },
  {
   "cell_type": "markdown",
   "metadata": {},
   "source": [
    "### Initial Code"
   ]
  },
  {
   "cell_type": "markdown",
   "metadata": {},
   "source": [
    "```python\n",
    "chrome_options = webdriver.ChromeOptions()\n",
    "driver = webdriver.Chrome(options=chrome_options)\n",
    "\n",
    "driver.get(url)\n",
    "sleep(2)\n",
    "html = driver.page_source # Get the page's html content\n",
    "soup = bs(html, \"html.parser\") # parse the html content using BeautifulSoup\n",
    "parent_tag = soup.find_all(\"div\", {\"class\": \"SoaBEf\"})\n",
    "\n",
    "scrape_data = [{\n",
    "    'judul_berita' : get_element_text(el,'n0jPhd ynAwRc MBeuO nDgy9d', 'class'),\n",
    "    'media' : get_element_text(el, 'MgUUmf NUnG9d', 'class'),\n",
    "    'tanggal_publikasi' : get_element_text(el, 'OSrXXb rbYSKb LfVVr', 'class'),\n",
    "    'url': el.find(\"a\", {\"class\":\"WlydOe\"})['href']\n",
    "} for el in parent_tag]\n",
    "link= soup.find('a', id=\"pnnext\")['href']\n",
    "\n",
    "while True:\n",
    "    driver.get('https://www.google.com' + link)\n",
    "    sleep(2)\n",
    "    html = driver.page_source # Get the page's html content\n",
    "    soup = bs(html, \"html.parser\") # parse the html content using BeautifulSoup\n",
    "    loop_tag = soup.find_all(\"div\", {\"class\": \"SoaBEf\"})\n",
    "    data = [{\n",
    "    'judul_berita' : get_element_text(ele,'n0jPhd ynAwRc MBeuO nDgy9d', 'class'),\n",
    "    'media' : get_element_text(ele, 'MgUUmf NUnG9d', 'class'),\n",
    "    'tanggal_publikasi' : get_element_text(ele, 'OSrXXb rbYSKb LfVVr', 'class'),\n",
    "    'url': ele.find(\"a\", {\"class\":\"WlydOe\"})['href']\n",
    "    } for ele in loop_tag]\n",
    "    scrape_data.extend(data)\n",
    "    try:\n",
    "        link= soup.find('a', id=\"pnnext\")['href']\n",
    "    except TypeError:\n",
    "        break\n",
    "driver.quit()\n",
    "```"
   ]
  },
  {
   "cell_type": "markdown",
   "metadata": {},
   "source": [
    "### Final Code"
   ]
  },
  {
   "cell_type": "markdown",
   "metadata": {},
   "source": [
    "```python\n",
    "def scraping(month, day):\n",
    "    chrome_options = webdriver.ChromeOptions()\n",
    "    driver = webdriver.Chrome(options=chrome_options)\n",
    "\n",
    "    url=f\"https://www.google.com/search?q=prabowo+gibran&sca_esv=590380016&biw=1710&bih=953&sxsrf=AM9HkKl2jyc3pgk2OS3bmHnxuxjCN9ANBw%3A1702718802779&source=lnt&tbs=sbd%3A1%2Ccdr%3A1%2Ccd_min%3A{month}%2F{day}%2F2023%2Ccd_max%3A{month}%2F{day}%2F2023&tbm=nws\"\n",
    "    driver.get(url)\n",
    "    sleep(2)\n",
    "    html = driver.page_source # Get the page's html content\n",
    "    soup = bs(html, \"html.parser\") # parse the html content using BeautifulSoup\n",
    "    main_tag = soup.find_all(\"div\", {\"class\": \"SoaBEf\"})\n",
    "    first_data= get_data(main_tag, day, month)\n",
    "    scrape_data.extend(first_data)\n",
    "    link= soup.find('a', id=\"pnnext\")['href']\n",
    "\n",
    "    while True:\n",
    "        driver.get('https://www.google.com' + link)\n",
    "        sleep(2)\n",
    "        html = driver.page_source # Get the page's html content\n",
    "        soup = bs(html, \"html.parser\") # parse the html content using BeautifulSoup\n",
    "        loop_tag = soup.find_all(\"div\", {\"class\": \"SoaBEf\"})\n",
    "        next_data = get_data(loop_tag, day, month)\n",
    "        scrape_data.extend(next_data)\n",
    "        try:\n",
    "            link= soup.find('a', id=\"pnnext\")['href']\n",
    "        except TypeError:\n",
    "            break\n",
    "    driver.quit()\n",
    "\n",
    "```"
   ]
  },
  {
   "cell_type": "markdown",
   "metadata": {},
   "source": [
    "## 3.5 Scraping Google Search"
   ]
  },
  {
   "cell_type": "code",
   "execution_count": 51,
   "metadata": {},
   "outputs": [],
   "source": [
    "scrape_data=[]"
   ]
  },
  {
   "cell_type": "markdown",
   "metadata": {},
   "source": [
    "- November (15th - 30th)\n",
    "- December (1st - 15th)"
   ]
  },
  {
   "cell_type": "code",
   "execution_count": null,
   "metadata": {},
   "outputs": [],
   "source": [
    "# scrape for november\n",
    "list_days= range(15,31)\n",
    "for day in list_days:\n",
    "    scraping(11, day)"
   ]
  },
  {
   "cell_type": "code",
   "execution_count": 61,
   "metadata": {},
   "outputs": [],
   "source": [
    "# scrape for december\n",
    "list_days= range(1,16)\n",
    "for day in list_days:\n",
    "    scraping(12, day)"
   ]
  },
  {
   "cell_type": "code",
   "execution_count": 62,
   "metadata": {},
   "outputs": [
    {
     "data": {
      "text/plain": [
       "(2121, 4)"
      ]
     },
     "execution_count": 62,
     "metadata": {},
     "output_type": "execute_result"
    }
   ],
   "source": [
    "df= pd.DataFrame(scrape_data)\n",
    "df.shape"
   ]
  },
  {
   "cell_type": "code",
   "execution_count": 69,
   "metadata": {},
   "outputs": [
    {
     "data": {
      "text/html": [
       "<div>\n",
       "<style scoped>\n",
       "    .dataframe tbody tr th:only-of-type {\n",
       "        vertical-align: middle;\n",
       "    }\n",
       "\n",
       "    .dataframe tbody tr th {\n",
       "        vertical-align: top;\n",
       "    }\n",
       "\n",
       "    .dataframe thead th {\n",
       "        text-align: right;\n",
       "    }\n",
       "</style>\n",
       "<table border=\"1\" class=\"dataframe\">\n",
       "  <thead>\n",
       "    <tr style=\"text-align: right;\">\n",
       "      <th></th>\n",
       "      <th>Headline</th>\n",
       "      <th>Media</th>\n",
       "      <th>Date</th>\n",
       "      <th>url</th>\n",
       "    </tr>\n",
       "  </thead>\n",
       "  <tbody>\n",
       "    <tr>\n",
       "      <th>count</th>\n",
       "      <td>2121</td>\n",
       "      <td>2121</td>\n",
       "      <td>2121</td>\n",
       "      <td>2121</td>\n",
       "    </tr>\n",
       "    <tr>\n",
       "      <th>unique</th>\n",
       "      <td>2113</td>\n",
       "      <td>527</td>\n",
       "      <td>31</td>\n",
       "      <td>2121</td>\n",
       "    </tr>\n",
       "    <tr>\n",
       "      <th>top</th>\n",
       "      <td>Kementerian Komunikasi dan Informatika</td>\n",
       "      <td>detikNews</td>\n",
       "      <td>6/12/2023</td>\n",
       "      <td>https://www.cnbcindonesia.com/news/20231115130...</td>\n",
       "    </tr>\n",
       "    <tr>\n",
       "      <th>freq</th>\n",
       "      <td>3</td>\n",
       "      <td>92</td>\n",
       "      <td>130</td>\n",
       "      <td>1</td>\n",
       "    </tr>\n",
       "  </tbody>\n",
       "</table>\n",
       "</div>"
      ],
      "text/plain": [
       "                                      Headline      Media       Date  \\\n",
       "count                                     2121       2121       2121   \n",
       "unique                                    2113        527         31   \n",
       "top     Kementerian Komunikasi dan Informatika  detikNews  6/12/2023   \n",
       "freq                                         3         92        130   \n",
       "\n",
       "                                                      url  \n",
       "count                                                2121  \n",
       "unique                                               2121  \n",
       "top     https://www.cnbcindonesia.com/news/20231115130...  \n",
       "freq                                                    1  "
      ]
     },
     "execution_count": 69,
     "metadata": {},
     "output_type": "execute_result"
    }
   ],
   "source": [
    "df.select_dtypes(include='object').describe()"
   ]
  },
  {
   "cell_type": "code",
   "execution_count": 80,
   "metadata": {},
   "outputs": [
    {
     "data": {
      "text/plain": [
       "8"
      ]
     },
     "execution_count": 80,
     "metadata": {},
     "output_type": "execute_result"
    }
   ],
   "source": [
    "df['Headline'].duplicated().sum()"
   ]
  },
  {
   "cell_type": "code",
   "execution_count": 79,
   "metadata": {},
   "outputs": [
    {
     "data": {
      "text/html": [
       "<div>\n",
       "<style scoped>\n",
       "    .dataframe tbody tr th:only-of-type {\n",
       "        vertical-align: middle;\n",
       "    }\n",
       "\n",
       "    .dataframe tbody tr th {\n",
       "        vertical-align: top;\n",
       "    }\n",
       "\n",
       "    .dataframe thead th {\n",
       "        text-align: right;\n",
       "    }\n",
       "</style>\n",
       "<table border=\"1\" class=\"dataframe\">\n",
       "  <thead>\n",
       "    <tr style=\"text-align: right;\">\n",
       "      <th></th>\n",
       "      <th>Headline</th>\n",
       "      <th>Media</th>\n",
       "      <th>Date</th>\n",
       "      <th>url</th>\n",
       "    </tr>\n",
       "  </thead>\n",
       "  <tbody>\n",
       "    <tr>\n",
       "      <th>80</th>\n",
       "      <td>Kementerian Komunikasi dan Informatika</td>\n",
       "      <td>Kementerian Komunikasi dan Informatika</td>\n",
       "      <td>16/11/2023</td>\n",
       "      <td>https://www.kominfo.go.id/content/detail/52963...</td>\n",
       "    </tr>\n",
       "    <tr>\n",
       "      <th>95</th>\n",
       "      <td>Kementerian Komunikasi dan Informatika</td>\n",
       "      <td>Kementerian Komunikasi dan Informatika</td>\n",
       "      <td>16/11/2023</td>\n",
       "      <td>https://www.kominfo.go.id/content/detail/52976...</td>\n",
       "    </tr>\n",
       "    <tr>\n",
       "      <th>893</th>\n",
       "      <td>TKN Prabowo-Gibran dan DKPP RI Kumpulkan PPK d...</td>\n",
       "      <td>TubasMedia.com</td>\n",
       "      <td>2/12/2023</td>\n",
       "      <td>https://tubasmedia.com/tkn-prabowo-gibran-dan-...</td>\n",
       "    </tr>\n",
       "    <tr>\n",
       "      <th>1324</th>\n",
       "      <td>Perempuan Muda Nahdliyin Deklarasi Dukung Prab...</td>\n",
       "      <td>Viva</td>\n",
       "      <td>7/12/2023</td>\n",
       "      <td>https://www.viva.co.id/berita/politik/1665357-...</td>\n",
       "    </tr>\n",
       "    <tr>\n",
       "      <th>1496</th>\n",
       "      <td>Klarifikasi Deklarasi Dukungan Pasangan Prabow...</td>\n",
       "      <td>Detik Peristiwa</td>\n",
       "      <td>9/12/2023</td>\n",
       "      <td>https://www.detikperistiwa.com/news-619559/kla...</td>\n",
       "    </tr>\n",
       "    <tr>\n",
       "      <th>1497</th>\n",
       "      <td>Relawan Pedagang Indonesia Maju Deklarasi Duku...</td>\n",
       "      <td>Penasultra.com</td>\n",
       "      <td>9/12/2023</td>\n",
       "      <td>https://penasultra.com/relawan-pedagang-indone...</td>\n",
       "    </tr>\n",
       "    <tr>\n",
       "      <th>1740</th>\n",
       "      <td>TKN Prabowo-Gibran Paparkan Kesuksesan Makan S...</td>\n",
       "      <td>HEADLINE KALTIM</td>\n",
       "      <td>12/12/2023</td>\n",
       "      <td>https://headlinekaltim.co/tkn-prabowo-gibran-p...</td>\n",
       "    </tr>\n",
       "    <tr>\n",
       "      <th>2102</th>\n",
       "      <td>Sekali Bicara, Gibran Tak Bisa Bedakan Pilpres...</td>\n",
       "      <td>KBA News</td>\n",
       "      <td>15/12/2023</td>\n",
       "      <td>https://kbanews.com/hot-news/sekali-bicara-gib...</td>\n",
       "    </tr>\n",
       "  </tbody>\n",
       "</table>\n",
       "</div>"
      ],
      "text/plain": [
       "                                               Headline  \\\n",
       "80               Kementerian Komunikasi dan Informatika   \n",
       "95               Kementerian Komunikasi dan Informatika   \n",
       "893   TKN Prabowo-Gibran dan DKPP RI Kumpulkan PPK d...   \n",
       "1324  Perempuan Muda Nahdliyin Deklarasi Dukung Prab...   \n",
       "1496  Klarifikasi Deklarasi Dukungan Pasangan Prabow...   \n",
       "1497  Relawan Pedagang Indonesia Maju Deklarasi Duku...   \n",
       "1740  TKN Prabowo-Gibran Paparkan Kesuksesan Makan S...   \n",
       "2102  Sekali Bicara, Gibran Tak Bisa Bedakan Pilpres...   \n",
       "\n",
       "                                       Media        Date  \\\n",
       "80    Kementerian Komunikasi dan Informatika  16/11/2023   \n",
       "95    Kementerian Komunikasi dan Informatika  16/11/2023   \n",
       "893                           TubasMedia.com   2/12/2023   \n",
       "1324                                    Viva   7/12/2023   \n",
       "1496                         Detik Peristiwa   9/12/2023   \n",
       "1497                          Penasultra.com   9/12/2023   \n",
       "1740                         HEADLINE KALTIM  12/12/2023   \n",
       "2102                                KBA News  15/12/2023   \n",
       "\n",
       "                                                    url  \n",
       "80    https://www.kominfo.go.id/content/detail/52963...  \n",
       "95    https://www.kominfo.go.id/content/detail/52976...  \n",
       "893   https://tubasmedia.com/tkn-prabowo-gibran-dan-...  \n",
       "1324  https://www.viva.co.id/berita/politik/1665357-...  \n",
       "1496  https://www.detikperistiwa.com/news-619559/kla...  \n",
       "1497  https://penasultra.com/relawan-pedagang-indone...  \n",
       "1740  https://headlinekaltim.co/tkn-prabowo-gibran-p...  \n",
       "2102  https://kbanews.com/hot-news/sekali-bicara-gib...  "
      ]
     },
     "execution_count": 79,
     "metadata": {},
     "output_type": "execute_result"
    }
   ],
   "source": [
    "df[df['Headline'].duplicated()]"
   ]
  },
  {
   "cell_type": "code",
   "execution_count": 70,
   "metadata": {},
   "outputs": [],
   "source": [
    "df.to_csv('webscrape.csv', sep=';', index=False)"
   ]
  },
  {
   "cell_type": "markdown",
   "metadata": {},
   "source": [
    "## 3.6 Reading File Test"
   ]
  },
  {
   "cell_type": "code",
   "execution_count": 71,
   "metadata": {},
   "outputs": [],
   "source": [
    "test= pd.read_csv('webscrape.csv', delimiter=';')"
   ]
  },
  {
   "cell_type": "code",
   "execution_count": 72,
   "metadata": {},
   "outputs": [
    {
     "data": {
      "text/plain": [
       "(2121, 4)"
      ]
     },
     "execution_count": 72,
     "metadata": {},
     "output_type": "execute_result"
    }
   ],
   "source": [
    "test.shape"
   ]
  },
  {
   "cell_type": "code",
   "execution_count": 82,
   "metadata": {},
   "outputs": [
    {
     "data": {
      "text/plain": [
       "Headline               Kementerian Komunikasi dan Informatika\n",
       "Media                  Kementerian Komunikasi dan Informatika\n",
       "Date                                               16/11/2023\n",
       "url         https://www.kominfo.go.id/content/detail/52976...\n",
       "Name: 95, dtype: object"
      ]
     },
     "execution_count": 82,
     "metadata": {},
     "output_type": "execute_result"
    }
   ],
   "source": [
    "test.iloc[95]"
   ]
  },
  {
   "cell_type": "markdown",
   "metadata": {},
   "source": [
    "# IV. Data Cleaning"
   ]
  },
  {
   "cell_type": "code",
   "execution_count": 41,
   "metadata": {},
   "outputs": [],
   "source": [
    "df = pd.read_csv('./media_datasets/webscrape.csv', delimiter=';')"
   ]
  },
  {
   "cell_type": "markdown",
   "metadata": {},
   "source": [
    "## 4.1 Data Engineering"
   ]
  },
  {
   "cell_type": "code",
   "execution_count": 47,
   "metadata": {},
   "outputs": [
    {
     "data": {
      "text/html": [
       "<div>\n",
       "<style scoped>\n",
       "    .dataframe tbody tr th:only-of-type {\n",
       "        vertical-align: middle;\n",
       "    }\n",
       "\n",
       "    .dataframe tbody tr th {\n",
       "        vertical-align: top;\n",
       "    }\n",
       "\n",
       "    .dataframe thead th {\n",
       "        text-align: right;\n",
       "    }\n",
       "</style>\n",
       "<table border=\"1\" class=\"dataframe\">\n",
       "  <thead>\n",
       "    <tr style=\"text-align: right;\">\n",
       "      <th></th>\n",
       "      <th>judul_berita</th>\n",
       "      <th>portal_media</th>\n",
       "      <th>tanggal_publikasi</th>\n",
       "      <th>url</th>\n",
       "    </tr>\n",
       "  </thead>\n",
       "  <tbody>\n",
       "    <tr>\n",
       "      <th>0</th>\n",
       "      <td>Live Now! Tim Prabowo-Gibran Beberkan Visi-Pro...</td>\n",
       "      <td>CNBC Indonesia</td>\n",
       "      <td>15/11/2023</td>\n",
       "      <td>https://www.cnbcindonesia.com/news/20231115130...</td>\n",
       "    </tr>\n",
       "    <tr>\n",
       "      <th>1</th>\n",
       "      <td>Ratusan Nelayan Jabar Deklarasi Dukung Prabowo...</td>\n",
       "      <td>Politik</td>\n",
       "      <td>15/11/2023</td>\n",
       "      <td>https://politik.rmol.id/read/2023/11/15/597394...</td>\n",
       "    </tr>\n",
       "    <tr>\n",
       "      <th>2</th>\n",
       "      <td>Waketum PAN Analogikan Prabowo-Gibran seperti ...</td>\n",
       "      <td>detikNews</td>\n",
       "      <td>15/11/2023</td>\n",
       "      <td>https://news.detik.com/pemilu/d-7038627/waketu...</td>\n",
       "    </tr>\n",
       "    <tr>\n",
       "      <th>3</th>\n",
       "      <td>Prabowo-Gibran Nomor Urut 2, Gerindra Jatim: P...</td>\n",
       "      <td>Detik</td>\n",
       "      <td>15/11/2023</td>\n",
       "      <td>https://www.detik.com/jatim/berita/d-7038617/p...</td>\n",
       "    </tr>\n",
       "    <tr>\n",
       "      <th>4</th>\n",
       "      <td>Prabowo-Gibran Nomor Urut 2, PAN: Jalan Tengah...</td>\n",
       "      <td>Politik</td>\n",
       "      <td>15/11/2023</td>\n",
       "      <td>https://politik.rmol.id/read/2023/11/15/597367...</td>\n",
       "    </tr>\n",
       "    <tr>\n",
       "      <th>...</th>\n",
       "      <td>...</td>\n",
       "      <td>...</td>\n",
       "      <td>...</td>\n",
       "      <td>...</td>\n",
       "    </tr>\n",
       "    <tr>\n",
       "      <th>2116</th>\n",
       "      <td>Mahfud Md ke Pendukung: Jangan Terpengaruh Has...</td>\n",
       "      <td>detikcom</td>\n",
       "      <td>15/12/2023</td>\n",
       "      <td>https://www.detik.com/jabar/berita/d-7092431/m...</td>\n",
       "    </tr>\n",
       "    <tr>\n",
       "      <th>2117</th>\n",
       "      <td>Alumni HMI Prihatin Banyak Caleg Tak Pasang Fo...</td>\n",
       "      <td>DRberita.ID</td>\n",
       "      <td>15/12/2023</td>\n",
       "      <td>https://www.drberita.id/politik/alumni-hmi-pri...</td>\n",
       "    </tr>\n",
       "    <tr>\n",
       "      <th>2118</th>\n",
       "      <td>Gibran Slated for First Campaign Outside of Java</td>\n",
       "      <td>Jakarta Globe</td>\n",
       "      <td>15/12/2023</td>\n",
       "      <td>https://jakartaglobe.id/news/gibran-slated-for...</td>\n",
       "    </tr>\n",
       "    <tr>\n",
       "      <th>2119</th>\n",
       "      <td>Anies Singgung Soal Oposisi, Prabowo Singgung ...</td>\n",
       "      <td>KOMPAS.tv</td>\n",
       "      <td>15/12/2023</td>\n",
       "      <td>https://www.kompas.tv/video/469419/anies-singg...</td>\n",
       "    </tr>\n",
       "    <tr>\n",
       "      <th>2120</th>\n",
       "      <td>Hari Ini, Ketum PAN Turun Gunung Ke Sumsel</td>\n",
       "      <td>beritapagi</td>\n",
       "      <td>15/12/2023</td>\n",
       "      <td>https://beritapagi.co.id/2023/12/16/hari-ini-k...</td>\n",
       "    </tr>\n",
       "  </tbody>\n",
       "</table>\n",
       "<p>2121 rows × 4 columns</p>\n",
       "</div>"
      ],
      "text/plain": [
       "                                           judul_berita    portal_media  \\\n",
       "0     Live Now! Tim Prabowo-Gibran Beberkan Visi-Pro...  CNBC Indonesia   \n",
       "1     Ratusan Nelayan Jabar Deklarasi Dukung Prabowo...         Politik   \n",
       "2     Waketum PAN Analogikan Prabowo-Gibran seperti ...       detikNews   \n",
       "3     Prabowo-Gibran Nomor Urut 2, Gerindra Jatim: P...           Detik   \n",
       "4     Prabowo-Gibran Nomor Urut 2, PAN: Jalan Tengah...         Politik   \n",
       "...                                                 ...             ...   \n",
       "2116  Mahfud Md ke Pendukung: Jangan Terpengaruh Has...        detikcom   \n",
       "2117  Alumni HMI Prihatin Banyak Caleg Tak Pasang Fo...     DRberita.ID   \n",
       "2118   Gibran Slated for First Campaign Outside of Java   Jakarta Globe   \n",
       "2119  Anies Singgung Soal Oposisi, Prabowo Singgung ...       KOMPAS.tv   \n",
       "2120         Hari Ini, Ketum PAN Turun Gunung Ke Sumsel      beritapagi   \n",
       "\n",
       "     tanggal_publikasi                                                url  \n",
       "0           15/11/2023  https://www.cnbcindonesia.com/news/20231115130...  \n",
       "1           15/11/2023  https://politik.rmol.id/read/2023/11/15/597394...  \n",
       "2           15/11/2023  https://news.detik.com/pemilu/d-7038627/waketu...  \n",
       "3           15/11/2023  https://www.detik.com/jatim/berita/d-7038617/p...  \n",
       "4           15/11/2023  https://politik.rmol.id/read/2023/11/15/597367...  \n",
       "...                ...                                                ...  \n",
       "2116        15/12/2023  https://www.detik.com/jabar/berita/d-7092431/m...  \n",
       "2117        15/12/2023  https://www.drberita.id/politik/alumni-hmi-pri...  \n",
       "2118        15/12/2023  https://jakartaglobe.id/news/gibran-slated-for...  \n",
       "2119        15/12/2023  https://www.kompas.tv/video/469419/anies-singg...  \n",
       "2120        15/12/2023  https://beritapagi.co.id/2023/12/16/hari-ini-k...  \n",
       "\n",
       "[2121 rows x 4 columns]"
      ]
     },
     "execution_count": 47,
     "metadata": {},
     "output_type": "execute_result"
    }
   ],
   "source": [
    "df"
   ]
  },
  {
   "cell_type": "code",
   "execution_count": 44,
   "metadata": {},
   "outputs": [],
   "source": [
    "df.rename(columns={'Headline': 'judul_berita', 'Media': 'portal_media', 'Date': 'tanggal_publikasi'}, inplace=True)"
   ]
  },
  {
   "cell_type": "code",
   "execution_count": 50,
   "metadata": {},
   "outputs": [],
   "source": [
    "df['tanggal_publikasi'] = pd.to_datetime(df['tanggal_publikasi'], format='%d/%m/%Y')"
   ]
  },
  {
   "cell_type": "code",
   "execution_count": 51,
   "metadata": {},
   "outputs": [
    {
     "data": {
      "text/html": [
       "<div>\n",
       "<style scoped>\n",
       "    .dataframe tbody tr th:only-of-type {\n",
       "        vertical-align: middle;\n",
       "    }\n",
       "\n",
       "    .dataframe tbody tr th {\n",
       "        vertical-align: top;\n",
       "    }\n",
       "\n",
       "    .dataframe thead th {\n",
       "        text-align: right;\n",
       "    }\n",
       "</style>\n",
       "<table border=\"1\" class=\"dataframe\">\n",
       "  <thead>\n",
       "    <tr style=\"text-align: right;\">\n",
       "      <th></th>\n",
       "      <th>judul_berita</th>\n",
       "      <th>portal_media</th>\n",
       "      <th>tanggal_publikasi</th>\n",
       "      <th>url</th>\n",
       "    </tr>\n",
       "  </thead>\n",
       "  <tbody>\n",
       "    <tr>\n",
       "      <th>0</th>\n",
       "      <td>Live Now! Tim Prabowo-Gibran Beberkan Visi-Pro...</td>\n",
       "      <td>CNBC Indonesia</td>\n",
       "      <td>2023-11-15</td>\n",
       "      <td>https://www.cnbcindonesia.com/news/20231115130...</td>\n",
       "    </tr>\n",
       "    <tr>\n",
       "      <th>1</th>\n",
       "      <td>Ratusan Nelayan Jabar Deklarasi Dukung Prabowo...</td>\n",
       "      <td>Politik</td>\n",
       "      <td>2023-11-15</td>\n",
       "      <td>https://politik.rmol.id/read/2023/11/15/597394...</td>\n",
       "    </tr>\n",
       "    <tr>\n",
       "      <th>2</th>\n",
       "      <td>Waketum PAN Analogikan Prabowo-Gibran seperti ...</td>\n",
       "      <td>detikNews</td>\n",
       "      <td>2023-11-15</td>\n",
       "      <td>https://news.detik.com/pemilu/d-7038627/waketu...</td>\n",
       "    </tr>\n",
       "    <tr>\n",
       "      <th>3</th>\n",
       "      <td>Prabowo-Gibran Nomor Urut 2, Gerindra Jatim: P...</td>\n",
       "      <td>Detik</td>\n",
       "      <td>2023-11-15</td>\n",
       "      <td>https://www.detik.com/jatim/berita/d-7038617/p...</td>\n",
       "    </tr>\n",
       "    <tr>\n",
       "      <th>4</th>\n",
       "      <td>Prabowo-Gibran Nomor Urut 2, PAN: Jalan Tengah...</td>\n",
       "      <td>Politik</td>\n",
       "      <td>2023-11-15</td>\n",
       "      <td>https://politik.rmol.id/read/2023/11/15/597367...</td>\n",
       "    </tr>\n",
       "    <tr>\n",
       "      <th>...</th>\n",
       "      <td>...</td>\n",
       "      <td>...</td>\n",
       "      <td>...</td>\n",
       "      <td>...</td>\n",
       "    </tr>\n",
       "    <tr>\n",
       "      <th>2116</th>\n",
       "      <td>Mahfud Md ke Pendukung: Jangan Terpengaruh Has...</td>\n",
       "      <td>detikcom</td>\n",
       "      <td>2023-12-15</td>\n",
       "      <td>https://www.detik.com/jabar/berita/d-7092431/m...</td>\n",
       "    </tr>\n",
       "    <tr>\n",
       "      <th>2117</th>\n",
       "      <td>Alumni HMI Prihatin Banyak Caleg Tak Pasang Fo...</td>\n",
       "      <td>DRberita.ID</td>\n",
       "      <td>2023-12-15</td>\n",
       "      <td>https://www.drberita.id/politik/alumni-hmi-pri...</td>\n",
       "    </tr>\n",
       "    <tr>\n",
       "      <th>2118</th>\n",
       "      <td>Gibran Slated for First Campaign Outside of Java</td>\n",
       "      <td>Jakarta Globe</td>\n",
       "      <td>2023-12-15</td>\n",
       "      <td>https://jakartaglobe.id/news/gibran-slated-for...</td>\n",
       "    </tr>\n",
       "    <tr>\n",
       "      <th>2119</th>\n",
       "      <td>Anies Singgung Soal Oposisi, Prabowo Singgung ...</td>\n",
       "      <td>KOMPAS.tv</td>\n",
       "      <td>2023-12-15</td>\n",
       "      <td>https://www.kompas.tv/video/469419/anies-singg...</td>\n",
       "    </tr>\n",
       "    <tr>\n",
       "      <th>2120</th>\n",
       "      <td>Hari Ini, Ketum PAN Turun Gunung Ke Sumsel</td>\n",
       "      <td>beritapagi</td>\n",
       "      <td>2023-12-15</td>\n",
       "      <td>https://beritapagi.co.id/2023/12/16/hari-ini-k...</td>\n",
       "    </tr>\n",
       "  </tbody>\n",
       "</table>\n",
       "<p>2121 rows × 4 columns</p>\n",
       "</div>"
      ],
      "text/plain": [
       "                                           judul_berita    portal_media  \\\n",
       "0     Live Now! Tim Prabowo-Gibran Beberkan Visi-Pro...  CNBC Indonesia   \n",
       "1     Ratusan Nelayan Jabar Deklarasi Dukung Prabowo...         Politik   \n",
       "2     Waketum PAN Analogikan Prabowo-Gibran seperti ...       detikNews   \n",
       "3     Prabowo-Gibran Nomor Urut 2, Gerindra Jatim: P...           Detik   \n",
       "4     Prabowo-Gibran Nomor Urut 2, PAN: Jalan Tengah...         Politik   \n",
       "...                                                 ...             ...   \n",
       "2116  Mahfud Md ke Pendukung: Jangan Terpengaruh Has...        detikcom   \n",
       "2117  Alumni HMI Prihatin Banyak Caleg Tak Pasang Fo...     DRberita.ID   \n",
       "2118   Gibran Slated for First Campaign Outside of Java   Jakarta Globe   \n",
       "2119  Anies Singgung Soal Oposisi, Prabowo Singgung ...       KOMPAS.tv   \n",
       "2120         Hari Ini, Ketum PAN Turun Gunung Ke Sumsel      beritapagi   \n",
       "\n",
       "     tanggal_publikasi                                                url  \n",
       "0           2023-11-15  https://www.cnbcindonesia.com/news/20231115130...  \n",
       "1           2023-11-15  https://politik.rmol.id/read/2023/11/15/597394...  \n",
       "2           2023-11-15  https://news.detik.com/pemilu/d-7038627/waketu...  \n",
       "3           2023-11-15  https://www.detik.com/jatim/berita/d-7038617/p...  \n",
       "4           2023-11-15  https://politik.rmol.id/read/2023/11/15/597367...  \n",
       "...                ...                                                ...  \n",
       "2116        2023-12-15  https://www.detik.com/jabar/berita/d-7092431/m...  \n",
       "2117        2023-12-15  https://www.drberita.id/politik/alumni-hmi-pri...  \n",
       "2118        2023-12-15  https://jakartaglobe.id/news/gibran-slated-for...  \n",
       "2119        2023-12-15  https://www.kompas.tv/video/469419/anies-singg...  \n",
       "2120        2023-12-15  https://beritapagi.co.id/2023/12/16/hari-ini-k...  \n",
       "\n",
       "[2121 rows x 4 columns]"
      ]
     },
     "execution_count": 51,
     "metadata": {},
     "output_type": "execute_result"
    }
   ],
   "source": [
    "df"
   ]
  },
  {
   "cell_type": "code",
   "execution_count": 11,
   "metadata": {},
   "outputs": [
    {
     "name": "stdout",
     "output_type": "stream",
     "text": [
      "<class 'pandas.core.frame.DataFrame'>\n",
      "RangeIndex: 2121 entries, 0 to 2120\n",
      "Data columns (total 4 columns):\n",
      " #   Column             Non-Null Count  Dtype         \n",
      "---  ------             --------------  -----         \n",
      " 0   judul_berita       2121 non-null   object        \n",
      " 1   portal_media       2121 non-null   object        \n",
      " 2   tanggal_publikasi  2121 non-null   datetime64[ns]\n",
      " 3   url                2121 non-null   object        \n",
      "dtypes: datetime64[ns](1), object(3)\n",
      "memory usage: 66.4+ KB\n"
     ]
    }
   ],
   "source": [
    "df.info()"
   ]
  },
  {
   "cell_type": "code",
   "execution_count": 12,
   "metadata": {},
   "outputs": [],
   "source": [
    "df= df[(df['portal_media'] != 'Nasional') & (df['portal_media'] != 'Politik')]"
   ]
  },
  {
   "cell_type": "code",
   "execution_count": 15,
   "metadata": {},
   "outputs": [
    {
     "data": {
      "text/plain": [
       "portal_media\n",
       "detikNews          92\n",
       "Antaranews.com     90\n",
       "KOMPAS.com         87\n",
       "Liputan6.com       62\n",
       "detikcom           54\n",
       "                   ..\n",
       "Tribun Lampung      1\n",
       "suara indonesia     1\n",
       "SuaraSikka          1\n",
       "Lumajang Satu       1\n",
       "DRberita.ID         1\n",
       "Name: count, Length: 525, dtype: int64"
      ]
     },
     "execution_count": 15,
     "metadata": {},
     "output_type": "execute_result"
    }
   ],
   "source": [
    "df['portal_media'].value_counts()"
   ]
  },
  {
   "cell_type": "code",
   "execution_count": 16,
   "metadata": {},
   "outputs": [],
   "source": [
    "df['portal_media'] = df['portal_media'].apply(lambda x: 'Kompas.com' if 'KOMPAS' in x else x)"
   ]
  },
  {
   "cell_type": "code",
   "execution_count": 17,
   "metadata": {},
   "outputs": [],
   "source": [
    "df = media_merge(df,'Kompas', 'Kompas.com')"
   ]
  },
  {
   "cell_type": "code",
   "execution_count": 18,
   "metadata": {},
   "outputs": [],
   "source": [
    "df = media_merge(df,'detik', 'detik.com')"
   ]
  },
  {
   "cell_type": "code",
   "execution_count": 19,
   "metadata": {},
   "outputs": [],
   "source": [
    "df = media_merge(df, 'Tribun', 'TribunNews')"
   ]
  },
  {
   "cell_type": "code",
   "execution_count": 20,
   "metadata": {},
   "outputs": [],
   "source": [
    "df = media_merge(df, 'Detik', 'detik.com')"
   ]
  },
  {
   "cell_type": "code",
   "execution_count": 21,
   "metadata": {},
   "outputs": [],
   "source": [
    "df = media_merge(df, 'Antara News', 'Antaranews.com')"
   ]
  },
  {
   "cell_type": "code",
   "execution_count": 22,
   "metadata": {},
   "outputs": [],
   "source": [
    "df = media_merge(df, 'ANTARA', 'Antaranews.com')"
   ]
  },
  {
   "cell_type": "code",
   "execution_count": 23,
   "metadata": {},
   "outputs": [],
   "source": [
    "df = media_merge(df, 'JPNN', 'JPNN.com')"
   ]
  },
  {
   "cell_type": "markdown",
   "metadata": {},
   "source": [
    "## 4.2 Double Checking"
   ]
  },
  {
   "cell_type": "code",
   "execution_count": 25,
   "metadata": {},
   "outputs": [
    {
     "data": {
      "text/html": [
       "<div>\n",
       "<style scoped>\n",
       "    .dataframe tbody tr th:only-of-type {\n",
       "        vertical-align: middle;\n",
       "    }\n",
       "\n",
       "    .dataframe tbody tr th {\n",
       "        vertical-align: top;\n",
       "    }\n",
       "\n",
       "    .dataframe thead th {\n",
       "        text-align: right;\n",
       "    }\n",
       "</style>\n",
       "<table border=\"1\" class=\"dataframe\">\n",
       "  <thead>\n",
       "    <tr style=\"text-align: right;\">\n",
       "      <th></th>\n",
       "      <th>judul_berita</th>\n",
       "      <th>portal_media</th>\n",
       "      <th>url</th>\n",
       "    </tr>\n",
       "  </thead>\n",
       "  <tbody>\n",
       "    <tr>\n",
       "      <th>count</th>\n",
       "      <td>1986</td>\n",
       "      <td>1986</td>\n",
       "      <td>1986</td>\n",
       "    </tr>\n",
       "    <tr>\n",
       "      <th>unique</th>\n",
       "      <td>1978</td>\n",
       "      <td>456</td>\n",
       "      <td>1986</td>\n",
       "    </tr>\n",
       "    <tr>\n",
       "      <th>top</th>\n",
       "      <td>Kementerian Komunikasi dan Informatika</td>\n",
       "      <td>TribunNews</td>\n",
       "      <td>https://www.cnbcindonesia.com/news/20231115130...</td>\n",
       "    </tr>\n",
       "    <tr>\n",
       "      <th>freq</th>\n",
       "      <td>3</td>\n",
       "      <td>196</td>\n",
       "      <td>1</td>\n",
       "    </tr>\n",
       "  </tbody>\n",
       "</table>\n",
       "</div>"
      ],
      "text/plain": [
       "                                  judul_berita portal_media  \\\n",
       "count                                     1986         1986   \n",
       "unique                                    1978          456   \n",
       "top     Kementerian Komunikasi dan Informatika   TribunNews   \n",
       "freq                                         3          196   \n",
       "\n",
       "                                                      url  \n",
       "count                                                1986  \n",
       "unique                                               1986  \n",
       "top     https://www.cnbcindonesia.com/news/20231115130...  \n",
       "freq                                                    1  "
      ]
     },
     "execution_count": 25,
     "metadata": {},
     "output_type": "execute_result"
    }
   ],
   "source": [
    "df.select_dtypes(include='object').describe()"
   ]
  },
  {
   "cell_type": "code",
   "execution_count": 26,
   "metadata": {},
   "outputs": [
    {
     "data": {
      "text/html": [
       "<div>\n",
       "<style scoped>\n",
       "    .dataframe tbody tr th:only-of-type {\n",
       "        vertical-align: middle;\n",
       "    }\n",
       "\n",
       "    .dataframe tbody tr th {\n",
       "        vertical-align: top;\n",
       "    }\n",
       "\n",
       "    .dataframe thead th {\n",
       "        text-align: right;\n",
       "    }\n",
       "</style>\n",
       "<table border=\"1\" class=\"dataframe\">\n",
       "  <thead>\n",
       "    <tr style=\"text-align: right;\">\n",
       "      <th></th>\n",
       "      <th>judul_berita</th>\n",
       "      <th>portal_media</th>\n",
       "      <th>tanggal_publikasi</th>\n",
       "      <th>url</th>\n",
       "    </tr>\n",
       "  </thead>\n",
       "  <tbody>\n",
       "    <tr>\n",
       "      <th>80</th>\n",
       "      <td>Kementerian Komunikasi dan Informatika</td>\n",
       "      <td>Kementerian Komunikasi dan Informatika</td>\n",
       "      <td>2023-11-16</td>\n",
       "      <td>https://www.kominfo.go.id/content/detail/52963...</td>\n",
       "    </tr>\n",
       "    <tr>\n",
       "      <th>95</th>\n",
       "      <td>Kementerian Komunikasi dan Informatika</td>\n",
       "      <td>Kementerian Komunikasi dan Informatika</td>\n",
       "      <td>2023-11-16</td>\n",
       "      <td>https://www.kominfo.go.id/content/detail/52976...</td>\n",
       "    </tr>\n",
       "    <tr>\n",
       "      <th>893</th>\n",
       "      <td>TKN Prabowo-Gibran dan DKPP RI Kumpulkan PPK d...</td>\n",
       "      <td>TubasMedia.com</td>\n",
       "      <td>2023-12-02</td>\n",
       "      <td>https://tubasmedia.com/tkn-prabowo-gibran-dan-...</td>\n",
       "    </tr>\n",
       "    <tr>\n",
       "      <th>1324</th>\n",
       "      <td>Perempuan Muda Nahdliyin Deklarasi Dukung Prab...</td>\n",
       "      <td>Viva</td>\n",
       "      <td>2023-12-07</td>\n",
       "      <td>https://www.viva.co.id/berita/politik/1665357-...</td>\n",
       "    </tr>\n",
       "    <tr>\n",
       "      <th>1496</th>\n",
       "      <td>Klarifikasi Deklarasi Dukungan Pasangan Prabow...</td>\n",
       "      <td>detik.com</td>\n",
       "      <td>2023-12-09</td>\n",
       "      <td>https://www.detikperistiwa.com/news-619559/kla...</td>\n",
       "    </tr>\n",
       "    <tr>\n",
       "      <th>1497</th>\n",
       "      <td>Relawan Pedagang Indonesia Maju Deklarasi Duku...</td>\n",
       "      <td>Penasultra.com</td>\n",
       "      <td>2023-12-09</td>\n",
       "      <td>https://penasultra.com/relawan-pedagang-indone...</td>\n",
       "    </tr>\n",
       "    <tr>\n",
       "      <th>1740</th>\n",
       "      <td>TKN Prabowo-Gibran Paparkan Kesuksesan Makan S...</td>\n",
       "      <td>HEADLINE KALTIM</td>\n",
       "      <td>2023-12-12</td>\n",
       "      <td>https://headlinekaltim.co/tkn-prabowo-gibran-p...</td>\n",
       "    </tr>\n",
       "    <tr>\n",
       "      <th>2102</th>\n",
       "      <td>Sekali Bicara, Gibran Tak Bisa Bedakan Pilpres...</td>\n",
       "      <td>KBA News</td>\n",
       "      <td>2023-12-15</td>\n",
       "      <td>https://kbanews.com/hot-news/sekali-bicara-gib...</td>\n",
       "    </tr>\n",
       "  </tbody>\n",
       "</table>\n",
       "</div>"
      ],
      "text/plain": [
       "                                           judul_berita  \\\n",
       "80               Kementerian Komunikasi dan Informatika   \n",
       "95               Kementerian Komunikasi dan Informatika   \n",
       "893   TKN Prabowo-Gibran dan DKPP RI Kumpulkan PPK d...   \n",
       "1324  Perempuan Muda Nahdliyin Deklarasi Dukung Prab...   \n",
       "1496  Klarifikasi Deklarasi Dukungan Pasangan Prabow...   \n",
       "1497  Relawan Pedagang Indonesia Maju Deklarasi Duku...   \n",
       "1740  TKN Prabowo-Gibran Paparkan Kesuksesan Makan S...   \n",
       "2102  Sekali Bicara, Gibran Tak Bisa Bedakan Pilpres...   \n",
       "\n",
       "                                portal_media tanggal_publikasi  \\\n",
       "80    Kementerian Komunikasi dan Informatika        2023-11-16   \n",
       "95    Kementerian Komunikasi dan Informatika        2023-11-16   \n",
       "893                           TubasMedia.com        2023-12-02   \n",
       "1324                                    Viva        2023-12-07   \n",
       "1496                               detik.com        2023-12-09   \n",
       "1497                          Penasultra.com        2023-12-09   \n",
       "1740                         HEADLINE KALTIM        2023-12-12   \n",
       "2102                                KBA News        2023-12-15   \n",
       "\n",
       "                                                    url  \n",
       "80    https://www.kominfo.go.id/content/detail/52963...  \n",
       "95    https://www.kominfo.go.id/content/detail/52976...  \n",
       "893   https://tubasmedia.com/tkn-prabowo-gibran-dan-...  \n",
       "1324  https://www.viva.co.id/berita/politik/1665357-...  \n",
       "1496  https://www.detikperistiwa.com/news-619559/kla...  \n",
       "1497  https://penasultra.com/relawan-pedagang-indone...  \n",
       "1740  https://headlinekaltim.co/tkn-prabowo-gibran-p...  \n",
       "2102  https://kbanews.com/hot-news/sekali-bicara-gib...  "
      ]
     },
     "execution_count": 26,
     "metadata": {},
     "output_type": "execute_result"
    }
   ],
   "source": [
    "df[df['judul_berita'].duplicated()]"
   ]
  },
  {
   "cell_type": "code",
   "execution_count": 27,
   "metadata": {},
   "outputs": [
    {
     "data": {
      "text/html": [
       "<div>\n",
       "<style scoped>\n",
       "    .dataframe tbody tr th:only-of-type {\n",
       "        vertical-align: middle;\n",
       "    }\n",
       "\n",
       "    .dataframe tbody tr th {\n",
       "        vertical-align: top;\n",
       "    }\n",
       "\n",
       "    .dataframe thead th {\n",
       "        text-align: right;\n",
       "    }\n",
       "</style>\n",
       "<table border=\"1\" class=\"dataframe\">\n",
       "  <thead>\n",
       "    <tr style=\"text-align: right;\">\n",
       "      <th></th>\n",
       "      <th>portal_media</th>\n",
       "      <th>count</th>\n",
       "    </tr>\n",
       "  </thead>\n",
       "  <tbody>\n",
       "    <tr>\n",
       "      <th>0</th>\n",
       "      <td>TribunNews</td>\n",
       "      <td>196</td>\n",
       "    </tr>\n",
       "    <tr>\n",
       "      <th>1</th>\n",
       "      <td>detik.com</td>\n",
       "      <td>194</td>\n",
       "    </tr>\n",
       "    <tr>\n",
       "      <th>2</th>\n",
       "      <td>Kompas.com</td>\n",
       "      <td>171</td>\n",
       "    </tr>\n",
       "    <tr>\n",
       "      <th>3</th>\n",
       "      <td>Antaranews.com</td>\n",
       "      <td>150</td>\n",
       "    </tr>\n",
       "    <tr>\n",
       "      <th>4</th>\n",
       "      <td>Liputan6.com</td>\n",
       "      <td>62</td>\n",
       "    </tr>\n",
       "  </tbody>\n",
       "</table>\n",
       "</div>"
      ],
      "text/plain": [
       "     portal_media  count\n",
       "0      TribunNews    196\n",
       "1       detik.com    194\n",
       "2      Kompas.com    171\n",
       "3  Antaranews.com    150\n",
       "4    Liputan6.com     62"
      ]
     },
     "execution_count": 27,
     "metadata": {},
     "output_type": "execute_result"
    }
   ],
   "source": [
    "df['portal_media'].value_counts().reset_index().head(5)"
   ]
  },
  {
   "cell_type": "code",
   "execution_count": 29,
   "metadata": {},
   "outputs": [],
   "source": [
    "df.to_csv('./media_datasets/cleaned_media.csv', index=False)"
   ]
  },
  {
   "cell_type": "markdown",
   "metadata": {},
   "source": [
    "# V. Conclusion"
   ]
  },
  {
   "cell_type": "markdown",
   "metadata": {},
   "source": [
    "The web scraping process for Google Search was executed seamlessly with the implementation of Selenium and BeautifulSoup. The code underwent specific adjustments to target and extract the precise day of publication, as opposed to a broader range of days. This modification ensures accurate date retrieval, accommodating Google's varied descriptions such as \"1 week ago,\" \"2 weeks ago,\" \"1 month ago,\" and for instances within the last week, \"1 day ago,\" \"2 days ago,\" and so forth. The data has been meticulously engineered to aggregate media divisions under their respective parent categories."
   ]
  }
 ],
 "metadata": {
  "kernelspec": {
   "display_name": "main",
   "language": "python",
   "name": "python3"
  },
  "language_info": {
   "codemirror_mode": {
    "name": "ipython",
    "version": 3
   },
   "file_extension": ".py",
   "mimetype": "text/x-python",
   "name": "python",
   "nbconvert_exporter": "python",
   "pygments_lexer": "ipython3",
   "version": "3.9.18"
  }
 },
 "nbformat": 4,
 "nbformat_minor": 2
}
